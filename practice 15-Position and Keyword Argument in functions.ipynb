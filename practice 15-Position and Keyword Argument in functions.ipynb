{
 "cells": [
  {
   "cell_type": "markdown",
   "id": "18d27ac4-af10-453f-a5b1-a10e65cd3159",
   "metadata": {},
   "source": [
    "### Tutorial 16-Position and Keyword Argument in functions\n",
    "\n"
   ]
  },
  {
   "cell_type": "code",
   "execution_count": 1,
   "id": "aadb8647-e363-4e85-b1db-6be60a1e0943",
   "metadata": {},
   "outputs": [
    {
     "name": "stdout",
     "output_type": "stream",
     "text": [
      "helloDawayou are25year old\n"
     ]
    }
   ],
   "source": [
    "def hello(name,age):\n",
    "    print(\"hello\"+name+\"you are\"+str(age)+\"year old\")\n",
    "\n",
    "\n",
    "hello(\"Dawa\",25)"
   ]
  },
  {
   "cell_type": "code",
   "execution_count": 6,
   "id": "60457fed-9ad8-499e-8a38-3b4e90bc7dd3",
   "metadata": {},
   "outputs": [],
   "source": [
    "def hello(name, age, dob):\n",
    "    print(f\"Name: {name}, Age: {age}, DOB: {dob}\")\n"
   ]
  },
  {
   "cell_type": "code",
   "execution_count": 10,
   "id": "abe42d29-3167-446c-a33f-bf762eb01646",
   "metadata": {},
   "outputs": [
    {
     "ename": "TypeError",
     "evalue": "hello() got multiple values for argument 'age'",
     "output_type": "error",
     "traceback": [
      "\u001b[1;31m---------------------------------------------------------------------------\u001b[0m",
      "\u001b[1;31mTypeError\u001b[0m                                 Traceback (most recent call last)",
      "Cell \u001b[1;32mIn[10], line 4\u001b[0m\n\u001b[0;32m      1\u001b[0m lst \u001b[38;5;241m=\u001b[39m \u001b[38;5;28mlist\u001b[39m((\u001b[38;5;124m'\u001b[39m\u001b[38;5;124mdawa\u001b[39m\u001b[38;5;124m'\u001b[39m, \u001b[38;5;124m'\u001b[39m\u001b[38;5;124mGhising\u001b[39m\u001b[38;5;124m'\u001b[39m))  \u001b[38;5;66;03m# ['Krish', 'Naik']\u001b[39;00m\n\u001b[0;32m      2\u001b[0m dict_val \u001b[38;5;241m=\u001b[39m {\u001b[38;5;124m'\u001b[39m\u001b[38;5;124mage\u001b[39m\u001b[38;5;124m'\u001b[39m: \u001b[38;5;241m26\u001b[39m, \u001b[38;5;124m'\u001b[39m\u001b[38;5;124mdob\u001b[39m\u001b[38;5;124m'\u001b[39m: \u001b[38;5;241m1998\u001b[39m}\n\u001b[1;32m----> 4\u001b[0m \u001b[43mhello\u001b[49m\u001b[43m(\u001b[49m\u001b[38;5;241;43m*\u001b[39;49m\u001b[43mlst\u001b[49m\u001b[43m,\u001b[49m\u001b[43m \u001b[49m\u001b[38;5;241;43m*\u001b[39;49m\u001b[38;5;241;43m*\u001b[39;49m\u001b[43mdict_val\u001b[49m\u001b[43m)\u001b[49m  \u001b[38;5;66;03m# This is causing the issue\u001b[39;00m\n\u001b[0;32m      5\u001b[0m hello(\u001b[38;5;124m'\u001b[39m\u001b[38;5;124mdawa\u001b[39m\u001b[38;5;124m'\u001b[39m, \u001b[38;5;124m'\u001b[39m\u001b[38;5;124mghising\u001b[39m\u001b[38;5;124m'\u001b[39m, age\u001b[38;5;241m=\u001b[39m\u001b[38;5;241m26\u001b[39m, dob\u001b[38;5;241m=\u001b[39m\u001b[38;5;241m1998\u001b[39m)\n",
      "\u001b[1;31mTypeError\u001b[0m: hello() got multiple values for argument 'age'"
     ]
    }
   ],
   "source": [
    "lst = list(('dawa', 'Ghising'))  # ['Krish', 'Naik']\n",
    "dict_val = {'age': 26, 'dob': 1998}\n",
    "\n",
    "hello(*lst, **dict_val)  # This is causing the issue\n",
    "hello('dawa', 'ghising', age=26, dob=1998)\n"
   ]
  },
  {
   "cell_type": "code",
   "execution_count": 12,
   "id": "ea959621-b21b-4a9b-a492-534727fe6727",
   "metadata": {},
   "outputs": [
    {
     "name": "stdout",
     "output_type": "stream",
     "text": [
      "Name: Dawa, Age: 26, DOB: 1998\n"
     ]
    }
   ],
   "source": [
    "def hello(name, age, dob):\n",
    "    print(f\"Name: {name}, Age: {age}, DOB: {dob}\")\n",
    "\n",
    "lst = ['Dawa']\n",
    "dict_val = {'age': 26, 'dob': 1998}\n",
    "\n",
    "hello(*lst, **dict_val)\n",
    "\n"
   ]
  },
  {
   "cell_type": "code",
   "execution_count": null,
   "id": "a78ff99a-87fb-4936-bf90-51928e5884c9",
   "metadata": {},
   "outputs": [],
   "source": []
  },
  {
   "cell_type": "code",
   "execution_count": null,
   "id": "f1b46c55-d2e7-441a-84d6-4525caeeb9a8",
   "metadata": {},
   "outputs": [],
   "source": []
  },
  {
   "cell_type": "code",
   "execution_count": 13,
   "id": "7cc25954-d7f1-4c08-9fbf-6cfc5d08930c",
   "metadata": {},
   "outputs": [
    {
     "name": "stdout",
     "output_type": "stream",
     "text": [
      "('Krish', 'Naik', '1', '2', '1989')\n",
      "{'age': 12, 'dob': 1989}\n"
     ]
    }
   ],
   "source": [
    "hello(\"Krish\",\"Naik\",\"1\",\"2\",\"1989\",age=12,dob=1989)"
   ]
  },
  {
   "cell_type": "code",
   "execution_count": null,
   "id": "640e70b2-eff9-4ec1-a793-30595c683e73",
   "metadata": {},
   "outputs": [],
   "source": []
  }
 ],
 "metadata": {
  "kernelspec": {
   "display_name": "Python 3 (ipykernel)",
   "language": "python",
   "name": "python3"
  },
  "language_info": {
   "codemirror_mode": {
    "name": "ipython",
    "version": 3
   },
   "file_extension": ".py",
   "mimetype": "text/x-python",
   "name": "python",
   "nbconvert_exporter": "python",
   "pygments_lexer": "ipython3",
   "version": "3.12.4"
  }
 },
 "nbformat": 4,
 "nbformat_minor": 5
}
