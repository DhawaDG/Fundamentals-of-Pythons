{
 "cells": [
  {
   "cell_type": "markdown",
   "id": "26f12b15-7f7c-4a95-bdcc-c1a66485fefd",
   "metadata": {},
   "source": [
    "### Tutorial 18- Multiple Constructors in Python"
   ]
  },
  {
   "cell_type": "code",
   "execution_count": 1,
   "id": "c845e843-eecb-454e-946b-c0e6e71c51d5",
   "metadata": {},
   "outputs": [],
   "source": [
    "class Animal:\n",
    "    def __init__(self,name,species):\n",
    "        self.name=name\n",
    "        self.species=species\n",
    "\n",
    "    def __init__(self,name,species,age):\n",
    "        self.name=name\n",
    "        self.species=species\n",
    "        self.age=age\n",
    "\n",
    "    def make_sound(self,sound):\n",
    "        return \"The animal is {} and says {}\".format(self.name,sound)\n",
    "\n"
   ]
  },
  {
   "cell_type": "code",
   "execution_count": 4,
   "id": "b8e57635-5760-478d-b258-ec663beb1574",
   "metadata": {},
   "outputs": [
    {
     "ename": "TypeError",
     "evalue": "Animal.__init__() missing 1 required positional argument: 'age'",
     "output_type": "error",
     "traceback": [
      "\u001b[1;31m---------------------------------------------------------------------------\u001b[0m",
      "\u001b[1;31mTypeError\u001b[0m                                 Traceback (most recent call last)",
      "Cell \u001b[1;32mIn[4], line 1\u001b[0m\n\u001b[1;32m----> 1\u001b[0m dog\u001b[38;5;241m=\u001b[39m\u001b[43mAnimal\u001b[49m\u001b[43m(\u001b[49m\u001b[38;5;124;43m\"\u001b[39;49m\u001b[38;5;124;43mdog\u001b[39;49m\u001b[38;5;124;43m\"\u001b[39;49m\u001b[43m,\u001b[49m\u001b[38;5;124;43m\"\u001b[39;49m\u001b[38;5;124;43mmammals\u001b[39;49m\u001b[38;5;124;43m\"\u001b[39;49m\u001b[43m)\u001b[49m\n\u001b[0;32m      2\u001b[0m \u001b[38;5;28mprint\u001b[39m(dog)\n",
      "\u001b[1;31mTypeError\u001b[0m: Animal.__init__() missing 1 required positional argument: 'age'"
     ]
    }
   ],
   "source": [
    "dog=Animal(\"dog\",\"mammals\")\n",
    "print(dog)"
   ]
  },
  {
   "cell_type": "code",
   "execution_count": 5,
   "id": "70d66477-3825-42db-ae3d-aa61de066add",
   "metadata": {},
   "outputs": [
    {
     "name": "stdout",
     "output_type": "stream",
     "text": [
      "<__main__.Animal object at 0x00000229D2BDF740>\n"
     ]
    }
   ],
   "source": [
    "dog=Animal(\"dog\",\"mammals\",12)\n",
    "print(dog)"
   ]
  },
  {
   "cell_type": "code",
   "execution_count": 8,
   "id": "b3c7ab71-09d9-4d4b-a5af-bcd0023b8fa2",
   "metadata": {},
   "outputs": [],
   "source": [
    "class Animal:\n",
    "    def __init__(self,*args):\n",
    "        if len(args)==1:\n",
    "            self.name=args[0]\n",
    "        elif len(args)==2:\n",
    "            self.name=args[0]\n",
    "            self.species=args[1]\n",
    "        elif len(args)==3:\n",
    "            self.name=args[0]\n",
    "            self.species=args[1]\n",
    "            self.age=args[2]\n",
    "\n",
    "def make_sound(self,sound):\n",
    "    return \"The animal is {} and says {}\".format(self.name,sound)"
   ]
  },
  {
   "cell_type": "code",
   "execution_count": 12,
   "id": "ca936cae-9ea1-4cd9-a74c-7205343f31d9",
   "metadata": {},
   "outputs": [
    {
     "name": "stdout",
     "output_type": "stream",
     "text": [
      "dog\n",
      "mammals\n",
      "17\n"
     ]
    },
    {
     "ename": "AttributeError",
     "evalue": "'Animal' object has no attribute 'make_sound'",
     "output_type": "error",
     "traceback": [
      "\u001b[1;31m---------------------------------------------------------------------------\u001b[0m",
      "\u001b[1;31mAttributeError\u001b[0m                            Traceback (most recent call last)",
      "Cell \u001b[1;32mIn[12], line 5\u001b[0m\n\u001b[0;32m      3\u001b[0m \u001b[38;5;28mprint\u001b[39m(dog\u001b[38;5;241m.\u001b[39mspecies)\n\u001b[0;32m      4\u001b[0m \u001b[38;5;28mprint\u001b[39m(dog\u001b[38;5;241m.\u001b[39mage)\n\u001b[1;32m----> 5\u001b[0m \u001b[38;5;28mprint\u001b[39m(\u001b[43mdog\u001b[49m\u001b[38;5;241;43m.\u001b[39;49m\u001b[43mmake_sound\u001b[49m(\u001b[38;5;124m\"\u001b[39m\u001b[38;5;124mwoff woff\u001b[39m\u001b[38;5;124m\"\u001b[39m))\n",
      "\u001b[1;31mAttributeError\u001b[0m: 'Animal' object has no attribute 'make_sound'"
     ]
    }
   ],
   "source": [
    "dog=Animal(\"dog\",\"mammals\",17)\n",
    "print(dog.name)\n",
    "print(dog.species)\n",
    "print(dog.age)\n",
    "print(dog.make_sound(\"woff woff\"))"
   ]
  },
  {
   "cell_type": "code",
   "execution_count": 13,
   "id": "2b1433f7-e293-4674-ae54-9135e99e4ee0",
   "metadata": {},
   "outputs": [
    {
     "name": "stdout",
     "output_type": "stream",
     "text": [
      "dog\n",
      "mammals\n",
      "17\n",
      "The animal dog says woff woff\n"
     ]
    }
   ],
   "source": [
    "class Animal:\n",
    "    def __init__(self, *args):\n",
    "        # Set attributes based on the number of arguments\n",
    "        if len(args) >= 1:\n",
    "            self.name = args[0]\n",
    "        else:\n",
    "            self.name = None\n",
    "        if len(args) >= 2:\n",
    "            self.species = args[1]\n",
    "        else:\n",
    "            self.species = None\n",
    "        if len(args) == 3:\n",
    "            self.age = args[2]\n",
    "        else:\n",
    "            self.age = None\n",
    "\n",
    "    def make_sound(self, sound):\n",
    "        return \"The animal {} says {}\".format(self.name, sound)\n",
    "\n",
    "# Example usage:\n",
    "dog = Animal(\"dog\", \"mammals\", 17)\n",
    "print(dog.name)       # Output: dog\n",
    "print(dog.species)    # Output: mammals\n",
    "print(dog.age)        # Output: 17\n",
    "print(dog.make_sound(\"woff woff\"))  # Output: The animal dog says woff woff\n"
   ]
  },
  {
   "cell_type": "code",
   "execution_count": null,
   "id": "d45230da-526c-43fd-976f-1db992cd0502",
   "metadata": {},
   "outputs": [],
   "source": []
  }
 ],
 "metadata": {
  "kernelspec": {
   "display_name": "Python 3 (ipykernel)",
   "language": "python",
   "name": "python3"
  },
  "language_info": {
   "codemirror_mode": {
    "name": "ipython",
    "version": 3
   },
   "file_extension": ".py",
   "mimetype": "text/x-python",
   "name": "python",
   "nbconvert_exporter": "python",
   "pygments_lexer": "ipython3",
   "version": "3.12.4"
  }
 },
 "nbformat": 4,
 "nbformat_minor": 5
}
