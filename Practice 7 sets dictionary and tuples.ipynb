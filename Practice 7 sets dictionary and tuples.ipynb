{
 "cells": [
  {
   "cell_type": "markdown",
   "id": "f7f5cba5-05f7-46ac-8088-55b612c29807",
   "metadata": {},
   "source": [
    "### tutorial 7 sets dictionary and tuples"
   ]
  },
  {
   "cell_type": "markdown",
   "id": "546b3885-4128-46a1-8b47-8ca2c5272d19",
   "metadata": {},
   "source": [
    "### SETS"
   ]
  },
  {
   "cell_type": "markdown",
   "id": "724d5362-e0b4-4e2d-9cd9-70d2450818e4",
   "metadata": {},
   "source": [
    "A sets is an unordered collection data type that is iterable, mutable, and has no duplicate elements.\n",
    "python's set class represents the mathematical nation of a set. This is based on a data structure known\n",
    "as a hash table."
   ]
  },
  {
   "cell_type": "code",
   "execution_count": 1,
   "id": "15b38bc8-2f42-4dc5-af5f-6afd9f111eb4",
   "metadata": {},
   "outputs": [
    {
     "name": "stdout",
     "output_type": "stream",
     "text": [
      "set()\n",
      "<class 'set'>\n"
     ]
    }
   ],
   "source": [
    "## Defining an empty set\n",
    "\n",
    "set_var=set()\n",
    "print(set_var)\n",
    "print(type(set_var))"
   ]
  },
  {
   "cell_type": "code",
   "execution_count": 2,
   "id": "188ba47e-9386-4b0b-be92-af48df6a8c60",
   "metadata": {},
   "outputs": [
    {
     "data": {
      "text/plain": [
       "set"
      ]
     },
     "execution_count": 2,
     "metadata": {},
     "output_type": "execute_result"
    }
   ],
   "source": [
    "type({1,2,3,4,5,'Krish'})"
   ]
  },
  {
   "cell_type": "code",
   "execution_count": 3,
   "id": "51f2d100-fb8c-4199-b13b-cd99fe755942",
   "metadata": {},
   "outputs": [
    {
     "name": "stdout",
     "output_type": "stream",
     "text": [
      "{1, 2, 3, 4, 5}\n"
     ]
    }
   ],
   "source": [
    "print(set([1,2,3,4,5,5])) #has no duplicate elements"
   ]
  },
  {
   "cell_type": "code",
   "execution_count": 4,
   "id": "f23f180d-8b4d-4110-a78f-51ba52787e83",
   "metadata": {},
   "outputs": [
    {
     "name": "stdout",
     "output_type": "stream",
     "text": [
      "{'Avengers', 'Hitman', 'IronMan'}\n"
     ]
    },
    {
     "data": {
      "text/plain": [
       "set"
      ]
     },
     "execution_count": 4,
     "metadata": {},
     "output_type": "execute_result"
    }
   ],
   "source": [
    "set_var={\"Avengers\",\"IronMan\",'Hitman'}\n",
    "print(set_var)\n",
    "type(set_var)"
   ]
  },
  {
   "cell_type": "code",
   "execution_count": 5,
   "id": "3763b974-0c90-4590-8390-a4e95033b05e",
   "metadata": {},
   "outputs": [
    {
     "data": {
      "text/plain": [
       "3"
      ]
     },
     "execution_count": 5,
     "metadata": {},
     "output_type": "execute_result"
    }
   ],
   "source": [
    "# list is subscribable and set is not subscrible, note- set cont perform indexing and cant assign value\n",
    "List_var=[1,2,3,4,5,6]\n",
    "List_var[2]"
   ]
  },
  {
   "cell_type": "code",
   "execution_count": 6,
   "id": "5602ba7e-35b1-43fd-8e87-346e8550d7d8",
   "metadata": {},
   "outputs": [
    {
     "ename": "TypeError",
     "evalue": "'set' object is not subscriptable",
     "output_type": "error",
     "traceback": [
      "\u001b[1;31m---------------------------------------------------------------------------\u001b[0m",
      "\u001b[1;31mTypeError\u001b[0m                                 Traceback (most recent call last)",
      "Cell \u001b[1;32mIn[6], line 2\u001b[0m\n\u001b[0;32m      1\u001b[0m set_val\u001b[38;5;241m=\u001b[39m({\u001b[38;5;241m1\u001b[39m,\u001b[38;5;241m2\u001b[39m,\u001b[38;5;241m3\u001b[39m,\u001b[38;5;241m4\u001b[39m,\u001b[38;5;241m5\u001b[39m,\u001b[38;5;124m'\u001b[39m\u001b[38;5;124mKrish\u001b[39m\u001b[38;5;124m'\u001b[39m})\n\u001b[1;32m----> 2\u001b[0m \u001b[43mset_val\u001b[49m\u001b[43m[\u001b[49m\u001b[38;5;241;43m5\u001b[39;49m\u001b[43m]\u001b[49m\n",
      "\u001b[1;31mTypeError\u001b[0m: 'set' object is not subscriptable"
     ]
    }
   ],
   "source": [
    "set_val=({1,2,3,4,5,'Krish'})\n",
    "set_val[5]"
   ]
  },
  {
   "cell_type": "code",
   "execution_count": 7,
   "id": "9e00edb4-5199-4a5e-87ea-42a364400a15",
   "metadata": {},
   "outputs": [
    {
     "ename": "NameError",
     "evalue": "name 'set_val1' is not defined",
     "output_type": "error",
     "traceback": [
      "\u001b[1;31m---------------------------------------------------------------------------\u001b[0m",
      "\u001b[1;31mNameError\u001b[0m                                 Traceback (most recent call last)",
      "Cell \u001b[1;32mIn[7], line 2\u001b[0m\n\u001b[0;32m      1\u001b[0m set_val\u001b[38;5;241m=\u001b[39m({\u001b[38;5;241m1\u001b[39m,\u001b[38;5;241m2\u001b[39m,\u001b[38;5;241m3\u001b[39m,\u001b[38;5;241m4\u001b[39m,\u001b[38;5;241m5\u001b[39m,\u001b[38;5;241m6\u001b[39m,\u001b[38;5;241m7\u001b[39m,\u001b[38;5;241m8\u001b[39m,\u001b[38;5;241m9\u001b[39m})\n\u001b[1;32m----> 2\u001b[0m \u001b[43mset_val1\u001b[49m[\u001b[38;5;241m3\u001b[39m]\n",
      "\u001b[1;31mNameError\u001b[0m: name 'set_val1' is not defined"
     ]
    }
   ],
   "source": [
    "set_val=({1,2,3,4,5,6,7,8,9})\n",
    "set_val1[3]"
   ]
  },
  {
   "cell_type": "code",
   "execution_count": 8,
   "id": "2e2f2eda-7047-48d1-9d1b-c59d64c5276c",
   "metadata": {},
   "outputs": [],
   "source": [
    "#inbuilt_function in sets\n",
    "set_val.add('dawa')\n"
   ]
  },
  {
   "cell_type": "code",
   "execution_count": 9,
   "id": "41302dce-83f1-4a9b-99ab-13fdc446b80f",
   "metadata": {},
   "outputs": [
    {
     "data": {
      "text/plain": [
       "{1, 2, 3, 4, 5, 6, 7, 8, 9, 'dawa'}"
      ]
     },
     "execution_count": 9,
     "metadata": {},
     "output_type": "execute_result"
    }
   ],
   "source": [
    "set_val"
   ]
  },
  {
   "cell_type": "code",
   "execution_count": 10,
   "id": "35590d5e-ecdc-470d-bb81-03be8f4ad3b5",
   "metadata": {},
   "outputs": [],
   "source": [
    "set_val.add(0)"
   ]
  },
  {
   "cell_type": "code",
   "execution_count": 11,
   "id": "560b3cd1-5fbe-4a61-ab79-dab918f79d1f",
   "metadata": {},
   "outputs": [
    {
     "data": {
      "text/plain": [
       "{0, 1, 2, 3, 4, 5, 6, 7, 8, 9, 'dawa'}"
      ]
     },
     "execution_count": 11,
     "metadata": {},
     "output_type": "execute_result"
    }
   ],
   "source": [
    "set_val"
   ]
  },
  {
   "cell_type": "code",
   "execution_count": 12,
   "id": "757f5828-e23f-4c66-8e27-ffa6415d1b77",
   "metadata": {},
   "outputs": [
    {
     "data": {
      "text/plain": [
       "{'Avengers', 'Hitman', 'IronMan'}"
      ]
     },
     "execution_count": 12,
     "metadata": {},
     "output_type": "execute_result"
    }
   ],
   "source": [
    "set_var"
   ]
  },
  {
   "cell_type": "code",
   "execution_count": 13,
   "id": "97721d53-a391-4fa4-a273-96b75087608c",
   "metadata": {},
   "outputs": [],
   "source": [
    "set_var.add('Dawa')"
   ]
  },
  {
   "cell_type": "code",
   "execution_count": 14,
   "id": "0cc61709-bd9c-48ad-aa06-dc3277fc8aa5",
   "metadata": {},
   "outputs": [
    {
     "data": {
      "text/plain": [
       "{'Avengers', 'Dawa', 'Hitman', 'IronMan'}"
      ]
     },
     "execution_count": 14,
     "metadata": {},
     "output_type": "execute_result"
    }
   ],
   "source": [
    "set_var #ordered collection"
   ]
  },
  {
   "cell_type": "code",
   "execution_count": 15,
   "id": "aa70a39e-c7ad-4963-a90d-74e127fbaf38",
   "metadata": {},
   "outputs": [],
   "source": [
    "#intersection function\n",
    "set1={\"Avengers\",\"IronMan\",'Hitman'}\n",
    "set2={\"Avengers\",\"IronMan\",'Hitman','Hulk2'}"
   ]
  },
  {
   "cell_type": "code",
   "execution_count": 16,
   "id": "30a5089f-f464-4205-9558-3353558c9a2f",
   "metadata": {},
   "outputs": [
    {
     "data": {
      "text/plain": [
       "{'Avengers', 'Hitman', 'IronMan'}"
      ]
     },
     "execution_count": 16,
     "metadata": {},
     "output_type": "execute_result"
    }
   ],
   "source": [
    "set2.intersection(set1)"
   ]
  },
  {
   "cell_type": "code",
   "execution_count": 17,
   "id": "9b1cb3e8-71fe-426f-b0f3-c8d47061558c",
   "metadata": {},
   "outputs": [
    {
     "data": {
      "text/plain": [
       "{'Avengers', 'Hitman', 'Hulk2', 'IronMan'}"
      ]
     },
     "execution_count": 17,
     "metadata": {},
     "output_type": "execute_result"
    }
   ],
   "source": [
    "set2"
   ]
  },
  {
   "cell_type": "code",
   "execution_count": 18,
   "id": "d31c395a-f28f-40be-bfe1-9873474248b8",
   "metadata": {},
   "outputs": [],
   "source": [
    "set2.intersection_update(set1)\n"
   ]
  },
  {
   "cell_type": "code",
   "execution_count": 19,
   "id": "0da2be84-29b1-4bb1-8fd7-3ebf43049baf",
   "metadata": {},
   "outputs": [
    {
     "data": {
      "text/plain": [
       "{'Avengers', 'Hitman', 'IronMan'}"
      ]
     },
     "execution_count": 19,
     "metadata": {},
     "output_type": "execute_result"
    }
   ],
   "source": [
    "set2"
   ]
  },
  {
   "cell_type": "code",
   "execution_count": 20,
   "id": "da3a4cae-c81d-4074-b56a-994b0fef0e41",
   "metadata": {},
   "outputs": [
    {
     "data": {
      "text/plain": [
       "{'Avengers', 'Hitman', 'IronMan'}"
      ]
     },
     "execution_count": 20,
     "metadata": {},
     "output_type": "execute_result"
    }
   ],
   "source": [
    "#difference\n",
    "set2.difference(set1)\n",
    "set2"
   ]
  },
  {
   "cell_type": "code",
   "execution_count": 23,
   "id": "179bf0dc-dfbd-4369-bff5-a8d1fac03dbb",
   "metadata": {},
   "outputs": [],
   "source": [
    "set2.difference_update(set1)"
   ]
  },
  {
   "cell_type": "markdown",
   "id": "d9e1ede3-cf8a-432d-b77e-ef944564494b",
   "metadata": {},
   "source": [
    "set2"
   ]
  },
  {
   "cell_type": "markdown",
   "id": "066c4255-c84e-4989-9e7d-49e03b697c2e",
   "metadata": {},
   "source": [
    "### Dictionary"
   ]
  },
  {
   "cell_type": "markdown",
   "id": "27915b68-6fc7-464f-98c6-f977042fc125",
   "metadata": {},
   "source": [
    "A dictionary is a collection which is unordered, changeable and indexed. In  python dictionaries\n",
    "are written with curly brackets, and they have keys and values\n"
   ]
  },
  {
   "cell_type": "code",
   "execution_count": 26,
   "id": "ac7e76c8-df25-42a5-9386-ec6c1c9c3914",
   "metadata": {},
   "outputs": [],
   "source": [
    "dic={}"
   ]
  },
  {
   "cell_type": "code",
   "execution_count": 27,
   "id": "8c256e60-321c-4c0d-a07f-a78f1e36620b",
   "metadata": {},
   "outputs": [
    {
     "data": {
      "text/plain": [
       "dict"
      ]
     },
     "execution_count": 27,
     "metadata": {},
     "output_type": "execute_result"
    }
   ],
   "source": [
    "type(dic)"
   ]
  },
  {
   "cell_type": "code",
   "execution_count": 28,
   "id": "3cdf6520-2ed6-490a-b914-2f693b5157a4",
   "metadata": {},
   "outputs": [
    {
     "data": {
      "text/plain": [
       "dict"
      ]
     },
     "execution_count": 28,
     "metadata": {},
     "output_type": "execute_result"
    }
   ],
   "source": [
    "type({})"
   ]
  },
  {
   "cell_type": "code",
   "execution_count": 29,
   "id": "2724b83c-de6c-4f44-9a15-b9d699c76c86",
   "metadata": {},
   "outputs": [
    {
     "data": {
      "text/plain": [
       "set"
      ]
     },
     "execution_count": 29,
     "metadata": {},
     "output_type": "execute_result"
    }
   ],
   "source": [
    "type({1})"
   ]
  },
  {
   "cell_type": "code",
   "execution_count": 30,
   "id": "c00bff1c-bac4-49fd-bb5a-c99b0d171629",
   "metadata": {},
   "outputs": [
    {
     "data": {
      "text/plain": [
       "dict"
      ]
     },
     "execution_count": 30,
     "metadata": {},
     "output_type": "execute_result"
    }
   ],
   "source": [
    "type({1:\"krish\"})"
   ]
  },
  {
   "cell_type": "code",
   "execution_count": 31,
   "id": "528e3682-89eb-4dc2-a390-852edb3d8c2b",
   "metadata": {},
   "outputs": [
    {
     "data": {
      "text/plain": [
       "{'name': 'krish', 'age': 31, 'last_name': 'naik'}"
      ]
     },
     "execution_count": 31,
     "metadata": {},
     "output_type": "execute_result"
    }
   ],
   "source": [
    "dict(name=\"krish\",age=31,last_name=\"naik\")"
   ]
  },
  {
   "cell_type": "code",
   "execution_count": 36,
   "id": "fd456c2f-a5e1-40a8-b649-a29d532f08fa",
   "metadata": {},
   "outputs": [],
   "source": [
    "#let create a dictionary \n",
    "my_dict={\"Car1\":\"Audi\",\"Car2\":\"BMW\",\"Car3\":\"Mercidies Benz\"}"
   ]
  },
  {
   "cell_type": "code",
   "execution_count": 37,
   "id": "2ec6cb39-4436-44f1-8b2b-a33716f22bf9",
   "metadata": {},
   "outputs": [
    {
     "data": {
      "text/plain": [
       "dict"
      ]
     },
     "execution_count": 37,
     "metadata": {},
     "output_type": "execute_result"
    }
   ],
   "source": [
    "type(my_dict)"
   ]
  },
  {
   "cell_type": "code",
   "execution_count": 39,
   "id": "342d3234-2d62-4ca2-ab6e-8442545111f5",
   "metadata": {},
   "outputs": [
    {
     "data": {
      "text/plain": [
       "'Audi'"
      ]
     },
     "execution_count": 39,
     "metadata": {},
     "output_type": "execute_result"
    }
   ],
   "source": [
    "#indexing of dictioanry\n",
    "my_dict[\"Car1\"]"
   ]
  },
  {
   "cell_type": "code",
   "execution_count": 47,
   "id": "111c39cd-958d-4ae9-a516-481d12ca8c91",
   "metadata": {},
   "outputs": [
    {
     "ename": "KeyError",
     "evalue": "0",
     "output_type": "error",
     "traceback": [
      "\u001b[1;31m---------------------------------------------------------------------------\u001b[0m",
      "\u001b[1;31mKeyError\u001b[0m                                  Traceback (most recent call last)",
      "Cell \u001b[1;32mIn[47], line 1\u001b[0m\n\u001b[1;32m----> 1\u001b[0m \u001b[43mmy_dict\u001b[49m\u001b[43m[\u001b[49m\u001b[38;5;241;43m0\u001b[39;49m\u001b[43m]\u001b[49m\n",
      "\u001b[1;31mKeyError\u001b[0m: 0"
     ]
    }
   ],
   "source": [
    "my_dict[0]"
   ]
  },
  {
   "cell_type": "code",
   "execution_count": 49,
   "id": "01c77e73-76e5-452d-80e3-21ca2aab645d",
   "metadata": {},
   "outputs": [],
   "source": [
    "# inbuilt function in dictionary"
   ]
  },
  {
   "cell_type": "code",
   "execution_count": 50,
   "id": "3934ddd5-51af-4a59-af45-1859adc8d1b8",
   "metadata": {},
   "outputs": [
    {
     "data": {
      "text/plain": [
       "dict_items([('Car1', 'Audi'), ('Car2', 'BMW'), ('Car3', 'Mercidies Benz')])"
      ]
     },
     "execution_count": 50,
     "metadata": {},
     "output_type": "execute_result"
    }
   ],
   "source": [
    "my_dict.items()"
   ]
  },
  {
   "cell_type": "code",
   "execution_count": 51,
   "id": "c88ec266-ef32-468b-8312-8cfc3475ca0c",
   "metadata": {},
   "outputs": [
    {
     "data": {
      "text/plain": [
       "dict_keys(['Car1', 'Car2', 'Car3'])"
      ]
     },
     "execution_count": 51,
     "metadata": {},
     "output_type": "execute_result"
    }
   ],
   "source": [
    "my_dict.keys()"
   ]
  },
  {
   "cell_type": "code",
   "execution_count": 52,
   "id": "b0b4f7fc-9bd2-49c2-9518-d568e014610f",
   "metadata": {},
   "outputs": [
    {
     "data": {
      "text/plain": [
       "dict_values(['Audi', 'BMW', 'Mercidies Benz'])"
      ]
     },
     "execution_count": 52,
     "metadata": {},
     "output_type": "execute_result"
    }
   ],
   "source": [
    "my_dict.values()"
   ]
  },
  {
   "cell_type": "code",
   "execution_count": 53,
   "id": "46f3e7f2-6bd5-4894-9d43-83889a47f2cf",
   "metadata": {},
   "outputs": [
    {
     "name": "stdout",
     "output_type": "stream",
     "text": [
      "Car1\n",
      "Car2\n",
      "Car3\n"
     ]
    }
   ],
   "source": [
    "# we can even loop thought the dictionary keys,items and values\n",
    "for x in my_dict: #bydefault gives keys\n",
    "    print(x)"
   ]
  },
  {
   "cell_type": "code",
   "execution_count": 55,
   "id": "528a1e5d-5613-4432-91bd-17cefa840f71",
   "metadata": {},
   "outputs": [
    {
     "name": "stdout",
     "output_type": "stream",
     "text": [
      "('Car1', 'Audi')\n",
      "('Car2', 'BMW')\n",
      "('Car3', 'Mercidies Benz')\n"
     ]
    }
   ],
   "source": [
    "for x in my_dict.items():\n",
    "    print(x)"
   ]
  },
  {
   "cell_type": "code",
   "execution_count": 56,
   "id": "a1927d24-fe91-432d-9057-5f14c0c77d5d",
   "metadata": {},
   "outputs": [
    {
     "name": "stdout",
     "output_type": "stream",
     "text": [
      "Car1\n",
      "Car2\n",
      "Car3\n"
     ]
    }
   ],
   "source": [
    "for x in my_dict.keys():\n",
    "    print(x)"
   ]
  },
  {
   "cell_type": "code",
   "execution_count": 57,
   "id": "700e35b2-d7c9-452b-ba4e-7daba6a6a75b",
   "metadata": {},
   "outputs": [],
   "source": [
    "#adding items \n",
    "my_dict[\"Car4\"]=\"Ambassador\""
   ]
  },
  {
   "cell_type": "code",
   "execution_count": 58,
   "id": "3a819e84-c191-4ace-ba98-5ed00351998a",
   "metadata": {},
   "outputs": [
    {
     "data": {
      "text/plain": [
       "{'Car1': 'Audi', 'Car2': 'BMW', 'Car3': 'Mercidies Benz', 'Car4': 'Ambassador'}"
      ]
     },
     "execution_count": 58,
     "metadata": {},
     "output_type": "execute_result"
    }
   ],
   "source": [
    "my_dict"
   ]
  },
  {
   "cell_type": "markdown",
   "id": "911475db-deb1-4326-b907-e4080f7a68c0",
   "metadata": {},
   "source": [
    "### nested dictionary"
   ]
  },
  {
   "cell_type": "code",
   "execution_count": 59,
   "id": "7c1d5d9b-1d42-4ffa-8f8a-c07626274ef3",
   "metadata": {},
   "outputs": [],
   "source": [
    "car1_model={'Mercedes':1960}\n",
    "car2_model={'Audi':1970}\n",
    "car3_model={'Ambassador':1980}\n",
    "\n",
    "car_type={'car1':car1_model,'car2':car2_model,'car3':car3_model}"
   ]
  },
  {
   "cell_type": "code",
   "execution_count": 60,
   "id": "0b18414a-db33-4112-a0fc-285fdfe35700",
   "metadata": {},
   "outputs": [
    {
     "name": "stdout",
     "output_type": "stream",
     "text": [
      "{'car1': {'Mercedes': 1960}, 'car2': {'Audi': 1970}, 'car3': {'Ambassador': 1980}}\n"
     ]
    }
   ],
   "source": [
    "print(car_type)"
   ]
  },
  {
   "cell_type": "code",
   "execution_count": 61,
   "id": "2015a8f6-1261-485e-b519-f9e1dbf372d6",
   "metadata": {},
   "outputs": [
    {
     "data": {
      "text/plain": [
       "{'Mercedes': 1960}"
      ]
     },
     "execution_count": 61,
     "metadata": {},
     "output_type": "execute_result"
    }
   ],
   "source": [
    "# Accessing the items in the dictionary\n",
    "car_type['car1']"
   ]
  },
  {
   "cell_type": "code",
   "execution_count": 62,
   "id": "6fdd3d72-e1f2-4b13-ae61-27685669a13f",
   "metadata": {},
   "outputs": [
    {
     "data": {
      "text/plain": [
       "1960"
      ]
     },
     "execution_count": 62,
     "metadata": {},
     "output_type": "execute_result"
    }
   ],
   "source": [
    "car_type['car1']['Mercedes']"
   ]
  },
  {
   "cell_type": "markdown",
   "id": "cb0b8c63-1360-4745-be66-0906d1ec051e",
   "metadata": {},
   "source": [
    "## Tuples"
   ]
  },
  {
   "cell_type": "code",
   "execution_count": 65,
   "id": "31b69881-0ecf-4341-81ce-7ec2a6dfadc1",
   "metadata": {},
   "outputs": [],
   "source": [
    "#create an empty Tuples\n",
    "my_tuple=tuple()"
   ]
  },
  {
   "cell_type": "code",
   "execution_count": 66,
   "id": "45fbdac4-d9ca-4b2f-8313-db2b72343e6e",
   "metadata": {},
   "outputs": [
    {
     "data": {
      "text/plain": [
       "tuple"
      ]
     },
     "execution_count": 66,
     "metadata": {},
     "output_type": "execute_result"
    }
   ],
   "source": [
    "type(my_tuple)"
   ]
  },
  {
   "cell_type": "code",
   "execution_count": 68,
   "id": "c8b17e02-de50-4670-9f63-dc439d18c349",
   "metadata": {},
   "outputs": [],
   "source": [
    "my_tuple=(\"Krish\",\"Ankur\",\"John\")"
   ]
  },
  {
   "cell_type": "code",
   "execution_count": 69,
   "id": "d6e74388-573a-4a8e-894b-c4f43ec55718",
   "metadata": {},
   "outputs": [
    {
     "data": {
      "text/plain": [
       "('Krish', 'Ankur', 'John')"
      ]
     },
     "execution_count": 69,
     "metadata": {},
     "output_type": "execute_result"
    }
   ],
   "source": [
    "my_tuple"
   ]
  },
  {
   "cell_type": "code",
   "execution_count": 70,
   "id": "cb2f6bfa-7dca-4e92-aa04-f9de46a0d5f4",
   "metadata": {},
   "outputs": [
    {
     "data": {
      "text/plain": [
       "0"
      ]
     },
     "execution_count": 70,
     "metadata": {},
     "output_type": "execute_result"
    }
   ],
   "source": [
    "# inbuilt function \n",
    "my_tuple.count('kriah')"
   ]
  },
  {
   "cell_type": "code",
   "execution_count": 71,
   "id": "af04a29d-6f90-4abd-9d84-2cc88efb15fc",
   "metadata": {},
   "outputs": [
    {
     "data": {
      "text/plain": [
       "1"
      ]
     },
     "execution_count": 71,
     "metadata": {},
     "output_type": "execute_result"
    }
   ],
   "source": [
    "my_tuple.count('Ankur')"
   ]
  },
  {
   "cell_type": "code",
   "execution_count": 76,
   "id": "4b91c355-560e-4a20-bee9-6b4f9012cdce",
   "metadata": {},
   "outputs": [
    {
     "data": {
      "text/plain": [
       "1"
      ]
     },
     "execution_count": 76,
     "metadata": {},
     "output_type": "execute_result"
    }
   ],
   "source": [
    "my_tuple.index('Ankur')"
   ]
  },
  {
   "cell_type": "code",
   "execution_count": 73,
   "id": "c4019eec-2c2e-43e6-899c-e007d8e3d9ca",
   "metadata": {},
   "outputs": [
    {
     "data": {
      "text/plain": [
       "'Krish'"
      ]
     },
     "execution_count": 73,
     "metadata": {},
     "output_type": "execute_result"
    }
   ],
   "source": [
    "#indexing\n",
    "my_tuple[0]"
   ]
  },
  {
   "cell_type": "code",
   "execution_count": 74,
   "id": "9ae2f41f-aa98-4b93-b091-cfec97a2a818",
   "metadata": {},
   "outputs": [
    {
     "data": {
      "text/plain": [
       "'John'"
      ]
     },
     "execution_count": 74,
     "metadata": {},
     "output_type": "execute_result"
    }
   ],
   "source": [
    "my_tuple[2]"
   ]
  },
  {
   "cell_type": "code",
   "execution_count": 77,
   "id": "fe2e7401-dd3d-491c-a12b-c53a9cf13ee2",
   "metadata": {},
   "outputs": [
    {
     "ename": "TypeError",
     "evalue": "'tuple' object does not support item assignment",
     "output_type": "error",
     "traceback": [
      "\u001b[1;31m---------------------------------------------------------------------------\u001b[0m",
      "\u001b[1;31mTypeError\u001b[0m                                 Traceback (most recent call last)",
      "Cell \u001b[1;32mIn[77], line 2\u001b[0m\n\u001b[0;32m      1\u001b[0m \u001b[38;5;66;03m#we cant assign values in tuple through indexing\u001b[39;00m\n\u001b[1;32m----> 2\u001b[0m \u001b[43mmy_tuple\u001b[49m\u001b[43m[\u001b[49m\u001b[38;5;241;43m0\u001b[39;49m\u001b[43m]\u001b[49m\u001b[38;5;241m=\u001b[39m\u001b[38;5;124m\"\u001b[39m\u001b[38;5;124mkrish\u001b[39m\u001b[38;5;124m\"\u001b[39m\n",
      "\u001b[1;31mTypeError\u001b[0m: 'tuple' object does not support item assignment"
     ]
    }
   ],
   "source": [
    "#we cant assign values in tuple through indexing\n",
    "my_tuple[0]=\"krish\""
   ]
  },
  {
   "cell_type": "code",
   "execution_count": 78,
   "id": "ddbc6398-363a-4142-8bb1-7fc53e35c45c",
   "metadata": {},
   "outputs": [
    {
     "data": {
      "text/plain": [
       "['Krish', 'Ankur', 'John']"
      ]
     },
     "execution_count": 78,
     "metadata": {},
     "output_type": "execute_result"
    }
   ],
   "source": [
    "#type cast\n",
    "list(my_tuple)"
   ]
  },
  {
   "cell_type": "code",
   "execution_count": null,
   "id": "dbff4b32-b185-478e-89f3-f5380c1394aa",
   "metadata": {},
   "outputs": [],
   "source": []
  }
 ],
 "metadata": {
  "kernelspec": {
   "display_name": "Python 3 (ipykernel)",
   "language": "python",
   "name": "python3"
  },
  "language_info": {
   "codemirror_mode": {
    "name": "ipython",
    "version": 3
   },
   "file_extension": ".py",
   "mimetype": "text/x-python",
   "name": "python",
   "nbconvert_exporter": "python",
   "pygments_lexer": "ipython3",
   "version": "3.12.4"
  }
 },
 "nbformat": 4,
 "nbformat_minor": 5
}
