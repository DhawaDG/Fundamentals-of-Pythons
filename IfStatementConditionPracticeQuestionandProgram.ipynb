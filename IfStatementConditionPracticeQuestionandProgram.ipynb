{
 "cells": [
  {
   "cell_type": "markdown",
   "id": "08d9f216-5e04-46af-b8d3-c212196840e9",
   "metadata": {},
   "source": [
    "### Begineer Level"
   ]
  },
  {
   "cell_type": "markdown",
   "id": "f9c3db8c-419c-4327-bd54-c046d55f33dc",
   "metadata": {},
   "source": [
    "1. Basic Comparison"
   ]
  },
  {
   "cell_type": "code",
   "execution_count": 1,
   "id": "e9c3e554-af8e-4d2d-a60e-76e874d8e3be",
   "metadata": {},
   "outputs": [
    {
     "name": "stdin",
     "output_type": "stream",
     "text": [
      "enter the number: 0\n"
     ]
    },
    {
     "name": "stdout",
     "output_type": "stream",
     "text": [
      "number is zero\n"
     ]
    }
   ],
   "source": [
    "#write a program that asks the user to enter a number and checks if its positive, negative or zero\n",
    "\n",
    "num=int(input(\"enter the number:\"))\n",
    "if num>0:\n",
    "    print(\"number is positive\")\n",
    "elif num<0:\n",
    "    print(\"number is negative\")\n",
    "else:\n",
    "    print(\"number is zero\")"
   ]
  },
  {
   "cell_type": "code",
   "execution_count": 2,
   "id": "dddbc79c-dd78-4ad2-84b8-d1f264908aae",
   "metadata": {},
   "outputs": [
    {
     "name": "stdin",
     "output_type": "stream",
     "text": [
      "enter the 1st num: 20\n",
      "enter the 2nd num: 30\n"
     ]
    },
    {
     "name": "stdout",
     "output_type": "stream",
     "text": [
      "2nd num is largest:\n"
     ]
    }
   ],
   "source": [
    "#take two numbers as input and print the larger number\n",
    "num1=int(input(\"enter the 1st num:\"))\n",
    "num2=int(input(\"enter the 2nd num:\"))\n",
    "if num1>num2:\n",
    "    print(\"1st num is largest:\")\n",
    "else:\n",
    "    print(\"2nd num is largest:\")"
   ]
  },
  {
   "cell_type": "markdown",
   "id": "05ae48d9-e68c-4691-9eae-d2d904cb60d1",
   "metadata": {},
   "source": [
    "2.  Even or odd\n"
   ]
  },
  {
   "cell_type": "code",
   "execution_count": 4,
   "id": "4a9f23bc-8d7f-4e39-abee-6b9df9762088",
   "metadata": {},
   "outputs": [
    {
     "name": "stdin",
     "output_type": "stream",
     "text": [
      "enter the number: 1\n"
     ]
    },
    {
     "name": "stdout",
     "output_type": "stream",
     "text": [
      "number is odd:\n"
     ]
    }
   ],
   "source": [
    "#write a program to check if a number is even or odd\n",
    "\n",
    "number1=int(input(\"enter the number:\"))\n",
    "if number1%2==0:\n",
    "    print(\"number is even:\")\n",
    "else:\n",
    "    print(\"number is odd:\")"
   ]
  },
  {
   "cell_type": "markdown",
   "id": "78249b29-2155-47ec-9b29-13fd8a5ac325",
   "metadata": {},
   "source": [
    "3. Pass or Fail"
   ]
  },
  {
   "cell_type": "code",
   "execution_count": 5,
   "id": "7d759141-559c-4313-9a4c-8cc09fa4e7f0",
   "metadata": {},
   "outputs": [
    {
     "name": "stdin",
     "output_type": "stream",
     "text": [
      "enter your marks: 30\n"
     ]
    },
    {
     "name": "stdout",
     "output_type": "stream",
     "text": [
      "fail\n"
     ]
    }
   ],
   "source": [
    "#Take a student's marks as input and print \"Pass\" if the marks are 40 or above, otherwise print \"Fail\".\n",
    "mark=int(input(\"enter your marks:\"))\n",
    "if mark>=40:\n",
    "    print(\"pass\")\n",
    "else:\n",
    "    print(\"fail\")\n",
    "    "
   ]
  },
  {
   "cell_type": "markdown",
   "id": "5e4629a5-e30f-44a3-af49-2d81c0ec7b30",
   "metadata": {},
   "source": [
    "4. Divibility Check"
   ]
  },
  {
   "cell_type": "code",
   "execution_count": 9,
   "id": "55a0e1f8-2c3d-4ab8-bd05-1c7e322206d8",
   "metadata": {},
   "outputs": [
    {
     "name": "stdin",
     "output_type": "stream",
     "text": [
      "enter the number: 4\n"
     ]
    },
    {
     "name": "stdout",
     "output_type": "stream",
     "text": [
      "not divisible by 5\n"
     ]
    }
   ],
   "source": [
    "#write a program to check if a number is divisible by 5\n",
    "num_in=int(input(\"enter the number:\"))\n",
    "if (num_in%5==0):\n",
    "    print(\"divisible by 5\")\n",
    "else:\n",
    "    print(\"not divisible by 5\")"
   ]
  },
  {
   "cell_type": "code",
   "execution_count": 10,
   "id": "053e38a8-d63b-4f97-83fe-64fc9404c801",
   "metadata": {},
   "outputs": [
    {
     "name": "stdin",
     "output_type": "stream",
     "text": [
      "enter the number 21\n"
     ]
    },
    {
     "name": "stdout",
     "output_type": "stream",
     "text": [
      "number is divisible by 3 and 7\n"
     ]
    }
   ],
   "source": [
    "#Write a program to check if a number is divisible by both 3 and 7.\n",
    "num_lg=int(input(\"enter the number\"))\n",
    "if (num_lg%3==0) and (num_lg%7==0):\n",
    "    print(\"number is divisible by 3 and 7\")\n",
    "else:\n",
    "    print(\"number is not divisible by 3 and 7\")"
   ]
  },
  {
   "cell_type": "markdown",
   "id": "e02f210c-d4ef-402c-a666-9d1e2ed5f299",
   "metadata": {},
   "source": [
    "5. Check Vowel or Consonant\n",
    "\n",
    "   "
   ]
  },
  {
   "cell_type": "code",
   "execution_count": 1,
   "id": "d35f9823-43dc-4a14-8b69-00a6e133bce2",
   "metadata": {},
   "outputs": [
    {
     "ename": "SyntaxError",
     "evalue": "invalid syntax. Maybe you meant '==' or ':=' instead of '='? (1984650440.py, line 5)",
     "output_type": "error",
     "traceback": [
      "\u001b[1;36m  Cell \u001b[1;32mIn[1], line 5\u001b[1;36m\u001b[0m\n\u001b[1;33m    if (ch='a'or ch='e'or ch='i'or ch='o'or ch='u'):\u001b[0m\n\u001b[1;37m        ^\u001b[0m\n\u001b[1;31mSyntaxError\u001b[0m\u001b[1;31m:\u001b[0m invalid syntax. Maybe you meant '==' or ':=' instead of '='?\n"
     ]
    }
   ],
   "source": [
    "#Take a character as input and check if it's a vowel or a consonant.\n",
    "\n",
    "ch=input(\"enter the Character:\")\n",
    "if len(ch)==1:\n",
    "    if (ch='a'or ch='e'or ch='i'or ch='o'or ch='u'):\n",
    "    \n",
    "    \n",
    "    "
   ]
  },
  {
   "cell_type": "code",
   "execution_count": null,
   "id": "e747d1d4-6324-4dcb-9383-10dbd9f3f39d",
   "metadata": {},
   "outputs": [],
   "source": [
    "# Prompt the user for a single character input\n",
    "char = input(\"Enter a single letter: \").lower()\n",
    "\n",
    "# Check if input is a single character and is an alphabet letter\n",
    "if len(char) == 1 and char.isalpha():\n",
    "    # Check if the character is a vowel\n",
    "    if char in 'aeiou':\n",
    "        print(f\"{char} is a vowel.\")\n",
    "    else:\n",
    "        print(f\"{char} is a consonant.\")\n",
    "else:\n",
    "    print(\"Error: Please enter a single alphabet letter.\")\n"
   ]
  },
  {
   "cell_type": "markdown",
   "id": "d893eb9c-e4e6-4f55-b072-74fb8c53506d",
   "metadata": {},
   "source": [
    "### Intermediate Level"
   ]
  },
  {
   "cell_type": "code",
   "execution_count": 2,
   "id": "b15bd12e-90fb-49cf-9b75-a101155fe43b",
   "metadata": {},
   "outputs": [
    {
     "data": {
      "text/plain": [
       "\"\\nGrade Assignment:\\n\\nTake a student's marks as input and assign grades based on the following:\\n90 and above: Grade A\\n80 to 89: Grade B\\n70 to 79: Grade C\\n60 to 69: Grade D\\nBelow 60: Fail\\n\""
      ]
     },
     "execution_count": 2,
     "metadata": {},
     "output_type": "execute_result"
    }
   ],
   "source": [
    "6.'''\n",
    "Grade Assignment:\n",
    "\n",
    "Take a student's marks as input and assign grades based on the following:\n",
    "90 and above: Grade A\n",
    "80 to 89: Grade B\n",
    "70 to 79: Grade C\n",
    "60 to 69: Grade D\n",
    "Below 60: Fail\n",
    "'''"
   ]
  },
  {
   "cell_type": "code",
   "execution_count": 2,
   "id": "2f6a2c7a-1c45-475d-bf86-58af331dce77",
   "metadata": {},
   "outputs": [
    {
     "name": "stdin",
     "output_type": "stream",
     "text": [
      "enter your marks 50\n"
     ]
    },
    {
     "name": "stdout",
     "output_type": "stream",
     "text": [
      "fail\n"
     ]
    }
   ],
   "source": [
    "mrk=int(input(\"enter your marks:\"))\n",
    "if (mrk>=90) and (mrk<=100):\n",
    "    print(\"Grade A\")\n",
    "elif (mrk>=80) and (mrk<=89):\n",
    "    print(\"Grade B\")\n",
    "elif (mrk>=70) and (mrk<=79):\n",
    "    print(\"Grade C\")\n",
    "elif (mrk>=60) and (mrk<=69):\n",
    "    print(\"Grade D\")\n",
    "else:\n",
    "    print(\"fail\")"
   ]
  },
  {
   "cell_type": "markdown",
   "id": "2eaebd6d-74c4-429f-aaa4-c52b4589c1ef",
   "metadata": {},
   "source": [
    "## 7.Eligibility to vote:"
   ]
  },
  {
   "cell_type": "code",
   "execution_count": 3,
   "id": "9b96a492-2e07-4fd8-b8fb-2600392da0d3",
   "metadata": {},
   "outputs": [
    {
     "name": "stdin",
     "output_type": "stream",
     "text": [
      "Enter your age: 17\n"
     ]
    },
    {
     "name": "stdout",
     "output_type": "stream",
     "text": [
      "Sorry you are not eligible to vote\n"
     ]
    }
   ],
   "source": [
    "## Write a program to check if a person is eligible to vote (age 18 or above)\n",
    "\n",
    "ur_age=int(input(\"Enter your age:\"))\n",
    "if ur_age>=18:\n",
    "    print(\"Yes you can eligible to vote:\")\n",
    "else:\n",
    "    print(\"Sorry you are not eligible to vote\")"
   ]
  },
  {
   "cell_type": "markdown",
   "id": "44f36b85-0df7-4859-b175-d442dd4ef2ed",
   "metadata": {},
   "source": [
    "## 8. Largest of three Numbers"
   ]
  },
  {
   "cell_type": "code",
   "execution_count": 5,
   "id": "25c373fb-11b6-4f75-bfae-3b74cdd22c62",
   "metadata": {},
   "outputs": [
    {
     "name": "stdin",
     "output_type": "stream",
     "text": [
      "enter the 1st num: 20\n",
      "enter the 2nd num: 30\n",
      "enter the 3rd num: 40\n"
     ]
    },
    {
     "name": "stdout",
     "output_type": "stream",
     "text": [
      "3rd number is largest\n"
     ]
    }
   ],
   "source": [
    "## Take three numbers as input and find the largest number among them.\n",
    "\n",
    "num1=int(input(\"enter the 1st num:\"))\n",
    "num2=int(input(\"enter the 2nd num:\"))\n",
    "num3=int(input(\"enter the 3rd num:\"))\n",
    "if (num1>num2) and (num1>num3):\n",
    "    print(\"1st number is largest\")\n",
    "elif (num2>num1) and (num2>num3):\n",
    "    print(\"2nd number is largest\")\n",
    "else:\n",
    "    print(\"3rd number is largest\")\n"
   ]
  },
  {
   "cell_type": "markdown",
   "id": "f1ed2641-e536-4c57-b5c6-1272e21deb96",
   "metadata": {},
   "source": [
    "## 9. Check Leap Year"
   ]
  },
  {
   "cell_type": "code",
   "execution_count": 7,
   "id": "d5a9df33-38e1-43c8-a826-498817b132a9",
   "metadata": {},
   "outputs": [
    {
     "name": "stdin",
     "output_type": "stream",
     "text": [
      "Enter a year:  2016\n"
     ]
    },
    {
     "name": "stdout",
     "output_type": "stream",
     "text": [
      "2016 is a leap year.\n"
     ]
    }
   ],
   "source": [
    "## Write a program to check if a given year is a leap year.\n",
    "year = int(input(\"Enter a year: \"))\n",
    "#If a year is divisible by 4 but not by 100, it is a leap year.\n",
    "if (year % 4 == 0 and year % 100 != 0) or (year % 400 == 0):\n",
    "    print(f\"{year} is a leap year.\")\n",
    "else:\n",
    "    print(f\"{year} is not a leap year.\")\n"
   ]
  },
  {
   "cell_type": "markdown",
   "id": "bef88a42-07da-4acb-a71e-055aa4ec42e8",
   "metadata": {},
   "source": [
    "## 10. Username and Password Check"
   ]
  },
  {
   "cell_type": "code",
   "execution_count": 11,
   "id": "3771c667-421d-4ee5-b42a-132b24e16e47",
   "metadata": {},
   "outputs": [
    {
     "name": "stdin",
     "output_type": "stream",
     "text": [
      "Enter Your Username: dawa_developer\n",
      "Enter Your Password: ilikecode\n"
     ]
    },
    {
     "name": "stdout",
     "output_type": "stream",
     "text": [
      "successfully login\n"
     ]
    }
   ],
   "source": [
    "## Write a program that asks the user for a username and password and checks if they match a predefined set of values.\n",
    "#pre-defined username and password\n",
    "correct_username=\"dawa_developer\"\n",
    "correct_password=\"ilikecode\"\n",
    "#input from user\n",
    "input_username=input(\"Enter Your Username:\")\n",
    "input_password=input(\"Enter Your Password:\")\n",
    "\n",
    "if (input_username==correct_username) and (input_password==correct_password):\n",
    "    print(\"successfully login\")\n",
    "else:\n",
    "    print(\"Please retry again\")"
   ]
  },
  {
   "cell_type": "markdown",
   "id": "bda01972-5cf6-4337-9f57-c76196778618",
   "metadata": {},
   "source": [
    "## 11. Nested if Statement\n"
   ]
  },
  {
   "cell_type": "code",
   "execution_count": 15,
   "id": "3cdbe44f-b14c-4169-a22a-712ec24d3960",
   "metadata": {},
   "outputs": [
    {
     "name": "stdin",
     "output_type": "stream",
     "text": [
      "Enter Your Number: 7\n"
     ]
    },
    {
     "name": "stdout",
     "output_type": "stream",
     "text": [
      "number is positive and odd\n"
     ]
    }
   ],
   "source": [
    "##Write a program that takes a number and checks if it is positive. If it is positive, check if it’s even or odd.\n",
    "\n",
    "num_in1=int(input(\"Enter Your Number:\"))\n",
    "if num_in1>0:\n",
    "    if (num_in1%2==0):\n",
    "        print(\"number is positive and even\")\n",
    "    else:\n",
    "        print(\"number is positive and odd\")\n",
    "else:\n",
    "    print(\"numbe is not positive\")"
   ]
  },
  {
   "cell_type": "markdown",
   "id": "fd007518-3af7-40d6-8180-7cbdeaae9307",
   "metadata": {},
   "source": [
    "## 12. Number Range Check\n"
   ]
  },
  {
   "cell_type": "code",
   "execution_count": 19,
   "id": "1ecb5788-eda3-42ef-8de1-9b95887efa07",
   "metadata": {},
   "outputs": [
    {
     "name": "stdin",
     "output_type": "stream",
     "text": [
      "enter your number:  50\n"
     ]
    },
    {
     "name": "stdout",
     "output_type": "stream",
     "text": [
      "Number in the range 1 to 100\n"
     ]
    }
   ],
   "source": [
    "## Write a program that takes a number as input and checks if it’s in the range 1 to 100.\n",
    "#numner imput from user\n",
    "numbers=int(input(\"enter your number: \"))\n",
    "#condition number whether in the range 1 to 100\n",
    "if (numbers>=1) and (numbers<=100) or 1<=numbers <=100:\n",
    "    print(\"Number in the range 1 to 100\")\n",
    "else:\n",
    "    print(\"Number is not in the range 1 to 100\")"
   ]
  },
  {
   "cell_type": "markdown",
   "id": "678c0e77-5656-4e9f-aac9-5c52edc2bba7",
   "metadata": {},
   "source": [
    "## 13. Identify Character Type\n"
   ]
  },
  {
   "cell_type": "code",
   "execution_count": 21,
   "id": "9c0f82a8-d996-41fa-8583-93de1e4bde8e",
   "metadata": {},
   "outputs": [],
   "source": [
    "## Take a character as input and check if it's a letter, digit, or special character"
   ]
  },
  {
   "cell_type": "code",
   "execution_count": 24,
   "id": "d4bc2194-1278-461e-a837-ac9f125d136f",
   "metadata": {},
   "outputs": [
    {
     "name": "stdin",
     "output_type": "stream",
     "text": [
      "Enter a Character: @\n"
     ]
    },
    {
     "name": "stdout",
     "output_type": "stream",
     "text": [
      "The character is a special character.\n"
     ]
    }
   ],
   "source": [
    "char= input(\"Enter a Character:\")\n",
    "#check if it's a letter,digit,or special character\n",
    "if char.isalpha():\n",
    "    print(\"The character is a letter.\")\n",
    "elif char.isdigit():\n",
    "    print(\"The character is a digit.\")\n",
    "else:\n",
    "    print(\"The character is a special character.\")"
   ]
  },
  {
   "cell_type": "markdown",
   "id": "87602ad5-db09-4c3b-96cb-6bb561200faf",
   "metadata": {},
   "source": [
    "### Advance Level"
   ]
  },
  {
   "cell_type": "markdown",
   "id": "9d124011-8e12-4796-8cbb-145aaa2bd8db",
   "metadata": {},
   "source": [
    "## 14. Simple Calculator"
   ]
  },
  {
   "cell_type": "code",
   "execution_count": 2,
   "id": "8dcbf6b5-c164-4e8c-9bed-286484a6fc7a",
   "metadata": {},
   "outputs": [
    {
     "name": "stdin",
     "output_type": "stream",
     "text": [
      "Enter the first Number: 20\n",
      "Enter the Second Number: 10\n",
      "Enter the operator +.-,*,/ %\n"
     ]
    },
    {
     "name": "stdout",
     "output_type": "stream",
     "text": [
      "Please enter only valid operator +,-,*,/\n"
     ]
    }
   ],
   "source": [
    "##Write a program that takes two numbers and an operator (+, -, *, /) as input and performs the corresponding calculation.\n",
    "num1=int(input(\"Enter the first Number:\"))\n",
    "num2=int(input(\"Enter the Second Number:\"))\n",
    "\n",
    "operator=input(\"Enter the operator +.-,*,/\")\n",
    "\n",
    "if operator==\"+\":\n",
    "    result=num1+num2\n",
    "    print(\"sum:\",result)\n",
    "elif operator==\"-\":\n",
    "    result=num1-num2\n",
    "    print(\"subtract:\",result)\n",
    "elif operator==\"*\":\n",
    "    result=num1*num2\n",
    "    print(\"multiply:\",result)\n",
    "elif operator==\"/\":\n",
    "    if num2!=0:\n",
    "        result=num1/num2\n",
    "        print(\"Division:\",result)\n",
    "    else:\n",
    "        print(\"Please enter non-zero second number\")\n",
    "else:\n",
    "    print(\"Please enter only valid operator +,-,*,/\")"
   ]
  },
  {
   "cell_type": "markdown",
   "id": "a03b0f2d-c759-47f6-956c-44d45e5461b3",
   "metadata": {},
   "source": [
    "## 15. Nested if for Grade and Status:"
   ]
  },
  {
   "cell_type": "code",
   "execution_count": 5,
   "id": "3121f73a-2a98-48a8-894f-6e250f65a9a4",
   "metadata": {},
   "outputs": [
    {
     "name": "stdin",
     "output_type": "stream",
     "text": [
      "Enter the Grade 40\n"
     ]
    },
    {
     "name": "stdout",
     "output_type": "stream",
     "text": [
      "fail\n"
     ]
    }
   ],
   "source": [
    "## Take a student's marks as input and assign grades based on the following, and also print \"Pass\" or \"Fail\":\n",
    "#85 and above: Grade A\n",
    "#70 to 84: Grade B\n",
    "#50 to 69: Grade C\n",
    "#Below 50: Fail\n",
    "\n",
    "grade=int(input(\"Enter the Grade\"))\n",
    "if (grade>=85) and (grade<=100):\n",
    "    print(\"Grade A\")\n",
    "elif (grade>=70) and (grade<=84):\n",
    "    print(\"Grade B\")\n",
    "elif (grade>=50) and (grade<=69):\n",
    "    print(\"Grade C\")\n",
    "else:\n",
    "    print(\"fail\")"
   ]
  },
  {
   "cell_type": "markdown",
   "id": "ab728761-daf5-4cd3-986a-7635bb8b62cd",
   "metadata": {},
   "source": [
    "## 16. Discount Calculation:"
   ]
  },
  {
   "cell_type": "code",
   "execution_count": 4,
   "id": "0eeff24b-f472-4b54-87d9-84feae8005e9",
   "metadata": {},
   "outputs": [
    {
     "name": "stdin",
     "output_type": "stream",
     "text": [
      "Enter the amount: 50\n"
     ]
    },
    {
     "name": "stdout",
     "output_type": "stream",
     "text": [
      "$47.5 is total amount bill less $200 bill after 5%  discount\n"
     ]
    }
   ],
   "source": [
    "#Write a program that takes the total bill amount and applies a discount based on the following conditions:\n",
    "#If the bill is above $500, give a 20% discount.\n",
    "#If the bill is between $200 and $500, give a 10% discount.\n",
    "#If the bill is less than $200, give a 5% discount.\n",
    "\n",
    "amt=int(input(\"Enter the amount:\"))\n",
    "if amt>500:\n",
    "    total_amt=amt-(amt*(20/100))\n",
    "    print(\"${} is total amount bill above $500 bill after 20%  discount\".format(total_amt))\n",
    "    \n",
    "elif (amt>=200) and (amt<=500):\n",
    "    total_amt=amt-(amt*(10/100))\n",
    "    print(\"${} is total amount bill between $200 and $500 bill after 10%  discount\".format(total_amt))\n",
    "elif (amt<200):\n",
    "    total_amt=amt-(amt*(5/100))\n",
    "    print(\"${} is total amount bill less $200 bill after 5%  discount\".format(total_amt))\n",
    "else:\n",
    "    print(\"Invalid amount entered\")\n",
    "\n",
    "\n",
    "\n",
    "          \n",
    "          "
   ]
  },
  {
   "cell_type": "code",
   "execution_count": 2,
   "id": "b3bb3f42-09d3-4ba3-979d-84ce0fdeda81",
   "metadata": {},
   "outputs": [
    {
     "name": "stdin",
     "output_type": "stream",
     "text": [
      "Enter the total bill amount:  50\n"
     ]
    },
    {
     "name": "stdout",
     "output_type": "stream",
     "text": [
      "$47.5 is the total bill amount after a 5% discount.\n"
     ]
    }
   ],
   "source": [
    "amt = int(input(\"Enter the total bill amount: \"))\n",
    "\n",
    "if amt > 500:\n",
    "    total_amt = amt - (amt * 20 / 100)\n",
    "    print(\"${} is the total bill amount after a 20% discount.\".format(total_amt))\n",
    "elif 200 <= amt <= 500:\n",
    "    total_amt = amt - (amt * 10 / 100)\n",
    "    print(\"${} is the total bill amount after a 10% discount.\".format(total_amt))\n",
    "elif amt < 200:\n",
    "    total_amt = amt - (amt * 5 / 100)\n",
    "    print(\"${} is the total bill amount after a 5% discount.\".format(total_amt))\n",
    "else:\n",
    "    print(\"Invalid amount entered.\")\n"
   ]
  },
  {
   "cell_type": "markdown",
   "id": "718e4d68-45f1-451e-a13c-31de4b4f8028",
   "metadata": {},
   "source": [
    "## 17.BMI Calculation:"
   ]
  },
  {
   "cell_type": "code",
   "execution_count": 7,
   "id": "d5572275-7d5b-48e0-befa-aa292e0a3234",
   "metadata": {},
   "outputs": [
    {
     "name": "stdin",
     "output_type": "stream",
     "text": [
      "Enter the weight in Kilogram(kg): 75\n",
      "Enter the Height in meter(m) 2.3114\n"
     ]
    },
    {
     "name": "stdout",
     "output_type": "stream",
     "text": [
      "Your BMI is 14.04, which falls under the category: Underweight.\n"
     ]
    }
   ],
   "source": [
    "##Write a program that takes a person’s weight (in kg) and height (in meters) as input and calculates the BMI. Use if statements to categorize the result as:\n",
    "#Underweight (BMI < 18.5)\n",
    "#Normal weight (18.5 <= BMI < 25)\n",
    "#Overweight (25 <= BMI < 30)\n",
    "#Obese (BMI >= 30)\n",
    "wt=float(input(\"Enter the weight in Kilogram(kg):\"))\n",
    "ht=float(input(\"Enter the Height in meter(m)\"))\n",
    "\n",
    "bmi=wt/(ht**2)\n",
    "\n",
    "if bmi<18.5:\n",
    "    category=\"Underweight\"\n",
    "elif 18.5<=bmi<25:\n",
    "    category=\"Normal Weight\"\n",
    "elif 25<=bmi<30:\n",
    "    category=\"Overweight\"\n",
    "else:\n",
    "    category=\"Obese\"\n",
    "    \n",
    "print(f\"Your BMI is {bmi:.2f}, which falls under the category: {category}.\")"
   ]
  },
  {
   "cell_type": "markdown",
   "id": "43dc58b8-4fd9-426e-92f9-1db819438026",
   "metadata": {},
   "source": [
    "## 18.Bank Account Balance Check:"
   ]
  },
  {
   "cell_type": "code",
   "execution_count": 9,
   "id": "064db95a-a594-4490-8e13-7dafa05b4a74",
   "metadata": {},
   "outputs": [],
   "source": [
    "#Write a program that asks the user to input their bank account balance \n",
    "#and withdrawal amount. If the withdrawa#l amount is less than or equal \n",
    "#to the balance, print \"Transaction Successful\"; otherwise, \n",
    "#print \"Insufficient Balance\"."
   ]
  },
  {
   "cell_type": "code",
   "execution_count": 11,
   "id": "8388453d-4ee2-41ae-bfe9-6d707bd9ba01",
   "metadata": {},
   "outputs": [
    {
     "name": "stdin",
     "output_type": "stream",
     "text": [
      "Please enter your Bank account balance 100\n",
      "Please enter your withdrawal amount 150\n"
     ]
    },
    {
     "name": "stdout",
     "output_type": "stream",
     "text": [
      "Insufficient Balance\n"
     ]
    }
   ],
   "source": [
    "bank_bln=int(input(\"Please enter your Bank account balance\"))\n",
    "withdrw_amt=int(input(\"Please enter your withdrawal amount\"))\n",
    "\n",
    "if withdrw_amt<=bank_bln:\n",
    "    print(\"Transaction successfully\")\n",
    "else:\n",
    "    print(\"Insufficient Balance\")"
   ]
  },
  {
   "cell_type": "markdown",
   "id": "8a3c6fa2-0ba9-48d4-a2a4-899c9c619b23",
   "metadata": {},
   "source": [
    "## 19.  Password Strength Checker:\n"
   ]
  },
  {
   "cell_type": "code",
   "execution_count": 2,
   "id": "9b03f8d9-141c-458a-9b01-6b92eb1fbd5d",
   "metadata": {},
   "outputs": [
    {
     "name": "stdin",
     "output_type": "stream",
     "text": [
      "Enter your password dawa@python12\n"
     ]
    },
    {
     "name": "stdout",
     "output_type": "stream",
     "text": [
      "Your password is strong!\n"
     ]
    }
   ],
   "source": [
    "#Take a password as input and check if it’s strong based on the following conditions:\n",
    "#At least 8 characters long\n",
    "#Contains both letters and numbers\n",
    "#Contains at least one special character (e.g., @, #, $)\n",
    "\n",
    "password= input(\"Enter your password\")\n",
    "\n",
    "#check conditions for a strong password\n",
    "if len(password)>=8 and \\\n",
    "    any(char.isalpha() for char in password) and \\\n",
    "    any(char.isdigit() for char in password) and \\\n",
    "    any(char in \"@#$%^&*!\" for char in password):\n",
    "     print(\"Your password is strong!\")\n",
    "else:\n",
    "    print(\"Weak password, retry again\")\n"
   ]
  },
  {
   "cell_type": "markdown",
   "id": "ad731176-fcbc-4d79-9005-de5658a9adc5",
   "metadata": {},
   "source": [
    "## 20. Traffic Light System\n"
   ]
  },
  {
   "cell_type": "code",
   "execution_count": 5,
   "id": "5504c490-1548-432f-8649-791262c9791e",
   "metadata": {},
   "outputs": [
    {
     "name": "stdin",
     "output_type": "stream",
     "text": [
      "Enter the colour green\n"
     ]
    },
    {
     "name": "stdout",
     "output_type": "stream",
     "text": [
      "Go\n"
     ]
    }
   ],
   "source": [
    "##Write a program that simulates a traffic light system. \n",
    "#The program should ask the user to enter a color (Red, Yellow, Green) \n",
    "#and print:\n",
    "#\"Stop\" for Red\n",
    "#\"Wait\" for Yellow\n",
    "#\"Go\" for Green\n",
    "\n",
    "colour=input(\"Enter the colour\")\n",
    "\n",
    "if colour==\"red\":\n",
    "    print(\"Stop\")\n",
    "elif colour==\"yellow\":\n",
    "    print(\"Wait\")\n",
    "elif colour==\"green\":\n",
    "    print(\"Go\")\n",
    "else:\n",
    "    print(\"Invalid colour, Please red yellow and green colour\")"
   ]
  },
  {
   "cell_type": "markdown",
   "id": "3e501a69-1d2d-49b1-b238-b30f2e250238",
   "metadata": {},
   "source": [
    "## 21. Determine the Type of trianle"
   ]
  },
  {
   "cell_type": "code",
   "execution_count": 1,
   "id": "291e7838-a0f0-47e1-a4aa-18e49cdeebcc",
   "metadata": {},
   "outputs": [
    {
     "ename": "IndentationError",
     "evalue": "expected an indented block after 'try' statement on line 5 (39363247.py, line 6)",
     "output_type": "error",
     "traceback": [
      "\u001b[1;36m  Cell \u001b[1;32mIn[1], line 6\u001b[1;36m\u001b[0m\n\u001b[1;33m    a=float(input(\"enter the side 1: \"))\u001b[0m\n\u001b[1;37m    ^\u001b[0m\n\u001b[1;31mIndentationError\u001b[0m\u001b[1;31m:\u001b[0m expected an indented block after 'try' statement on line 5\n"
     ]
    }
   ],
   "source": [
    "#Write a program that takes three side lengths of a triangle and determines if it’s:\n",
    "#Equilateral (all sides equal)\n",
    "#Isosceles (two sides equal)\n",
    "#Scalene (all sides different)\n",
    "try:\n",
    "a=float(input(\"enter the side 1: \"))\n",
    "b=float(input(\"enter the side 2: \"))\n",
    "c=float(input(\"enter the side 3: \"))\n",
    "\n",
    "if a==b==c:\n",
    "    print(\"Equilateral Triangle\")\n",
    "elif a==b or b==c or a==c:\n",
    "    print(\"Isosceles Triangle\")\n",
    "elif a!=b and b!=c and a!=c:\n",
    "    print(\"Scalene Triangle\")\n",
    "except ValueError:\n",
    "    print(\"Invalid input, please enter Digit only\")"
   ]
  },
  {
   "cell_type": "code",
   "execution_count": 7,
   "id": "f1861e1d-6f3d-46d2-85eb-4082edce3390",
   "metadata": {},
   "outputs": [],
   "source": [
    "## 22 Number Guessing Game:"
   ]
  },
  {
   "cell_type": "code",
   "execution_count": 13,
   "id": "a266562d-a8b4-4acc-a74e-acdc0b3af0c1",
   "metadata": {},
   "outputs": [
    {
     "name": "stdin",
     "output_type": "stream",
     "text": [
      "Please enter a number you have guess: 42\n"
     ]
    },
    {
     "name": "stdout",
     "output_type": "stream",
     "text": [
      "Correct Number\n"
     ]
    }
   ],
   "source": [
    "#Write a program where a predefined number is set (e.g., 42). \n",
    "#The user has to guess the number, and the program gives feedback:\n",
    "#\"Too low\" if the guess is less than the number\n",
    "#\"Too high\" if the guess is more than the number\n",
    "#\"Correct!\" if the guess matches the number\n",
    "\n",
    "guess=int(input(\"Please enter a number you have guess:\"))\n",
    "\n",
    "correct_num=42\n",
    "\n",
    "if guess<correct_num:\n",
    "    print(\"Too Low\")\n",
    "elif guess>correct_num:\n",
    "    print(\"Too high\")\n",
    "elif guess==correct_num:\n",
    "    print(\"Correct Number\")\n",
    "else:\n",
    "    print(\"String is not allowed, please enter Digit only\")"
   ]
  },
  {
   "cell_type": "code",
   "execution_count": 2,
   "id": "52a5af22-846d-4272-916c-7bfd9eb4da5e",
   "metadata": {},
   "outputs": [
    {
     "name": "stdin",
     "output_type": "stream",
     "text": [
      "Please enter a number you have guessed:  39\n"
     ]
    },
    {
     "name": "stdout",
     "output_type": "stream",
     "text": [
      "Too Low\n"
     ]
    }
   ],
   "source": [
    "correct_num = 42\n",
    "\n",
    "try:\n",
    "    guess = int(input(\"Please enter a number you have guessed: \"))\n",
    "\n",
    "    if guess < correct_num:\n",
    "        print(\"Too Low\")\n",
    "    elif guess > correct_num:\n",
    "        print(\"Too High\")\n",
    "    elif guess == correct_num:\n",
    "        print(\"Correct Number\")\n",
    "except ValueError:\n",
    "    print(\"String is not allowed, please enter Digits only\")\n"
   ]
  },
  {
   "cell_type": "code",
   "execution_count": 1,
   "id": "611318c9-dcd0-4ab4-a987-2a8ef6091940",
   "metadata": {},
   "outputs": [],
   "source": [
    "## 23. Palindrome Check"
   ]
  },
  {
   "cell_type": "code",
   "execution_count": 6,
   "id": "6f273c41-0ae0-4fd0-b07d-e568886eb233",
   "metadata": {},
   "outputs": [
    {
     "name": "stdin",
     "output_type": "stream",
     "text": [
      "Enter your String cow\n"
     ]
    },
    {
     "name": "stdout",
     "output_type": "stream",
     "text": [
      "\"cow\" is not a palindrome.\n"
     ]
    }
   ],
   "source": [
    "#Write a program to check if a given string is a palindrome (reads the same forwards and backwards).\n",
    "string=input(\"Enter your String\")\n",
    "if string==string[::-1]:\n",
    "     print(f'\"{string}\" is a palindrome.')\n",
    "else:\n",
    "    print(f'\"{string}\" is not a palindrome.')\n",
    "    \n",
    "    \n"
   ]
  },
  {
   "cell_type": "code",
   "execution_count": 7,
   "id": "9bf0455e-8b92-4266-ba03-95607f6679f3",
   "metadata": {},
   "outputs": [],
   "source": [
    "## 24. Eligibility for loan\n"
   ]
  },
  {
   "cell_type": "code",
   "execution_count": 9,
   "id": "00f12fad-df4b-42ca-ac7b-375bb38a55ea",
   "metadata": {},
   "outputs": [
    {
     "name": "stdin",
     "output_type": "stream",
     "text": [
      "Enter your age: 22\n",
      "Enter your income: 4000\n"
     ]
    },
    {
     "name": "stdout",
     "output_type": "stream",
     "text": [
      "Eligible for a loan\n"
     ]
    }
   ],
   "source": [
    "## Write a program that takes the user’s age and monthly income and checks \n",
    "#if they’re eligible for a loan based on the following criteria:\n",
    "#Age between 21 and 60\n",
    "#Monthly income above $3000\n",
    "\n",
    "user_age=int(input(\"Enter your age:\"))\n",
    "income=int(input(\"Enter your income:\"))\n",
    "\n",
    "if (21<= user_age<=60) and (income>=3000):\n",
    "    print(\"Eligible for a loan\")\n",
    "\n",
    "else:\n",
    "    print(\"You are not eligible\")\n",
    "    "
   ]
  },
  {
   "cell_type": "code",
   "execution_count": 10,
   "id": "4ad44ec0-8ddb-482e-845e-ea40e8a17433",
   "metadata": {},
   "outputs": [],
   "source": [
    "## 25. Nested if for Discount and Tax Calculatiom\n"
   ]
  },
  {
   "cell_type": "code",
   "execution_count": 1,
   "id": "69b35285-b548-4bd8-906c-6b3f4ff6b46a",
   "metadata": {},
   "outputs": [
    {
     "name": "stdin",
     "output_type": "stream",
     "text": [
      "Enter the amount: 600\n"
     ]
    },
    {
     "name": "stdout",
     "output_type": "stream",
     "text": [
      "598.50 is total bill\n"
     ]
    }
   ],
   "source": [
    "#Write a program that calculates the total cost of an item based on the following:\n",
    "#If the item price is above $1000, apply a 10% discount.\n",
    "#If the item price is below $1000 but above $500, apply a 5% discount.\n",
    "#After applying the discount, add a 5% tax to the discounted price.\n",
    "\n",
    "amt=int(input(\"Enter the amount:\"))\n",
    "\n",
    "if amt>1000:\n",
    "    dis_amt = amt - (amt*0.10)\n",
    "    total_amt = dis_amt + (dis_amt*0.05)\n",
    "    print(f\"{total_amt:.2f} is total bill\")\n",
    "\n",
    "elif 500 < amt <= 1000:\n",
    "    dis_amt = amt - (amt * 0.05)\n",
    "    total_amt = dis_amt + (dis_amt * 0.05)\n",
    "    print(f\"{total_amt:.2f} is total bill\")\n",
    "\n",
    "else:\n",
    "    print(\"Invalid Input,please enter a valid amount\")\n"
   ]
  },
  {
   "cell_type": "code",
   "execution_count": null,
   "id": "69882054-ed16-44e7-890a-7eede4d6e92f",
   "metadata": {},
   "outputs": [],
   "source": [
    "amt = int(input(\"Enter the amount: \"))\n",
    "\n",
    "if amt > 1000:\n",
    "    dis_amt = amt - (amt * 0.10)  # Apply 10% discount\n",
    "    total_amt = dis_amt + (dis_amt * 0.05)  # Add 5% tax\n",
    "    print(f\"${total_amt:.2f} is the total bill after discount and tax.\")\n",
    "elif 500 < amt <= 1000:\n",
    "    dis_amt = amt - (amt * 0.05)  # Apply 5% discount\n",
    "    total_amt = dis_amt + (dis_amt * 0.05)  # Add 5% tax\n",
    "    print(f\"${total_amt:.2f} is the total bill after discount and tax.\")\n",
    "else:\n",
    "    print(\"Invalid Input, please enter a valid amount.\")\n"
   ]
  },
  {
   "cell_type": "code",
   "execution_count": null,
   "id": "9d411385-a7b8-4224-981f-40136d32291e",
   "metadata": {},
   "outputs": [],
   "source": []
  }
 ],
 "metadata": {
  "kernelspec": {
   "display_name": "Python 3 (ipykernel)",
   "language": "python",
   "name": "python3"
  },
  "language_info": {
   "codemirror_mode": {
    "name": "ipython",
    "version": 3
   },
   "file_extension": ".py",
   "mimetype": "text/x-python",
   "name": "python",
   "nbconvert_exporter": "python",
   "pygments_lexer": "ipython3",
   "version": "3.12.4"
  }
 },
 "nbformat": 4,
 "nbformat_minor": 5
}
