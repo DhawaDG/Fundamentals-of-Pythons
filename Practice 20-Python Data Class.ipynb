{
 "cells": [
  {
   "cell_type": "markdown",
   "id": "00bc618a-c894-4706-9cd6-757fee164bd0",
   "metadata": {},
   "source": [
    "## Python Data Classes"
   ]
  },
  {
   "cell_type": "markdown",
   "id": "bd81e00f-3616-4638-8b45-d206ed946eea",
   "metadata": {},
   "source": [
    "In Python,the dataclass is a feature introduced in Python 3.7 that provides a concise way to define classes\n",
    "primarily intended to store data.It automatically generates several special methods such as int,repr and eq,based on the\n",
    "class attributes you define.This simplifies the process of creating and working with data-focused classes."
   ]
  },
  {
   "cell_type": "code",
   "execution_count": 4,
   "id": "da9d7247-32ef-42e8-a577-3c8274821ce0",
   "metadata": {},
   "outputs": [],
   "source": [
    "from dataclasses import dataclass\n",
    "@dataclass\n",
    "class Person:\n",
    "    name:str\n",
    "    age:int\n",
    "    profession:str\n",
    "    "
   ]
  },
  {
   "cell_type": "markdown",
   "id": "bad67971-13b4-4dd8-9f2b-c700f874434b",
   "metadata": {},
   "source": [
    "The @dataclass decorator automatically generates the following methods for you:#\n",
    "1. __init__(): Initialize the object and assigns the provided values to the attributes\n",
    "2. __repr__():Provides a string representation of the objects.\n",
    "3. __eq__():Implements equally comparison between two objects of the class based on their attributes."
   ]
  },
  {
   "cell_type": "code",
   "execution_count": 5,
   "id": "4e08b39d-ef20-44a9-b9a1-9f729a0b1929",
   "metadata": {},
   "outputs": [
    {
     "data": {
      "text/plain": [
       "Person(name='Dawa', age=27, profession='SE')"
      ]
     },
     "execution_count": 5,
     "metadata": {},
     "output_type": "execute_result"
    }
   ],
   "source": [
    "person1=Person('Dawa',27,'SE')\n",
    "person1"
   ]
  },
  {
   "cell_type": "code",
   "execution_count": 6,
   "id": "9f304bb7-925f-4932-8ee1-fa25efdb63d0",
   "metadata": {},
   "outputs": [
    {
     "data": {
      "text/plain": [
       "27"
      ]
     },
     "execution_count": 6,
     "metadata": {},
     "output_type": "execute_result"
    }
   ],
   "source": [
    "person1.age"
   ]
  },
  {
   "cell_type": "code",
   "execution_count": 7,
   "id": "9bc0f8a5-1931-45f1-a9b7-72dae9a37dc5",
   "metadata": {},
   "outputs": [
    {
     "data": {
      "text/plain": [
       "'Dawa'"
      ]
     },
     "execution_count": 7,
     "metadata": {},
     "output_type": "execute_result"
    }
   ],
   "source": [
    "person1.name"
   ]
  },
  {
   "cell_type": "code",
   "execution_count": 8,
   "id": "99286aa9-b9ed-41e4-813c-d599221122c1",
   "metadata": {},
   "outputs": [],
   "source": [
    "@dataclass\n",
    "class Rectangle:\n",
    "    width:int\n",
    "    height:int\n",
    "    color:str='white'\n",
    "\n",
    "rectangle1=Rectangle(12,14)\n",
    "rectangle2=Rectangle(13,14,'red')"
   ]
  },
  {
   "cell_type": "code",
   "execution_count": 9,
   "id": "8de682c8-b724-4572-a5f5-c69d6a8d278b",
   "metadata": {},
   "outputs": [
    {
     "data": {
      "text/plain": [
       "'red'"
      ]
     },
     "execution_count": 9,
     "metadata": {},
     "output_type": "execute_result"
    }
   ],
   "source": [
    "rectangle2.color"
   ]
  },
  {
   "cell_type": "code",
   "execution_count": 12,
   "id": "eaf1174a-7eda-4965-8d9e-04a29952fc25",
   "metadata": {},
   "outputs": [],
   "source": [
    "@dataclass(frozen=True)\n",
    "class Point:\n",
    "    x:int\n",
    "    y:int\n",
    "    "
   ]
  },
  {
   "cell_type": "code",
   "execution_count": 13,
   "id": "d3882995-0ff3-478b-8bb2-ddf576a32e36",
   "metadata": {},
   "outputs": [],
   "source": [
    "point=Point(3,4)"
   ]
  },
  {
   "cell_type": "code",
   "execution_count": 14,
   "id": "ce9356e7-937f-4444-a3af-0ffe639c1a0a",
   "metadata": {},
   "outputs": [
    {
     "data": {
      "text/plain": [
       "(3, 4)"
      ]
     },
     "execution_count": 14,
     "metadata": {},
     "output_type": "execute_result"
    }
   ],
   "source": [
    "point.x,point.y"
   ]
  },
  {
   "cell_type": "code",
   "execution_count": 15,
   "id": "73920881-8b92-4832-b098-00cfcb813aa6",
   "metadata": {},
   "outputs": [
    {
     "ename": "FrozenInstanceError",
     "evalue": "cannot assign to field 'x'",
     "output_type": "error",
     "traceback": [
      "\u001b[1;31m---------------------------------------------------------------------------\u001b[0m",
      "\u001b[1;31mFrozenInstanceError\u001b[0m                       Traceback (most recent call last)",
      "Cell \u001b[1;32mIn[15], line 1\u001b[0m\n\u001b[1;32m----> 1\u001b[0m \u001b[43mpoint\u001b[49m\u001b[38;5;241;43m.\u001b[39;49m\u001b[43mx\u001b[49m\u001b[38;5;241m=\u001b[39m\u001b[38;5;241m12\u001b[39m\n",
      "File \u001b[1;32m<string>:4\u001b[0m, in \u001b[0;36m__setattr__\u001b[1;34m(self, name, value)\u001b[0m\n",
      "\u001b[1;31mFrozenInstanceError\u001b[0m: cannot assign to field 'x'"
     ]
    }
   ],
   "source": [
    "point.x=12"
   ]
  },
  {
   "cell_type": "code",
   "execution_count": 17,
   "id": "dea08e3c-d95b-4f5a-af6f-fb573c8de0f8",
   "metadata": {},
   "outputs": [],
   "source": [
    "## inheritance\n",
    "\n",
    "@dataclass\n",
    "class Person:\n",
    "    name:str\n",
    "    age:int\n",
    "\n",
    "@dataclass\n",
    "class Employee(Person):\n",
    "    employee_id:str\n",
    "    department:str\n",
    "    "
   ]
  },
  {
   "cell_type": "code",
   "execution_count": 18,
   "id": "e6bc3d07-6bc0-49d7-b7b9-6b802b16e33e",
   "metadata": {},
   "outputs": [],
   "source": [
    "person=Person('Krish',31)\n",
    "employee=Employee(\"krish\",31,'123',\"AI\")"
   ]
  },
  {
   "cell_type": "code",
   "execution_count": 19,
   "id": "55d39f8e-7d2f-4b85-a9f5-3eb16d151d7e",
   "metadata": {},
   "outputs": [
    {
     "data": {
      "text/plain": [
       "'krish'"
      ]
     },
     "execution_count": 19,
     "metadata": {},
     "output_type": "execute_result"
    }
   ],
   "source": [
    "employee.name"
   ]
  },
  {
   "cell_type": "code",
   "execution_count": 20,
   "id": "aef266ef-31ae-42c5-9af4-b278a70dadea",
   "metadata": {},
   "outputs": [
    {
     "data": {
      "text/plain": [
       "'AI'"
      ]
     },
     "execution_count": 20,
     "metadata": {},
     "output_type": "execute_result"
    }
   ],
   "source": [
    "employee.department"
   ]
  },
  {
   "cell_type": "code",
   "execution_count": 21,
   "id": "8d697354-cd37-40ff-a7f0-3e577f5fb6bc",
   "metadata": {},
   "outputs": [],
   "source": [
    "# Nested Dataclasses\n",
    "@dataclass\n",
    "class Address:\n",
    "    street:str\n",
    "    city:str\n",
    "    zip_code:str\n",
    "\n",
    "@dataclass\n",
    "class Person:\n",
    "    name:str\n",
    "    age:str\n",
    "    address:Address\n"
   ]
  },
  {
   "cell_type": "code",
   "execution_count": 22,
   "id": "0db10d10-bc8b-4bbb-9076-513636d21109",
   "metadata": {},
   "outputs": [],
   "source": [
    "address=Address('123 Main street','Banglore','12345')\n",
    "person=Person(\"krish\",31,address)"
   ]
  },
  {
   "cell_type": "code",
   "execution_count": 23,
   "id": "30526189-19e7-477f-a2ad-0d1adeac4b48",
   "metadata": {},
   "outputs": [
    {
     "data": {
      "text/plain": [
       "'123 Main street'"
      ]
     },
     "execution_count": 23,
     "metadata": {},
     "output_type": "execute_result"
    }
   ],
   "source": [
    "person.address.street"
   ]
  },
  {
   "cell_type": "code",
   "execution_count": 24,
   "id": "c30be740-074d-498d-a276-61240af188b8",
   "metadata": {},
   "outputs": [
    {
     "data": {
      "text/plain": [
       "'Banglore'"
      ]
     },
     "execution_count": 24,
     "metadata": {},
     "output_type": "execute_result"
    }
   ],
   "source": [
    "person.address.city"
   ]
  },
  {
   "cell_type": "code",
   "execution_count": null,
   "id": "c05c3325-ce19-4ef4-8770-d2844488a266",
   "metadata": {},
   "outputs": [],
   "source": []
  }
 ],
 "metadata": {
  "kernelspec": {
   "display_name": "Python 3 (ipykernel)",
   "language": "python",
   "name": "python3"
  },
  "language_info": {
   "codemirror_mode": {
    "name": "ipython",
    "version": 3
   },
   "file_extension": ".py",
   "mimetype": "text/x-python",
   "name": "python",
   "nbconvert_exporter": "python",
   "pygments_lexer": "ipython3",
   "version": "3.12.4"
  }
 },
 "nbformat": 4,
 "nbformat_minor": 5
}
