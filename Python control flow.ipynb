{
 "cells": [
  {
   "cell_type": "markdown",
   "id": "f9e99acb-4079-4aee-9fc8-ee597ce1883e",
   "metadata": {},
   "source": [
    "Tutorial 3- python control flows"
   ]
  },
  {
   "cell_type": "code",
   "execution_count": 5,
   "id": "b45d09f4-675c-4e87-a37c-b00c4d34473c",
   "metadata": {},
   "outputs": [
    {
     "name": "stdin",
     "output_type": "stream",
     "text": [
      "enter the number 122\n"
     ]
    },
    {
     "name": "stdout",
     "output_type": "stream",
     "text": [
      "the number is greater than 100\n"
     ]
    }
   ],
   "source": [
    "# IF statement \n",
    "val=input(\"enter the number\")\n",
    "value_float=float(val)\n",
    "if(value_float>100):\n",
    "    print(\"the number is greater than 100\")\n"
   ]
  },
  {
   "cell_type": "code",
   "execution_count": 4,
   "id": "423b0bcf-5382-47e5-a667-78c707c47f42",
   "metadata": {},
   "outputs": [
    {
     "name": "stdin",
     "output_type": "stream",
     "text": [
      "enter the age 16\n"
     ]
    },
    {
     "name": "stdout",
     "output_type": "stream",
     "text": [
      "minor age\n",
      "you are in the college\n"
     ]
    }
   ],
   "source": [
    "# Age form\n",
    "age=float(input(\"enter the age\"))\n",
    "\n",
    "if(age<18):\n",
    "    print(\"minor age\")\n",
    "    if(age<15):\n",
    "        print(\"you are in school\")\n",
    "    else:\n",
    "        print (\"you are in the college\")  \n",
    "elif(age>=18 and age<=35):\n",
    "    print(\"mid age\")\n",
    "elif(age>45 and age <=50):\n",
    "    print(\"senior mid age\")\n",
    "else:\n",
    "    print(\"senior citizen\")\n"
   ]
  },
  {
   "cell_type": "code",
   "execution_count": 9,
   "id": "43d99725-4905-4380-8ec2-bc20bf127410",
   "metadata": {},
   "outputs": [
    {
     "name": "stdout",
     "output_type": "stream",
     "text": [
      "1\n",
      "4\n",
      "9\n",
      "16\n",
      "25\n",
      "36\n",
      "49\n",
      "64\n",
      "81\n",
      "100\n",
      "121\n",
      "144\n"
     ]
    }
   ],
   "source": [
    "## loops statement \n",
    "## for loop, while loop \n",
    "lst=[1,2,3,4,5,6,7,8,9,10,11,12]\n",
    "for i in lst:\n",
    "    print(i**2)"
   ]
  },
  {
   "cell_type": "code",
   "execution_count": 10,
   "id": "d5d68988-5636-4f2d-a45f-b2dd0d4d6f9f",
   "metadata": {},
   "outputs": [
    {
     "name": "stdout",
     "output_type": "stream",
     "text": [
      "78\n"
     ]
    }
   ],
   "source": [
    "sum1=0\n",
    "for i in lst:\n",
    "    sum1=sum1 + i\n",
    "print(sum1)"
   ]
  },
  {
   "cell_type": "code",
   "execution_count": 12,
   "id": "d0c5872b-f252-4773-bb32-bda175a33538",
   "metadata": {},
   "outputs": [
    {
     "name": "stdout",
     "output_type": "stream",
     "text": [
      "even sum is 42\n",
      "odd sum is 36\n"
     ]
    }
   ],
   "source": [
    "even_sum=0\n",
    "odd_sum=0\n",
    "\n",
    "for i in lst:\n",
    "    if(i%2==0):\n",
    "        even_sum=even_sum+i\n",
    "    else:\n",
    "        odd_sum=odd_sum+i\n",
    "print(\"even sum is {}\".format(even_sum))\n",
    "print(\"odd sum is {}\".format(odd_sum))"
   ]
  },
  {
   "cell_type": "code",
   "execution_count": 14,
   "id": "1057de5c-b837-43d3-a182-b9d177819191",
   "metadata": {},
   "outputs": [
    {
     "name": "stdout",
     "output_type": "stream",
     "text": [
      "52 36\n"
     ]
    }
   ],
   "source": [
    "## while condition\n",
    "\n",
    "i=10\n",
    "while(i<=10):\n",
    "    if(i%2==0):\n",
    "        even_sum=even_sum+i\n",
    "    else:\n",
    "        odd_sum=odd_sum+i\n",
    "        \n",
    "    i=i+1\n",
    "    print(even_sum,odd_sum)"
   ]
  },
  {
   "cell_type": "code",
   "execution_count": 18,
   "id": "ec90476a-344c-4d22-a581-668a2e9d4855",
   "metadata": {},
   "outputs": [
    {
     "name": "stdout",
     "output_type": "stream",
     "text": [
      "1\n",
      "2\n",
      "3\n"
     ]
    }
   ],
   "source": [
    "## break\n",
    "x=1\n",
    "while(x<7):\n",
    "    if x==4:\n",
    "        break\n",
    "    print(x)\n",
    "    x=x+1"
   ]
  },
  {
   "cell_type": "code",
   "execution_count": 21,
   "id": "743ec4aa-61e4-4bd1-b9cf-5e532bcdd108",
   "metadata": {},
   "outputs": [
    {
     "name": "stdout",
     "output_type": "stream",
     "text": [
      "1\n",
      "2\n",
      "3\n",
      "4\n",
      "6\n",
      "7\n"
     ]
    }
   ],
   "source": [
    "## continue\n",
    "x=0\n",
    "while x<7:\n",
    "    x=x+1\n",
    "    if x==5: \n",
    "        continue\n",
    "    print(x)"
   ]
  },
  {
   "cell_type": "code",
   "execution_count": null,
   "id": "3eb44696-feed-4ea6-a25b-db0c2e71ee58",
   "metadata": {},
   "outputs": [],
   "source": []
  }
 ],
 "metadata": {
  "kernelspec": {
   "display_name": "Python 3 (ipykernel)",
   "language": "python",
   "name": "python3"
  },
  "language_info": {
   "codemirror_mode": {
    "name": "ipython",
    "version": 3
   },
   "file_extension": ".py",
   "mimetype": "text/x-python",
   "name": "python",
   "nbconvert_exporter": "python",
   "pygments_lexer": "ipython3",
   "version": "3.12.4"
  }
 },
 "nbformat": 4,
 "nbformat_minor": 5
}
