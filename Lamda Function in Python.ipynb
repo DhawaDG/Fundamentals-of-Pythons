{
 "cells": [
  {
   "cell_type": "markdown",
   "id": "1ce5ffe4-828e-4cf4-8908-15517245bb55",
   "metadata": {},
   "source": [
    "### Lamda Function in Python\n"
   ]
  },
  {
   "cell_type": "markdown",
   "id": "7ef2a892-eba5-41ca-bb65-4d4127466147",
   "metadata": {},
   "source": [
    "In python, a lamdha function(also called an anonymous function) is a small\n",
    ", anonymous function that can be defined in a single line of code without\n",
    "a name. It is useful when we need a simple function that we dont want to \n",
    "define explicitly using def keyword. The basic syntax for a lamda function\n",
    "in Python is :\n"
   ]
  },
  {
   "cell_type": "markdown",
   "id": "8a081a21-01f1-4ec4-91d3-6f3b2ac26ab9",
   "metadata": {},
   "source": [
    "## lamda arguments:expression"
   ]
  },
  {
   "cell_type": "markdown",
   "id": "7a1e6608-a06a-46c3-bb22-03a323717be5",
   "metadata": {},
   "source": [
    "here,argument refers to the input arguments for the function and expression\n",
    "is a single expression that gets evaluated and returned as the result of the\n",
    "function.The result of the expression is automatically returned by the lamdha\n",
    "function,so there's no need to use the return statement."
   ]
  },
  {
   "cell_type": "code",
   "execution_count": 3,
   "id": "06b0b716-148e-4e6a-a747-cb51c7393286",
   "metadata": {},
   "outputs": [
    {
     "data": {
      "text/plain": [
       "<function __main__.<lambda>(x, y)>"
      ]
     },
     "execution_count": 3,
     "metadata": {},
     "output_type": "execute_result"
    }
   ],
   "source": [
    "f=lambda x,y:x+y\n",
    "f"
   ]
  },
  {
   "cell_type": "code",
   "execution_count": 4,
   "id": "7ff6b99e-d3dc-48b4-8f68-80af3b795dab",
   "metadata": {},
   "outputs": [
    {
     "data": {
      "text/plain": [
       "11"
      ]
     },
     "execution_count": 4,
     "metadata": {},
     "output_type": "execute_result"
    }
   ],
   "source": [
    "f(5,6)"
   ]
  },
  {
   "cell_type": "code",
   "execution_count": 6,
   "id": "9dea94af-51e2-424c-8082-cff850e435cf",
   "metadata": {},
   "outputs": [
    {
     "data": {
      "text/plain": [
       "12"
      ]
     },
     "execution_count": 6,
     "metadata": {},
     "output_type": "execute_result"
    }
   ],
   "source": [
    "## simples examples\n",
    "multiply=lambda x,y:x*y\n",
    "multiply(3,4)"
   ]
  },
  {
   "cell_type": "code",
   "execution_count": 7,
   "id": "16d2abe9-3fd4-452f-bc98-b83c7f2a70a7",
   "metadata": {},
   "outputs": [
    {
     "data": {
      "text/plain": [
       "18"
      ]
     },
     "execution_count": 7,
     "metadata": {},
     "output_type": "execute_result"
    }
   ],
   "source": [
    "## Return the length of a string\n",
    "string_length=lambda s:len(s)\n",
    "string_length(\"Dawa Dorje Ghising\")"
   ]
  },
  {
   "cell_type": "code",
   "execution_count": 9,
   "id": "5a67d809-b047-4c54-8bab-734ee27d3755",
   "metadata": {},
   "outputs": [
    {
     "name": "stdout",
     "output_type": "stream",
     "text": [
      "[1, 4, 9, 16, 25, 36]\n"
     ]
    }
   ],
   "source": [
    "## convert a list of integers to their correspoding square values:\n",
    "numbers=[1,2,3,4,5,6]\n",
    "squares=list(map(lambda x:x**2,numbers))\n",
    "print(squares)"
   ]
  },
  {
   "cell_type": "code",
   "execution_count": 11,
   "id": "1dc5e672-a171-4746-bd9c-a8c371e8b0e7",
   "metadata": {},
   "outputs": [
    {
     "data": {
      "text/plain": [
       "[2, 4, 6]"
      ]
     },
     "execution_count": 11,
     "metadata": {},
     "output_type": "execute_result"
    }
   ],
   "source": [
    "##filter out even number from a list:\n",
    "numbers=[1,2,3,4,5,6]\n",
    "list(filter(lambda x:x%2==0,numbers))"
   ]
  },
  {
   "cell_type": "code",
   "execution_count": 12,
   "id": "df9ef25a-6cad-44d4-9992-5a4616c88e35",
   "metadata": {},
   "outputs": [
    {
     "data": {
      "text/plain": [
       "False"
      ]
     },
     "execution_count": 12,
     "metadata": {},
     "output_type": "execute_result"
    }
   ],
   "source": [
    "f=lambda x:x%2==0\n",
    "f(3)"
   ]
  },
  {
   "cell_type": "code",
   "execution_count": 13,
   "id": "0b8be495-8d7c-4e23-ab42-70bc2994535b",
   "metadata": {},
   "outputs": [
    {
     "data": {
      "text/plain": [
       "True"
      ]
     },
     "execution_count": 13,
     "metadata": {},
     "output_type": "execute_result"
    }
   ],
   "source": [
    "f=lambda x:x%2==0\n",
    "f(2)"
   ]
  },
  {
   "cell_type": "code",
   "execution_count": 15,
   "id": "e1b4be58-1f86-4584-9941-b7f2a6ad8f4c",
   "metadata": {},
   "outputs": [],
   "source": [
    "## sort a list of string based on thier  alphabetical character and lenght\n",
    "fruits=['apple','banana','cherry','date','elderberry']\n"
   ]
  },
  {
   "cell_type": "code",
   "execution_count": 16,
   "id": "d9dd3a8c-c10f-4c3c-aa4f-bb0723eff26f",
   "metadata": {},
   "outputs": [
    {
     "data": {
      "text/plain": [
       "['date', 'apple', 'banana', 'cherry', 'elderberry']"
      ]
     },
     "execution_count": 16,
     "metadata": {},
     "output_type": "execute_result"
    }
   ],
   "source": [
    "sorted(fruits,key=lambda x:len(x))"
   ]
  },
  {
   "cell_type": "code",
   "execution_count": 17,
   "id": "f392dd70-a508-41c6-8944-66e7cfeebe2c",
   "metadata": {},
   "outputs": [],
   "source": [
    "## complex\n",
    "## sorting a list of dictionaries based on a specific key\n"
   ]
  },
  {
   "cell_type": "code",
   "execution_count": 18,
   "id": "ed2eaa74-43c3-4ae3-a8f9-3a74cd48262c",
   "metadata": {},
   "outputs": [],
   "source": [
    "people=[\n",
    "    {'name':'Alice','age':24,'occupation':'Engineer'},\n",
    "    {'name':'Bob','age':23,'occupation':'Manager'},\n",
    "    {'name':'charlie','age':22,'occupation':'Intern'},\n",
    "    {'name':'Dave','age':27,'occupation':'Designer'},\n",
    "]"
   ]
  },
  {
   "cell_type": "code",
   "execution_count": 22,
   "id": "e992ae1f-ca81-4abb-a217-5de6b10a9d25",
   "metadata": {},
   "outputs": [
    {
     "data": {
      "text/plain": [
       "[{'name': 'charlie', 'age': 22, 'occupation': 'Intern'},\n",
       " {'name': 'Bob', 'age': 23, 'occupation': 'Manager'},\n",
       " {'name': 'Alice', 'age': 24, 'occupation': 'Engineer'},\n",
       " {'name': 'Dave', 'age': 27, 'occupation': 'Designer'}]"
      ]
     },
     "execution_count": 22,
     "metadata": {},
     "output_type": "execute_result"
    }
   ],
   "source": [
    "sorted(people,key=lambda x:x['age'])"
   ]
  },
  {
   "cell_type": "code",
   "execution_count": 23,
   "id": "6d05f8ca-6233-4a6b-bab5-1de5b80ab4fe",
   "metadata": {},
   "outputs": [
    {
     "data": {
      "text/plain": [
       "[{'name': 'charlie', 'age': 22, 'occupation': 'Intern'},\n",
       " {'name': 'Bob', 'age': 23, 'occupation': 'Manager'},\n",
       " {'name': 'Alice', 'age': 24, 'occupation': 'Engineer'},\n",
       " {'name': 'Dave', 'age': 27, 'occupation': 'Designer'}]"
      ]
     },
     "execution_count": 23,
     "metadata": {},
     "output_type": "execute_result"
    }
   ],
   "source": [
    "sorted(people,key=lambda x:(x['age'],x['name']))"
   ]
  },
  {
   "cell_type": "code",
   "execution_count": 24,
   "id": "1a312b53-fb1e-4831-9ba5-afccfd30dee1",
   "metadata": {},
   "outputs": [
    {
     "data": {
      "text/plain": [
       "'b'"
      ]
     },
     "execution_count": 24,
     "metadata": {},
     "output_type": "execute_result"
    }
   ],
   "source": [
    "## Finding the maximum value in a dictionary\n",
    "data={'a':10,'b':20,'c':5,'d':15}\n",
    "max(data,key=lambda x:data[x])"
   ]
  },
  {
   "cell_type": "code",
   "execution_count": 25,
   "id": "ceed12c0-5905-4dc0-887a-f2bddced5ca6",
   "metadata": {},
   "outputs": [
    {
     "data": {
      "text/plain": [
       "'c'"
      ]
     },
     "execution_count": 25,
     "metadata": {},
     "output_type": "execute_result"
    }
   ],
   "source": [
    "min(data,key=lambda x:data[x])"
   ]
  },
  {
   "cell_type": "code",
   "execution_count": 26,
   "id": "15b45815-5c7b-47c0-8963-48c05b27b1b6",
   "metadata": {},
   "outputs": [
    {
     "name": "stdout",
     "output_type": "stream",
     "text": [
      "a ['apple']\n",
      "b ['banana']\n",
      "c ['cherry']\n",
      "d ['date']\n",
      "e ['elderberry']\n",
      "f ['fig']\n"
     ]
    }
   ],
   "source": [
    "## Grouping a list of string based on thier first letter\n",
    "from itertools import groupby\n",
    "words=['apple','banana','cherry','date','elderberry','fig']\n",
    "groups=groupby(sorted(words),key=lambda x:x[0])\n",
    "for key, group in groups:\n",
    "    print(key,list(group))"
   ]
  },
  {
   "cell_type": "code",
   "execution_count": null,
   "id": "791309ba-9ed5-471f-8c7c-df2146799dd6",
   "metadata": {},
   "outputs": [],
   "source": []
  }
 ],
 "metadata": {
  "kernelspec": {
   "display_name": "Python 3 (ipykernel)",
   "language": "python",
   "name": "python3"
  },
  "language_info": {
   "codemirror_mode": {
    "name": "ipython",
    "version": 3
   },
   "file_extension": ".py",
   "mimetype": "text/x-python",
   "name": "python",
   "nbconvert_exporter": "python",
   "pygments_lexer": "ipython3",
   "version": "3.12.4"
  }
 },
 "nbformat": 4,
 "nbformat_minor": 5
}
