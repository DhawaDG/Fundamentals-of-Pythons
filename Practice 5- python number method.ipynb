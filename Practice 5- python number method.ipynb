{
 "cells": [
  {
   "cell_type": "markdown",
   "id": "8ba9e19b-6f79-4239-822c-33c3ef74b434",
   "metadata": {},
   "source": [
    "Tutorial 5- python number methods"
   ]
  },
  {
   "cell_type": "code",
   "execution_count": 1,
   "id": "65eded64-649a-4556-922c-a27593b9dee1",
   "metadata": {},
   "outputs": [
    {
     "data": {
      "text/plain": [
       "3"
      ]
     },
     "execution_count": 1,
     "metadata": {},
     "output_type": "execute_result"
    }
   ],
   "source": [
    " 1+2"
   ]
  },
  {
   "cell_type": "code",
   "execution_count": 2,
   "id": "c8b152cf-376d-4b52-b8f8-a288ff9c66b9",
   "metadata": {},
   "outputs": [
    {
     "data": {
      "text/plain": [
       "10"
      ]
     },
     "execution_count": 2,
     "metadata": {},
     "output_type": "execute_result"
    }
   ],
   "source": [
    "abs(10)"
   ]
  },
  {
   "cell_type": "code",
   "execution_count": 3,
   "id": "44d70da6-c4b7-4c95-9d72-2afeaf2a79ce",
   "metadata": {},
   "outputs": [
    {
     "data": {
      "text/plain": [
       "10"
      ]
     },
     "execution_count": 3,
     "metadata": {},
     "output_type": "execute_result"
    }
   ],
   "source": [
    "abs(-10)"
   ]
  },
  {
   "cell_type": "code",
   "execution_count": 4,
   "id": "10a6cd23-563f-42ec-ae86-d2f73b0dd551",
   "metadata": {},
   "outputs": [
    {
     "data": {
      "text/plain": [
       "12.7"
      ]
     },
     "execution_count": 4,
     "metadata": {},
     "output_type": "execute_result"
    }
   ],
   "source": [
    "abs(-12.7)"
   ]
  },
  {
   "cell_type": "code",
   "execution_count": 5,
   "id": "bbeea17f-70b5-4135-9b7f-6c006f466c16",
   "metadata": {},
   "outputs": [
    {
     "data": {
      "text/plain": [
       "12.78"
      ]
     },
     "execution_count": 5,
     "metadata": {},
     "output_type": "execute_result"
    }
   ],
   "source": [
    "abs(12.78)"
   ]
  },
  {
   "cell_type": "markdown",
   "id": "a7cce79c-4632-40ca-80e2-2df66977180e",
   "metadata": {},
   "source": [
    "ceil()\n",
    "ceil(x) will return the ceiling value of a number x which we pass in argument. The ceiling value of number x will be\n",
    "the smallest integer not less than x\n",
    "\n",
    " note:- this function will not be accessible directly using cell() method. math module will be required to access this method.\n",
    " "
   ]
  },
  {
   "cell_type": "code",
   "execution_count": 6,
   "id": "fb55dc7c-9e44-46ff-b645-692649569386",
   "metadata": {},
   "outputs": [],
   "source": [
    "import math"
   ]
  },
  {
   "cell_type": "code",
   "execution_count": 7,
   "id": "0f173273-ea40-4f17-819a-155f00fa1bee",
   "metadata": {},
   "outputs": [
    {
     "data": {
      "text/plain": [
       "44"
      ]
     },
     "execution_count": 7,
     "metadata": {},
     "output_type": "execute_result"
    }
   ],
   "source": [
    "math.ceil(43.76)"
   ]
  },
  {
   "cell_type": "code",
   "execution_count": 8,
   "id": "1dd99874-b18a-4ef9-98c8-bfbec1c52c9f",
   "metadata": {},
   "outputs": [
    {
     "data": {
      "text/plain": [
       "34"
      ]
     },
     "execution_count": 8,
     "metadata": {},
     "output_type": "execute_result"
    }
   ],
   "source": [
    "math.ceil(33.7)"
   ]
  },
  {
   "cell_type": "code",
   "execution_count": 9,
   "id": "a2ef115e-4a7c-4054-ab06-fd1fcbd0af99",
   "metadata": {},
   "outputs": [
    {
     "data": {
      "text/plain": [
       "34"
      ]
     },
     "execution_count": 9,
     "metadata": {},
     "output_type": "execute_result"
    }
   ],
   "source": [
    "math.ceil(33.3)"
   ]
  },
  {
   "cell_type": "markdown",
   "id": "1e4faf79-df2a-4441-bad9-82e940814839",
   "metadata": {},
   "source": [
    "### floor"
   ]
  },
  {
   "cell_type": "code",
   "execution_count": 10,
   "id": "6dae0e1a-a8a6-4975-bc37-3b28cb6de7ea",
   "metadata": {},
   "outputs": [
    {
     "data": {
      "text/plain": [
       "43"
      ]
     },
     "execution_count": 10,
     "metadata": {},
     "output_type": "execute_result"
    }
   ],
   "source": [
    "math.floor(43.9)"
   ]
  },
  {
   "cell_type": "code",
   "execution_count": 11,
   "id": "eebd14a2-7422-4490-b190-4ebc33e3e8a5",
   "metadata": {},
   "outputs": [
    {
     "data": {
      "text/plain": [
       "43"
      ]
     },
     "execution_count": 11,
     "metadata": {},
     "output_type": "execute_result"
    }
   ],
   "source": [
    "math.floor(43.1)"
   ]
  },
  {
   "cell_type": "markdown",
   "id": "964ac8f1-6aa1-496a-891e-736081bd2072",
   "metadata": {},
   "source": [
    "exp()\n",
    "exp(x) will return the exponential value of a number x which we pass in argument \n",
    "note- this function will not be accessible directly using exp() method. math module will be required to access this method"
   ]
  },
  {
   "cell_type": "code",
   "execution_count": 13,
   "id": "8d833286-dfe0-4adc-bfbf-8496d7692fa6",
   "metadata": {},
   "outputs": [
    {
     "data": {
      "text/plain": [
       "65659969.13733051"
      ]
     },
     "execution_count": 13,
     "metadata": {},
     "output_type": "execute_result"
    }
   ],
   "source": [
    "math.exp(18)"
   ]
  },
  {
   "cell_type": "code",
   "execution_count": 14,
   "id": "5dfc1f8a-e0d3-49f5-92ae-e0d02e9d4738",
   "metadata": {},
   "outputs": [
    {
     "data": {
      "text/plain": [
       "0.006737946999085467"
      ]
     },
     "execution_count": 14,
     "metadata": {},
     "output_type": "execute_result"
    }
   ],
   "source": [
    "math.exp(-5)"
   ]
  },
  {
   "cell_type": "markdown",
   "id": "3adf3ff3-aef1-4b72-b980-44e5d22bd57d",
   "metadata": {},
   "source": [
    "### fabs()"
   ]
  },
  {
   "cell_type": "code",
   "execution_count": 15,
   "id": "1f11e104-5efb-4d39-84d2-5ccfd68063a9",
   "metadata": {},
   "outputs": [
    {
     "data": {
      "text/plain": [
       "10.0"
      ]
     },
     "execution_count": 15,
     "metadata": {},
     "output_type": "execute_result"
    }
   ],
   "source": [
    "math.fabs(-10)"
   ]
  },
  {
   "cell_type": "code",
   "execution_count": 16,
   "id": "ac90aee6-e042-445d-8c5f-8793a2ef7eb3",
   "metadata": {},
   "outputs": [
    {
     "data": {
      "text/plain": [
       "12.0"
      ]
     },
     "execution_count": 16,
     "metadata": {},
     "output_type": "execute_result"
    }
   ],
   "source": [
    "math.fabs(12)"
   ]
  },
  {
   "cell_type": "markdown",
   "id": "27cdafcb-ceba-484a-8637-2de0256d4c79",
   "metadata": {},
   "source": [
    "### logs()"
   ]
  },
  {
   "cell_type": "code",
   "execution_count": 17,
   "id": "148074d7-8c6d-4850-a730-2d8701e1b1fd",
   "metadata": {},
   "outputs": [
    {
     "data": {
      "text/plain": [
       "2.995732273553991"
      ]
     },
     "execution_count": 17,
     "metadata": {},
     "output_type": "execute_result"
    }
   ],
   "source": [
    "math.log(20)"
   ]
  },
  {
   "cell_type": "code",
   "execution_count": 19,
   "id": "7095f4a0-694e-4ef0-ae9b-05da693b52cf",
   "metadata": {},
   "outputs": [
    {
     "data": {
      "text/plain": [
       "3.4011973816621555"
      ]
     },
     "execution_count": 19,
     "metadata": {},
     "output_type": "execute_result"
    }
   ],
   "source": [
    "math.log(30)"
   ]
  },
  {
   "cell_type": "markdown",
   "id": "bc0a5853-e748-403b-8b54-68fb027e2471",
   "metadata": {},
   "source": [
    "### max()"
   ]
  },
  {
   "cell_type": "code",
   "execution_count": 20,
   "id": "c99bee41-2b8b-49b3-be98-e53aa7753e9e",
   "metadata": {},
   "outputs": [
    {
     "data": {
      "text/plain": [
       "100"
      ]
     },
     "execution_count": 20,
     "metadata": {},
     "output_type": "execute_result"
    }
   ],
   "source": [
    "max(10,12,5,76,100)"
   ]
  },
  {
   "cell_type": "code",
   "execution_count": 21,
   "id": "e4f967d6-1aaa-4027-ac6a-821b6dd5aa67",
   "metadata": {},
   "outputs": [
    {
     "data": {
      "text/plain": [
       "-23"
      ]
     },
     "execution_count": 21,
     "metadata": {},
     "output_type": "execute_result"
    }
   ],
   "source": [
    "max(-23,-24,-26)"
   ]
  },
  {
   "cell_type": "markdown",
   "id": "e805c1a9-fd82-4bca-ba1b-67356b67864c",
   "metadata": {},
   "source": [
    "### min()"
   ]
  },
  {
   "cell_type": "code",
   "execution_count": 22,
   "id": "7f2d2a3a-9f83-44c2-b8eb-0394cf36f21d",
   "metadata": {},
   "outputs": [
    {
     "data": {
      "text/plain": [
       "0"
      ]
     },
     "execution_count": 22,
     "metadata": {},
     "output_type": "execute_result"
    }
   ],
   "source": [
    "min(0,80,55,77,23)"
   ]
  },
  {
   "cell_type": "markdown",
   "id": "b1d26aad-ac71-42fb-a301-f49f60bd3d82",
   "metadata": {},
   "source": [
    "min(-100,45,0,-200)"
   ]
  },
  {
   "cell_type": "markdown",
   "id": "27233856-3db7-40d1-9356-adeafcd9201c",
   "metadata": {},
   "source": [
    "### pow()"
   ]
  },
  {
   "cell_type": "code",
   "execution_count": 26,
   "id": "d74a09d5-1eab-4877-bf43-947c99ab42c4",
   "metadata": {},
   "outputs": [
    {
     "data": {
      "text/plain": [
       "3200000.0"
      ]
     },
     "execution_count": 26,
     "metadata": {},
     "output_type": "execute_result"
    }
   ],
   "source": [
    "math.pow(20,5)"
   ]
  },
  {
   "cell_type": "code",
   "execution_count": 27,
   "id": "b3eda3d8-8ef3-430e-8e15-55f95296a0ac",
   "metadata": {},
   "outputs": [
    {
     "data": {
      "text/plain": [
       "4.0"
      ]
     },
     "execution_count": 27,
     "metadata": {},
     "output_type": "execute_result"
    }
   ],
   "source": [
    "math.pow(2,2)"
   ]
  },
  {
   "cell_type": "markdown",
   "id": "5599ac36-c342-4deb-9e4a-425a3579024b",
   "metadata": {},
   "source": [
    "### sqrt()"
   ]
  },
  {
   "cell_type": "code",
   "execution_count": 28,
   "id": "aa39eacf-a3f0-488e-a4f1-73fc94c6fbb1",
   "metadata": {},
   "outputs": [
    {
     "data": {
      "text/plain": [
       "2.0"
      ]
     },
     "execution_count": 28,
     "metadata": {},
     "output_type": "execute_result"
    }
   ],
   "source": [
    "math.sqrt(4)"
   ]
  },
  {
   "cell_type": "code",
   "execution_count": 29,
   "id": "4c97cc30-eb50-41ae-ad61-5e0c522fee74",
   "metadata": {},
   "outputs": [
    {
     "data": {
      "text/plain": [
       "4.0"
      ]
     },
     "execution_count": 29,
     "metadata": {},
     "output_type": "execute_result"
    }
   ],
   "source": [
    "math.sqrt(16)"
   ]
  },
  {
   "cell_type": "code",
   "execution_count": 31,
   "id": "5975c982-7e72-4be6-9eea-d62d079c85cd",
   "metadata": {},
   "outputs": [
    {
     "data": {
      "text/plain": [
       "6.0"
      ]
     },
     "execution_count": 31,
     "metadata": {},
     "output_type": "execute_result"
    }
   ],
   "source": [
    "math.sqrt(36)\n"
   ]
  },
  {
   "cell_type": "markdown",
   "id": "c246f46e-b2b6-435e-8bc0-527837c3bb71",
   "metadata": {},
   "source": [
    "### Triggnometric Function"
   ]
  },
  {
   "cell_type": "code",
   "execution_count": 32,
   "id": "e9dfa65a-8d5a-4752-8e9d-820a17a4d17e",
   "metadata": {},
   "outputs": [
    {
     "data": {
      "text/plain": [
       "-0.8011526357338304"
      ]
     },
     "execution_count": 32,
     "metadata": {},
     "output_type": "execute_result"
    }
   ],
   "source": [
    "import math \n",
    "math.sin(180)\n"
   ]
  },
  {
   "cell_type": "code",
   "execution_count": 34,
   "id": "19fc09e3-108c-4b91-b9b0-976a89a55b85",
   "metadata": {},
   "outputs": [
    {
     "data": {
      "text/plain": [
       "-0.4480736161291701"
      ]
     },
     "execution_count": 34,
     "metadata": {},
     "output_type": "execute_result"
    }
   ],
   "source": [
    "math.cos(90)"
   ]
  },
  {
   "cell_type": "code",
   "execution_count": 35,
   "id": "9a4d8732-b050-45f6-a0a0-c0a0dbbb54fc",
   "metadata": {},
   "outputs": [
    {
     "data": {
      "text/plain": [
       "1.6197751905438615"
      ]
     },
     "execution_count": 35,
     "metadata": {},
     "output_type": "execute_result"
    }
   ],
   "source": [
    "math.tan(45)"
   ]
  },
  {
   "cell_type": "markdown",
   "id": "dbe92341-6219-4b2a-aa6c-be8e3a5003c4",
   "metadata": {},
   "source": [
    "### hypot()"
   ]
  },
  {
   "cell_type": "code",
   "execution_count": 38,
   "id": "ac05932a-6213-449e-89ee-bd28c2e10969",
   "metadata": {},
   "outputs": [
    {
     "data": {
      "text/plain": [
       "3.605551275463989"
      ]
     },
     "execution_count": 38,
     "metadata": {},
     "output_type": "execute_result"
    }
   ],
   "source": [
    "math.hypot(2,3)"
   ]
  },
  {
   "cell_type": "code",
   "execution_count": null,
   "id": "76b12c0b-b83f-4d31-a6d6-38ac2927161a",
   "metadata": {},
   "outputs": [],
   "source": []
  }
 ],
 "metadata": {
  "kernelspec": {
   "display_name": "Python 3 (ipykernel)",
   "language": "python",
   "name": "python3"
  },
  "language_info": {
   "codemirror_mode": {
    "name": "ipython",
    "version": 3
   },
   "file_extension": ".py",
   "mimetype": "text/x-python",
   "name": "python",
   "nbconvert_exporter": "python",
   "pygments_lexer": "ipython3",
   "version": "3.12.4"
  }
 },
 "nbformat": 4,
 "nbformat_minor": 5
}
