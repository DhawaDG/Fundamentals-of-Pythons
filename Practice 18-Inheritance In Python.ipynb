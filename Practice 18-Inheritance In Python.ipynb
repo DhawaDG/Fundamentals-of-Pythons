{
 "cells": [
  {
   "cell_type": "markdown",
   "id": "a8784330-590a-4d9b-91d2-0433d6f50d95",
   "metadata": {},
   "source": [
    "### Turorial 19-Inheritance In Python"
   ]
  },
  {
   "cell_type": "code",
   "execution_count": 6,
   "id": "0135488f-08af-4dc5-b789-0f7c461202c2",
   "metadata": {},
   "outputs": [
    {
     "name": "stdout",
     "output_type": "stream",
     "text": [
      "4\n",
      "4\n",
      "Car is used for driving\n",
      "It is a self driving car\n"
     ]
    }
   ],
   "source": [
    "class Car:\n",
    "    def __init__(self,windows,doors,enginetype):\n",
    "        self.windows=windows\n",
    "        self.doors=doors\n",
    "        self.enginetype=enginetype\n",
    "    def driving(self):\n",
    "        print(\"Car is used for driving\")\n",
    "\n",
    "class Audi(Car):\n",
    "    def __init__(self,windows,doors,enginetype,horsepower):\n",
    "        super().__init__(windows,doors,enginetype)\n",
    "        self.horsepower=horsepower\n",
    "\n",
    "    def selfdriving(self):\n",
    "        print(\"I\n",
    "        t is a self driving car\")\n",
    "\n",
    "audi7=Audi(4,5,\"Diesel\",200)\n",
    "print(audi7.windows)\n",
    "print(audi7.windows)\n",
    "audi7.driving()\n",
    "audi7.selfdriving()"
   ]
  },
  {
   "cell_type": "code",
   "execution_count": null,
   "id": "35d0a89a-b830-4453-83a0-fd1322ac68d7",
   "metadata": {},
   "outputs": [],
   "source": []
  }
 ],
 "metadata": {
  "kernelspec": {
   "display_name": "Python 3 (ipykernel)",
   "language": "python",
   "name": "python3"
  },
  "language_info": {
   "codemirror_mode": {
    "name": "ipython",
    "version": 3
   },
   "file_extension": ".py",
   "mimetype": "text/x-python",
   "name": "python",
   "nbconvert_exporter": "python",
   "pygments_lexer": "ipython3",
   "version": "3.12.4"
  }
 },
 "nbformat": 4,
 "nbformat_minor": 5
}
