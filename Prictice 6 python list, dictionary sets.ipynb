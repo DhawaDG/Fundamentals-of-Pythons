{
 "cells": [
  {
   "cell_type": "markdown",
   "id": "b8fe499e-2423-411c-8358-8915daf104b4",
   "metadata": {},
   "source": [
    "### tutorial 6 list dictionary,sets etc\n"
   ]
  },
  {
   "cell_type": "markdown",
   "id": "11365bfb-b2c5-47c8-8d1c-b41e388ec941",
   "metadata": {},
   "source": [
    "#### Lists"
   ]
  },
  {
   "cell_type": "markdown",
   "id": "5c12c056-36ee-4aee-97b7-e9eb9b343b89",
   "metadata": {},
   "source": [
    "A list is a data structure in python that is a mutale, or changeable , ordered sequence of  elements. Each element or \n",
    "value that is inside of a list is called an item. just as strings are defined as characters between quotes, lists are \n",
    "are defined by having values between square brackets[]"
   ]
  },
  {
   "cell_type": "code",
   "execution_count": 7,
   "id": "99174049-7496-40a3-91b5-f911bed0e033",
   "metadata": {},
   "outputs": [
    {
     "name": "stdout",
     "output_type": "stream",
     "text": [
      "krish\n"
     ]
    },
    {
     "data": {
      "text/plain": [
       "str"
      ]
     },
     "execution_count": 7,
     "metadata": {},
     "output_type": "execute_result"
    }
   ],
   "source": [
    "##mutable vs immmutable \n",
    "str1=\"krish\"\n",
    "print(str1)\n",
    "type(str1)"
   ]
  },
  {
   "cell_type": "code",
   "execution_count": 8,
   "id": "d04f29db-28eb-45f9-b051-a46e818d687b",
   "metadata": {},
   "outputs": [
    {
     "name": "stdout",
     "output_type": "stream",
     "text": [
      "Naik\n"
     ]
    }
   ],
   "source": [
    "str1=\"Naik\"\n",
    "print(str1)"
   ]
  },
  {
   "cell_type": "code",
   "execution_count": 5,
   "id": "adadd970-59a1-4b31-95da-125699dd05cc",
   "metadata": {},
   "outputs": [],
   "source": [
    "lst_example=[]"
   ]
  },
  {
   "cell_type": "code",
   "execution_count": 3,
   "id": "3c0d1cb4-c6e3-442b-89aa-cc59c3ccba08",
   "metadata": {},
   "outputs": [
    {
     "data": {
      "text/plain": [
       "list"
      ]
     },
     "execution_count": 3,
     "metadata": {},
     "output_type": "execute_result"
    }
   ],
   "source": [
    "type([])"
   ]
  },
  {
   "cell_type": "code",
   "execution_count": 10,
   "id": "70527c3f-2b65-4039-b28d-881f641ff397",
   "metadata": {},
   "outputs": [
    {
     "name": "stdout",
     "output_type": "stream",
     "text": [
      "[1, 2, 3, 4, 'ghising', 'tamang']\n",
      "ghising\n"
     ]
    }
   ],
   "source": [
    "#mutable\n",
    "dawa_list=[1,2,3,4,\"ghising\",\"tamang\"]\n",
    "print(dawa_list)\n",
    "print(dawa_list[4])"
   ]
  },
  {
   "cell_type": "code",
   "execution_count": 11,
   "id": "64adafdd-fa61-4756-b0a3-17d5a0ebb4d9",
   "metadata": {},
   "outputs": [
    {
     "data": {
      "text/plain": [
       "list"
      ]
     },
     "execution_count": 11,
     "metadata": {},
     "output_type": "execute_result"
    }
   ],
   "source": [
    "dawa_list1=list((1,2,3,4,5))\n",
    "type(dawa_list1)\n"
   ]
  },
  {
   "cell_type": "code",
   "execution_count": 12,
   "id": "46b105d2-69f5-4b5c-83dd-7ba8d58ef57a",
   "metadata": {},
   "outputs": [
    {
     "name": "stdout",
     "output_type": "stream",
     "text": [
      "1\n",
      "2\n",
      "3\n",
      "4\n",
      "5\n"
     ]
    }
   ],
   "source": [
    "for i in dawa_list1:\n",
    "    print(i)"
   ]
  },
  {
   "cell_type": "code",
   "execution_count": 13,
   "id": "fc6c0b76-6703-41ae-9b35-76e09eadb580",
   "metadata": {},
   "outputs": [
    {
     "data": {
      "text/plain": [
       "5"
      ]
     },
     "execution_count": 13,
     "metadata": {},
     "output_type": "execute_result"
    }
   ],
   "source": [
    "len(dawa_list1)"
   ]
  },
  {
   "cell_type": "code",
   "execution_count": 14,
   "id": "115625bc-39f5-49ad-95bd-e4fdaa01eda1",
   "metadata": {},
   "outputs": [
    {
     "data": {
      "text/plain": [
       "5"
      ]
     },
     "execution_count": 14,
     "metadata": {},
     "output_type": "execute_result"
    }
   ],
   "source": [
    "max(dawa_list1)"
   ]
  },
  {
   "cell_type": "code",
   "execution_count": 15,
   "id": "a0147446-8089-44eb-8fde-ad47e9ecb1aa",
   "metadata": {},
   "outputs": [
    {
     "data": {
      "text/plain": [
       "list"
      ]
     },
     "execution_count": 15,
     "metadata": {},
     "output_type": "execute_result"
    }
   ],
   "source": [
    "type([])"
   ]
  },
  {
   "cell_type": "markdown",
   "id": "a6a8c2e6-a501-4ffd-a493-eb771ad883e9",
   "metadata": {},
   "source": [
    "### Append"
   ]
  },
  {
   "cell_type": "code",
   "execution_count": 16,
   "id": "6f1f7ba6-e2f6-49ae-998f-8519f94f45b7",
   "metadata": {},
   "outputs": [
    {
     "data": {
      "text/plain": [
       "[1, 2, 3, 4, 5]"
      ]
     },
     "execution_count": 16,
     "metadata": {},
     "output_type": "execute_result"
    }
   ],
   "source": [
    "dawa_list1"
   ]
  },
  {
   "cell_type": "code",
   "execution_count": 18,
   "id": "fa28f897-ecff-4bc0-bcd8-2f2bfbea18c5",
   "metadata": {},
   "outputs": [],
   "source": [
    "#. append is used to add element in the list\n",
    "dawa_list1.append(\"yogita\")"
   ]
  },
  {
   "cell_type": "code",
   "execution_count": 25,
   "id": "a8f56f0a-9afc-4807-a20f-7e27f98779d5",
   "metadata": {},
   "outputs": [
    {
     "data": {
      "text/plain": [
       "[1,\n",
       " 2,\n",
       " 3,\n",
       " 4,\n",
       " 5,\n",
       " 'yogita',\n",
       " ['junior', 'neymar'],\n",
       " ['junior', 'neymar'],\n",
       " ['junior', 'neymar'],\n",
       " ['junior', 'neymar']]"
      ]
     },
     "execution_count": 25,
     "metadata": {},
     "output_type": "execute_result"
    }
   ],
   "source": [
    "dawa_list1"
   ]
  },
  {
   "cell_type": "code",
   "execution_count": 24,
   "id": "ee9d67d4-d58c-4665-8af2-35ed2d9afb28",
   "metadata": {},
   "outputs": [
    {
     "data": {
      "text/plain": [
       "[1,\n",
       " 2,\n",
       " 3,\n",
       " 4,\n",
       " 5,\n",
       " 'yogita',\n",
       " ['junior', 'neymar'],\n",
       " ['junior', 'neymar'],\n",
       " ['junior', 'neymar'],\n",
       " ['junior', 'neymar']]"
      ]
     },
     "execution_count": 24,
     "metadata": {},
     "output_type": "execute_result"
    }
   ],
   "source": [
    "dawa_list1.append([\"junior\",\"neymar\"])\n",
    "dawa_list1\n",
    "\n",
    "\n",
    "\n",
    "\n",
    "`"
   ]
  },
  {
   "cell_type": "code",
   "execution_count": 26,
   "id": "16c821fa-c0cf-42a4-bcd7-ced2bfd4a544",
   "metadata": {},
   "outputs": [
    {
     "data": {
      "text/plain": [
       "[['junior', 'neymar'], ['junior', 'neymar'], ['junior', 'neymar']]"
      ]
     },
     "execution_count": 26,
     "metadata": {},
     "output_type": "execute_result"
    }
   ],
   "source": [
    "dawa_list1[6:9]"
   ]
  },
  {
   "cell_type": "markdown",
   "id": "54df0a47-c053-44b8-b886-9402f57eb4de",
   "metadata": {},
   "source": [
    "### Insert"
   ]
  },
  {
   "cell_type": "code",
   "execution_count": 28,
   "id": "0ab9aa06-8067-4741-a867-950272663431",
   "metadata": {},
   "outputs": [
    {
     "data": {
      "text/plain": [
       "[1,\n",
       " 2,\n",
       " 3,\n",
       " 4,\n",
       " 5,\n",
       " 'yogita',\n",
       " ['junior', 'neymar'],\n",
       " ['junior', 'neymar'],\n",
       " ['junior', 'neymar'],\n",
       " ['junior', 'neymar']]"
      ]
     },
     "execution_count": 28,
     "metadata": {},
     "output_type": "execute_result"
    }
   ],
   "source": [
    "dawa_list1"
   ]
  },
  {
   "cell_type": "code",
   "execution_count": 30,
   "id": "23cdb783-bcbf-4eab-baad-7583a8ef5fe7",
   "metadata": {},
   "outputs": [],
   "source": [
    "## insert to a specific order\n",
    "dawa_list1.insert(2,\"ghising\")"
   ]
  },
  {
   "cell_type": "code",
   "execution_count": 32,
   "id": "68dd4b28-826b-4cfa-87de-b9ebd46c49bb",
   "metadata": {},
   "outputs": [
    {
     "data": {
      "text/plain": [
       "[1,\n",
       " 2,\n",
       " 'ghising',\n",
       " 3,\n",
       " 4,\n",
       " 5,\n",
       " 'yogita',\n",
       " ['junior', 'neymar'],\n",
       " ['junior', 'neymar'],\n",
       " ['junior', 'neymar'],\n",
       " ['junior', 'neymar']]"
      ]
     },
     "execution_count": 32,
     "metadata": {},
     "output_type": "execute_result"
    }
   ],
   "source": [
    "dawa_list1\n"
   ]
  },
  {
   "cell_type": "markdown",
   "id": "fbe874de-afc0-4deb-b174-23c37fb4ac2a",
   "metadata": {},
   "source": [
    "## Extend Method"
   ]
  },
  {
   "cell_type": "code",
   "execution_count": 40,
   "id": "5c150f70-72d4-45fc-ae45-8d5536b6f67c",
   "metadata": {},
   "outputs": [],
   "source": [
    "mylist=[1,2,3,4,5,6,7,8,9,10]"
   ]
  },
  {
   "cell_type": "code",
   "execution_count": 41,
   "id": "da0a7a39-244b-48f9-839c-a55f60389348",
   "metadata": {},
   "outputs": [
    {
     "data": {
      "text/plain": [
       "[1, 2, 3, 4, 5, 6, 7, 8, 9, 10, 11, 12]"
      ]
     },
     "execution_count": 41,
     "metadata": {},
     "output_type": "execute_result"
    }
   ],
   "source": [
    "mylist.extend([11,12])\n",
    "mylist"
   ]
  },
  {
   "cell_type": "code",
   "execution_count": 42,
   "id": "caa4e6da-31b8-4f80-9f11-881f085764d9",
   "metadata": {},
   "outputs": [
    {
     "data": {
      "text/plain": [
       "[1, 2, 3, 4, 5, 6, 7, 8, 9, 10, 11, 12, [13, 14]]"
      ]
     },
     "execution_count": 42,
     "metadata": {},
     "output_type": "execute_result"
    }
   ],
   "source": [
    "mylist.append([13,14])\n",
    "mylist"
   ]
  },
  {
   "cell_type": "code",
   "execution_count": 43,
   "id": "72e651c8-ea13-40bb-a92b-163cb5a70836",
   "metadata": {},
   "outputs": [],
   "source": [
    "# difference between append and extend\n",
    "#append() adds its argument as a single element to the end of a list.#\n",
    "#extend() iterates over its argument and adds each item individually.#"
   ]
  },
  {
   "cell_type": "markdown",
   "id": "06c8a833-3a67-4102-b553-fee54104d851",
   "metadata": {},
   "source": [
    "### Various Operations that we can perform in list"
   ]
  },
  {
   "cell_type": "code",
   "execution_count": 45,
   "id": "5f113c11-c2fe-41ca-a829-e6c08f99857e",
   "metadata": {},
   "outputs": [],
   "source": [
    "urlist=[1,2,3,4,5,6,7,8,9]\n"
   ]
  },
  {
   "cell_type": "code",
   "execution_count": 46,
   "id": "340e749e-0251-4c63-b961-192899922aef",
   "metadata": {},
   "outputs": [
    {
     "data": {
      "text/plain": [
       "45"
      ]
     },
     "execution_count": 46,
     "metadata": {},
     "output_type": "execute_result"
    }
   ],
   "source": [
    "sum(urlist)"
   ]
  },
  {
   "cell_type": "code",
   "execution_count": 47,
   "id": "e89dd657-fedc-4cc6-852c-653eef19672b",
   "metadata": {},
   "outputs": [
    {
     "data": {
      "text/plain": [
       "[1,\n",
       " 2,\n",
       " 3,\n",
       " 4,\n",
       " 5,\n",
       " 6,\n",
       " 7,\n",
       " 8,\n",
       " 9,\n",
       " 1,\n",
       " 2,\n",
       " 3,\n",
       " 4,\n",
       " 5,\n",
       " 6,\n",
       " 7,\n",
       " 8,\n",
       " 9,\n",
       " 1,\n",
       " 2,\n",
       " 3,\n",
       " 4,\n",
       " 5,\n",
       " 6,\n",
       " 7,\n",
       " 8,\n",
       " 9,\n",
       " 1,\n",
       " 2,\n",
       " 3,\n",
       " 4,\n",
       " 5,\n",
       " 6,\n",
       " 7,\n",
       " 8,\n",
       " 9,\n",
       " 1,\n",
       " 2,\n",
       " 3,\n",
       " 4,\n",
       " 5,\n",
       " 6,\n",
       " 7,\n",
       " 8,\n",
       " 9]"
      ]
     },
     "execution_count": 47,
     "metadata": {},
     "output_type": "execute_result"
    }
   ],
   "source": [
    "urlist*5"
   ]
  },
  {
   "cell_type": "markdown",
   "id": "8550edb1-2a49-449f-b4c6-eccb4997d93d",
   "metadata": {},
   "source": [
    "### pop method"
   ]
  },
  {
   "cell_type": "code",
   "execution_count": 48,
   "id": "005ee0ea-4c2d-4f22-b761-b46335ff6eae",
   "metadata": {},
   "outputs": [
    {
     "data": {
      "text/plain": [
       "9"
      ]
     },
     "execution_count": 48,
     "metadata": {},
     "output_type": "execute_result"
    }
   ],
   "source": [
    "urlist.pop()"
   ]
  },
  {
   "cell_type": "code",
   "execution_count": 49,
   "id": "6e3736f6-a05d-40e4-b7b1-2d68d00a85d6",
   "metadata": {},
   "outputs": [
    {
     "data": {
      "text/plain": [
       "[1, 2, 3, 4, 5, 6, 7, 8]"
      ]
     },
     "execution_count": 49,
     "metadata": {},
     "output_type": "execute_result"
    }
   ],
   "source": [
    "urlist"
   ]
  },
  {
   "cell_type": "code",
   "execution_count": 50,
   "id": "69d62d80-4517-4d80-8c9b-4b1c7fef4583",
   "metadata": {},
   "outputs": [
    {
     "data": {
      "text/plain": [
       "5"
      ]
     },
     "execution_count": 50,
     "metadata": {},
     "output_type": "execute_result"
    }
   ],
   "source": [
    "urlist.pop(4)"
   ]
  },
  {
   "cell_type": "code",
   "execution_count": 51,
   "id": "c85c11e4-b1dd-4548-9e8e-f0f5a2ec433a",
   "metadata": {},
   "outputs": [
    {
     "data": {
      "text/plain": [
       "[1, 2, 3, 4, 6, 7, 8]"
      ]
     },
     "execution_count": 51,
     "metadata": {},
     "output_type": "execute_result"
    }
   ],
   "source": [
    "urlist"
   ]
  },
  {
   "cell_type": "markdown",
   "id": "39fd5e65-2b98-46ed-a064-4a9fd1755a52",
   "metadata": {},
   "source": [
    "### count(): Calculates total occurrence of given element of list"
   ]
  },
  {
   "cell_type": "code",
   "execution_count": 53,
   "id": "3bd98f54-8305-46f4-a597-c62c0f1462c1",
   "metadata": {},
   "outputs": [
    {
     "data": {
      "text/plain": [
       "3"
      ]
     },
     "execution_count": 53,
     "metadata": {},
     "output_type": "execute_result"
    }
   ],
   "source": [
    "count=[1,1,1,1,1,2,2,2,3,4,5,6]\n",
    "count.count(2)"
   ]
  },
  {
   "cell_type": "code",
   "execution_count": 55,
   "id": "6797914f-56c2-40a9-9cd8-a231f75e6350",
   "metadata": {},
   "outputs": [
    {
     "data": {
      "text/plain": [
       "5"
      ]
     },
     "execution_count": 55,
     "metadata": {},
     "output_type": "execute_result"
    }
   ],
   "source": [
    "count.count(1)"
   ]
  },
  {
   "cell_type": "markdown",
   "id": "84902a22-5f15-4e7e-a7eb-0e089f7428a5",
   "metadata": {},
   "source": [
    "### Length: calculates total length of list"
   ]
  },
  {
   "cell_type": "code",
   "execution_count": 56,
   "id": "33561d47-a156-4896-a7ae-bc768afb213f",
   "metadata": {},
   "outputs": [
    {
     "data": {
      "text/plain": [
       "12"
      ]
     },
     "execution_count": 56,
     "metadata": {},
     "output_type": "execute_result"
    }
   ],
   "source": [
    "len(count)"
   ]
  },
  {
   "cell_type": "markdown",
   "id": "750cb1d4-8909-4443-8d2e-8a5637e31862",
   "metadata": {},
   "source": [
    "### index(): returns the index of first occurence. start and end index are not "
   ]
  },
  {
   "cell_type": "code",
   "execution_count": 57,
   "id": "7d6d0e80-2997-48b4-bc0f-7c31a6cb5fa9",
   "metadata": {},
   "outputs": [
    {
     "ename": "ValueError",
     "evalue": "1 is not in list",
     "output_type": "error",
     "traceback": [
      "\u001b[1;31m---------------------------------------------------------------------------\u001b[0m",
      "\u001b[1;31mValueError\u001b[0m                                Traceback (most recent call last)",
      "Cell \u001b[1;32mIn[57], line 2\u001b[0m\n\u001b[0;32m      1\u001b[0m myname\u001b[38;5;241m=\u001b[39m[\u001b[38;5;124m\"\u001b[39m\u001b[38;5;124mdawa\u001b[39m\u001b[38;5;124m\"\u001b[39m,\u001b[38;5;124m\"\u001b[39m\u001b[38;5;124mghising\u001b[39m\u001b[38;5;124m\"\u001b[39m,\u001b[38;5;124m\"\u001b[39m\u001b[38;5;124mhawa\u001b[39m\u001b[38;5;124m\"\u001b[39m,\u001b[38;5;124m\"\u001b[39m\u001b[38;5;124mjastai\u001b[39m\u001b[38;5;124m\"\u001b[39m,\u001b[38;5;124m\"\u001b[39m\u001b[38;5;124mover\u001b[39m\u001b[38;5;124m\"\u001b[39m]\n\u001b[1;32m----> 2\u001b[0m \u001b[43mmyname\u001b[49m\u001b[38;5;241;43m.\u001b[39;49m\u001b[43mindex\u001b[49m\u001b[43m(\u001b[49m\u001b[38;5;241;43m1\u001b[39;49m\u001b[43m,\u001b[49m\u001b[38;5;241;43m2\u001b[39;49m\u001b[43m)\u001b[49m\n",
      "\u001b[1;31mValueError\u001b[0m: 1 is not in list"
     ]
    }
   ],
   "source": [
    "myname=[\"dawa\",\"ghising\",\"hawa\",\"jastai\",\"over\"]\n",
    "myname.index(@,2)"
   ]
  },
  {
   "cell_type": "code",
   "execution_count": null,
   "id": "d816e239-82ef-49c9-a0d5-75eccf6b6601",
   "metadata": {},
   "outputs": [],
   "source": []
  }
 ],
 "metadata": {
  "kernelspec": {
   "display_name": "Python 3 (ipykernel)",
   "language": "python",
   "name": "python3"
  },
  "language_info": {
   "codemirror_mode": {
    "name": "ipython",
    "version": 3
   },
   "file_extension": ".py",
   "mimetype": "text/x-python",
   "name": "python",
   "nbconvert_exporter": "python",
   "pygments_lexer": "ipython3",
   "version": "3.12.4"
  }
 },
 "nbformat": 4,
 "nbformat_minor": 5
}
