{
 "cells": [
  {
   "cell_type": "markdown",
   "id": "50731933-9e6c-4c3b-a124-01d4edf2c676",
   "metadata": {},
   "source": [
    "### Python List Compression"
   ]
  },
  {
   "cell_type": "code",
   "execution_count": 1,
   "id": "cf1a488d-85b5-42f2-9db8-8b4dfae7c996",
   "metadata": {},
   "outputs": [
    {
     "data": {
      "text/plain": [
       "list"
      ]
     },
     "execution_count": 1,
     "metadata": {},
     "output_type": "execute_result"
    }
   ],
   "source": [
    "type([1,3,4,4,5,6,7,8])"
   ]
  },
  {
   "cell_type": "code",
   "execution_count": 2,
   "id": "00219dc2-6d18-420c-aca7-f99baf3bd959",
   "metadata": {},
   "outputs": [
    {
     "name": "stdout",
     "output_type": "stream",
     "text": [
      "[0, 1, 2, 3, 4, 5, 6, 7]\n"
     ]
    }
   ],
   "source": [
    "lst=[]\n",
    "for i in range(0,8):\n",
    "    lst.append(i)\n",
    "print(lst)"
   ]
  },
  {
   "cell_type": "code",
   "execution_count": 5,
   "id": "42fb4a35-b975-4507-ab4d-658b750b2ebe",
   "metadata": {},
   "outputs": [
    {
     "name": "stdout",
     "output_type": "stream",
     "text": [
      "[1, 4, 9, 16, 25, 36]\n"
     ]
    }
   ],
   "source": [
    "lst=[1,2,3,4,5,6]\n",
    "lst2=[]\n",
    "for i in lst:\n",
    "    lst2.append(i**2)\n",
    "print(lst2)"
   ]
  },
  {
   "cell_type": "code",
   "execution_count": 6,
   "id": "ba2232e4-d816-40f5-9ab1-1e572c23e7da",
   "metadata": {},
   "outputs": [
    {
     "name": "stdout",
     "output_type": "stream",
     "text": [
      "[1, 4, 9, 16, 25]\n"
     ]
    }
   ],
   "source": [
    "numbers=[1,2,3,4,5]\n",
    "squard_numbers=[i**2 for i in numbers]\n",
    "print(squard_numbers)"
   ]
  },
  {
   "cell_type": "code",
   "execution_count": 8,
   "id": "dcd0585e-d227-4f76-8ad2-beca7214ff14",
   "metadata": {},
   "outputs": [
    {
     "name": "stdout",
     "output_type": "stream",
     "text": [
      "[2, 4, 6, 8, 10]\n"
     ]
    }
   ],
   "source": [
    "### filtering even numbers from a List\n",
    "numbers=[1,2,3,4,5,6,7,8,9,10]\n",
    "even_number=[n for n in numbers if n%2==0]\n",
    "print(even_number)"
   ]
  },
  {
   "cell_type": "code",
   "execution_count": 9,
   "id": "8de194d0-9f96-4966-a237-d9cc83f09cda",
   "metadata": {},
   "outputs": [],
   "source": [
    "##flattening a list of lists\n",
    "lists=[[1,2,3],[4,5,6],[7,8,9]]\n",
    "flattend_list=[item for sublist in lists for item in sublist]"
   ]
  },
  {
   "cell_type": "code",
   "execution_count": 10,
   "id": "51cd400a-fad1-4c5c-9fcf-5ad96dd98bfb",
   "metadata": {},
   "outputs": [
    {
     "data": {
      "text/plain": [
       "[1, 2, 3, 4, 5, 6, 7, 8, 9]"
      ]
     },
     "execution_count": 10,
     "metadata": {},
     "output_type": "execute_result"
    }
   ],
   "source": [
    "flattend_list"
   ]
  },
  {
   "cell_type": "code",
   "execution_count": 13,
   "id": "268f9fd7-e72b-4149-b515-e30234696a40",
   "metadata": {},
   "outputs": [
    {
     "name": "stdout",
     "output_type": "stream",
     "text": [
      "['a', 'b', 'c', 'd']\n"
     ]
    }
   ],
   "source": [
    "#generating a list  of the first letters of words in a letter:\n",
    "words=['apple','banana','cherry','data']\n",
    "first_letters=[word[0] for word in words]\n",
    "print(first_letters)"
   ]
  },
  {
   "cell_type": "code",
   "execution_count": 14,
   "id": "df2e794c-f0d0-44ea-a521-b8a3c325409b",
   "metadata": {},
   "outputs": [
    {
     "data": {
      "text/plain": [
       "[4, 16, 36, 64, 100]"
      ]
     },
     "execution_count": 14,
     "metadata": {},
     "output_type": "execute_result"
    }
   ],
   "source": [
    "### Generating a list of the square of even numbers\n",
    "numbers=[1,2,3,4,5,6,7,8,9,10]\n",
    "[n**2 for n in numbers if n%2==0]"
   ]
  },
  {
   "cell_type": "code",
   "execution_count": 15,
   "id": "77bcc9b2-c477-44b9-b0f6-a5d06cf2a788",
   "metadata": {},
   "outputs": [
    {
     "data": {
      "text/plain": [
       "[1, 2, 3, 4, 5]"
      ]
     },
     "execution_count": 15,
     "metadata": {},
     "output_type": "execute_result"
    }
   ],
   "source": [
    "## Converting a list to sting to a list of integers\n",
    "strings=['1','2','3','4','5']\n",
    "[int(s) for s in strings]"
   ]
  },
  {
   "cell_type": "code",
   "execution_count": 16,
   "id": "73d89c90-6403-4151-b1b3-12d28b604563",
   "metadata": {},
   "outputs": [
    {
     "data": {
      "text/plain": [
       "[1, 3, 5, 7, 9, 13]"
      ]
     },
     "execution_count": 16,
     "metadata": {},
     "output_type": "execute_result"
    }
   ],
   "source": [
    "### Generating a list of the fibonacci sequence using a list comprehension\n",
    "fib=[0,1,2,3,4,5,8,13]\n",
    "[fib[i-1]+fib[i-2] for i in range(2,len(fib))]"
   ]
  },
  {
   "cell_type": "code",
   "execution_count": 17,
   "id": "3498e819-26d4-428d-8140-bcdd89e028ee",
   "metadata": {},
   "outputs": [
    {
     "data": {
      "text/plain": [
       "[1, 2, 3, 4, 6, 9, 12, 18, 36]"
      ]
     },
     "execution_count": 17,
     "metadata": {},
     "output_type": "execute_result"
    }
   ],
   "source": [
    "## Generating a list of all the divisors of a numbers:\n",
    "number=36\n",
    "[i for i in range(1,number+1) if number%i==0]\n"
   ]
  },
  {
   "cell_type": "code",
   "execution_count": null,
   "id": "dca02ef5-f640-49dc-bac7-905a80a787a9",
   "metadata": {},
   "outputs": [],
   "source": []
  }
 ],
 "metadata": {
  "kernelspec": {
   "display_name": "Python 3 (ipykernel)",
   "language": "python",
   "name": "python3"
  },
  "language_info": {
   "codemirror_mode": {
    "name": "ipython",
    "version": 3
   },
   "file_extension": ".py",
   "mimetype": "text/x-python",
   "name": "python",
   "nbconvert_exporter": "python",
   "pygments_lexer": "ipython3",
   "version": "3.12.4"
  }
 },
 "nbformat": 4,
 "nbformat_minor": 5
}
