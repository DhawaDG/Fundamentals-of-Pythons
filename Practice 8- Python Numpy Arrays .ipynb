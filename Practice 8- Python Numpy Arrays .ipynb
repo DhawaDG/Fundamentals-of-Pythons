{
 "cells": [
  {
   "cell_type": "markdown",
   "id": "0f45904e-609f-4ae0-95f8-1e135ed5f908",
   "metadata": {},
   "source": [
    "### Tutorial 8- Python Numpy Arrays "
   ]
  },
  {
   "cell_type": "markdown",
   "id": "90124a78-99a4-4f9a-b045-4acdd626c10b",
   "metadata": {},
   "source": [
    "### Numpy Tutorials "
   ]
  },
  {
   "cell_type": "markdown",
   "id": "38581e13-ca4e-4390-9c3b-d6f33188ecdf",
   "metadata": {},
   "source": [
    "Numpy is a general -purpose array-processing package. It provides a high-performance multidimensional\n",
    "array object and tools for working  with these arrays.It is the fundamental package for scientific\n",
    "computing with python.\n"
   ]
  },
  {
   "cell_type": "markdown",
   "id": "599a9e84-f7b2-4cec-bd11-76dddb63dab9",
   "metadata": {},
   "source": [
    "### What is an array"
   ]
  },
  {
   "cell_type": "markdown",
   "id": "2343364d-98a3-4a06-b950-fe866f32b380",
   "metadata": {},
   "source": [
    "An array is a data structure that store values of same data type. In Python, this is the main difference\n",
    "between arrays and lists.While python list can contains values corresponding to different data types ,\n",
    "arrays in python  can only contains values corresponding to same data type"
   ]
  },
  {
   "cell_type": "code",
   "execution_count": 1,
   "id": "302f3b18-e494-4fbd-8437-6355a5d48704",
   "metadata": {},
   "outputs": [],
   "source": [
    "### import the library\n",
    "import numpy as np\n"
   ]
  },
  {
   "cell_type": "code",
   "execution_count": 5,
   "id": "fdea5549-7129-4244-82da-cf3b75a0b4c7",
   "metadata": {},
   "outputs": [],
   "source": [
    "lst=[1,2,3,4,5,6]\n",
    "arr=np.array(lst)"
   ]
  },
  {
   "cell_type": "code",
   "execution_count": 6,
   "id": "299a27c3-1603-4bb9-8bea-cac7b7e47481",
   "metadata": {},
   "outputs": [
    {
     "data": {
      "text/plain": [
       "numpy.ndarray"
      ]
     },
     "execution_count": 6,
     "metadata": {},
     "output_type": "execute_result"
    }
   ],
   "source": [
    "\n",
    "type(arr)"
   ]
  },
  {
   "cell_type": "code",
   "execution_count": 7,
   "id": "5573b555-877b-425a-ba3f-22f72b3681a3",
   "metadata": {},
   "outputs": [
    {
     "data": {
      "text/plain": [
       "(6,)"
      ]
     },
     "execution_count": 7,
     "metadata": {},
     "output_type": "execute_result"
    }
   ],
   "source": [
    "arr.shape"
   ]
  },
  {
   "cell_type": "code",
   "execution_count": 11,
   "id": "03fedc34-0496-4ce5-84c9-a758c70d2253",
   "metadata": {},
   "outputs": [],
   "source": [
    "lst1=[1,2,3,4,5]\n",
    "lst2=[2,3,4,5,6]\n",
    "lst3=[3,4,5,6,7]\n",
    "\n",
    "arr1=np.array([lst1,lst2,lst3])"
   ]
  },
  {
   "cell_type": "code",
   "execution_count": 12,
   "id": "876cc648-9fe9-495a-ba96-f5f47da1d3a8",
   "metadata": {},
   "outputs": [
    {
     "data": {
      "text/plain": [
       "array([[1, 2, 3, 4, 5],\n",
       "       [2, 3, 4, 5, 6],\n",
       "       [3, 4, 5, 6, 7]])"
      ]
     },
     "execution_count": 12,
     "metadata": {},
     "output_type": "execute_result"
    }
   ],
   "source": [
    "arr1"
   ]
  },
  {
   "cell_type": "code",
   "execution_count": 13,
   "id": "f706efd5-4837-4da2-87bd-acbdc4173083",
   "metadata": {},
   "outputs": [
    {
     "data": {
      "text/plain": [
       "(3, 5)"
      ]
     },
     "execution_count": 13,
     "metadata": {},
     "output_type": "execute_result"
    }
   ],
   "source": [
    "arr1.shape"
   ]
  },
  {
   "cell_type": "code",
   "execution_count": 14,
   "id": "8fdca3d0-0ac3-47f2-945f-b649cf71b39e",
   "metadata": {},
   "outputs": [],
   "source": [
    "#indexing"
   ]
  },
  {
   "cell_type": "code",
   "execution_count": 15,
   "id": "71ec01ae-b125-4218-a128-92a062c9a734",
   "metadata": {},
   "outputs": [
    {
     "data": {
      "text/plain": [
       "array([1, 2, 3, 4, 5, 6])"
      ]
     },
     "execution_count": 15,
     "metadata": {},
     "output_type": "execute_result"
    }
   ],
   "source": [
    "arr"
   ]
  },
  {
   "cell_type": "code",
   "execution_count": 16,
   "id": "fd3eae6b-3268-4166-b3dd-609c84f4132e",
   "metadata": {},
   "outputs": [
    {
     "data": {
      "text/plain": [
       "4"
      ]
     },
     "execution_count": 16,
     "metadata": {},
     "output_type": "execute_result"
    }
   ],
   "source": [
    "arr[3]"
   ]
  },
  {
   "cell_type": "code",
   "execution_count": 17,
   "id": "72767d78-d42f-44ea-a5c5-7660dfb128c9",
   "metadata": {},
   "outputs": [],
   "source": [
    "#changing element"
   ]
  },
  {
   "cell_type": "code",
   "execution_count": 18,
   "id": "3e424a49-0440-417a-956a-84e63c1088ac",
   "metadata": {},
   "outputs": [
    {
     "data": {
      "text/plain": [
       "array([3, 4])"
      ]
     },
     "execution_count": 18,
     "metadata": {},
     "output_type": "execute_result"
    }
   ],
   "source": [
    "arr[2:4]"
   ]
  },
  {
   "cell_type": "code",
   "execution_count": 19,
   "id": "397549e7-65cd-4be5-87c6-0efca0c2f71e",
   "metadata": {},
   "outputs": [
    {
     "data": {
      "text/plain": [
       "6"
      ]
     },
     "execution_count": 19,
     "metadata": {},
     "output_type": "execute_result"
    }
   ],
   "source": [
    "arr[-1]"
   ]
  },
  {
   "cell_type": "code",
   "execution_count": 20,
   "id": "f50dc412-77cc-4b45-875d-2ab7bc0a31c3",
   "metadata": {},
   "outputs": [
    {
     "data": {
      "text/plain": [
       "array([1, 2, 3, 4, 5])"
      ]
     },
     "execution_count": 20,
     "metadata": {},
     "output_type": "execute_result"
    }
   ],
   "source": [
    "arr[:-1]"
   ]
  },
  {
   "cell_type": "code",
   "execution_count": 21,
   "id": "1e630886-aeb0-4663-a3d0-2b627f7dd27e",
   "metadata": {},
   "outputs": [
    {
     "data": {
      "text/plain": [
       "array([1, 2, 3, 4, 5, 6])"
      ]
     },
     "execution_count": 21,
     "metadata": {},
     "output_type": "execute_result"
    }
   ],
   "source": [
    "arr[::]"
   ]
  },
  {
   "cell_type": "code",
   "execution_count": 22,
   "id": "0064e9a5-ed3e-4c1f-b232-791398c13ae9",
   "metadata": {},
   "outputs": [
    {
     "data": {
      "text/plain": [
       "array([6, 5, 4, 3, 2, 1])"
      ]
     },
     "execution_count": 22,
     "metadata": {},
     "output_type": "execute_result"
    }
   ],
   "source": [
    "arr[::-1]"
   ]
  },
  {
   "cell_type": "code",
   "execution_count": 23,
   "id": "f74a2b6e-b739-4697-b4d3-36d8a51ed6aa",
   "metadata": {},
   "outputs": [
    {
     "data": {
      "text/plain": [
       "array([6, 4, 2])"
      ]
     },
     "execution_count": 23,
     "metadata": {},
     "output_type": "execute_result"
    }
   ],
   "source": [
    "arr[::-2]"
   ]
  },
  {
   "cell_type": "code",
   "execution_count": 25,
   "id": "e332737c-c275-4553-8e10-e98970b7c427",
   "metadata": {},
   "outputs": [
    {
     "data": {
      "text/plain": [
       "array([[1, 2, 3, 4, 5],\n",
       "       [2, 3, 4, 5, 6],\n",
       "       [3, 4, 5, 6, 7]])"
      ]
     },
     "execution_count": 25,
     "metadata": {},
     "output_type": "execute_result"
    }
   ],
   "source": [
    "arr1"
   ]
  },
  {
   "cell_type": "code",
   "execution_count": 26,
   "id": "083822ea-d760-4890-b286-d211ce819fed",
   "metadata": {},
   "outputs": [
    {
     "data": {
      "text/plain": [
       "array([1, 2, 3])"
      ]
     },
     "execution_count": 26,
     "metadata": {},
     "output_type": "execute_result"
    }
   ],
   "source": [
    "arr1[:,0]"
   ]
  },
  {
   "cell_type": "code",
   "execution_count": 27,
   "id": "6694cd03-ff1d-4cf4-80f1-218b9f02daa2",
   "metadata": {},
   "outputs": [
    {
     "data": {
      "text/plain": [
       "array([3, 4, 5, 6, 7])"
      ]
     },
     "execution_count": 27,
     "metadata": {},
     "output_type": "execute_result"
    }
   ],
   "source": [
    "arr1[2,:]"
   ]
  },
  {
   "cell_type": "code",
   "execution_count": 29,
   "id": "7fe7dc7e-ad46-4ef9-a68f-faef3afddd49",
   "metadata": {},
   "outputs": [
    {
     "data": {
      "text/plain": [
       "array([[3, 4],\n",
       "       [4, 5]])"
      ]
     },
     "execution_count": 29,
     "metadata": {},
     "output_type": "execute_result"
    }
   ],
   "source": [
    "arr1[1:,1:3]"
   ]
  },
  {
   "cell_type": "code",
   "execution_count": 30,
   "id": "5d422572-bdea-4848-a531-8ae3d3815f14",
   "metadata": {},
   "outputs": [
    {
     "data": {
      "text/plain": [
       "array([[5, 6],\n",
       "       [6, 7]])"
      ]
     },
     "execution_count": 30,
     "metadata": {},
     "output_type": "execute_result"
    }
   ],
   "source": [
    "arr1[1:,3:]"
   ]
  },
  {
   "cell_type": "code",
   "execution_count": 32,
   "id": "7ec2ee23-4158-4b42-94e4-9f6edd80220d",
   "metadata": {},
   "outputs": [
    {
     "data": {
      "text/plain": [
       "array([[4, 5],\n",
       "       [5, 6],\n",
       "       [6, 7]])"
      ]
     },
     "execution_count": 32,
     "metadata": {},
     "output_type": "execute_result"
    }
   ],
   "source": [
    "arr1[:,3:]"
   ]
  },
  {
   "cell_type": "code",
   "execution_count": 34,
   "id": "9681672a-39c4-426f-80d8-5a83f55d49a3",
   "metadata": {},
   "outputs": [
    {
     "data": {
      "text/plain": [
       "array([[1, 5],\n",
       "       [2, 6],\n",
       "       [3, 7]])"
      ]
     },
     "execution_count": 34,
     "metadata": {},
     "output_type": "execute_result"
    }
   ],
   "source": [
    "arr1[:,0::4]"
   ]
  },
  {
   "cell_type": "code",
   "execution_count": 35,
   "id": "34bb881e-ad35-4120-9962-24f9311085b2",
   "metadata": {},
   "outputs": [
    {
     "data": {
      "text/plain": [
       "array([1, 2, 3, 4, 5, 6])"
      ]
     },
     "execution_count": 35,
     "metadata": {},
     "output_type": "execute_result"
    }
   ],
   "source": [
    "##EDA\n",
    "arr"
   ]
  },
  {
   "cell_type": "code",
   "execution_count": 36,
   "id": "cb82cf9e-9531-4617-b32e-c88d388df67a",
   "metadata": {},
   "outputs": [
    {
     "data": {
      "text/plain": [
       "array([1])"
      ]
     },
     "execution_count": 36,
     "metadata": {},
     "output_type": "execute_result"
    }
   ],
   "source": [
    "arr[arr<2]"
   ]
  },
  {
   "cell_type": "code",
   "execution_count": 37,
   "id": "c6d23f34-a030-44f1-9911-8321c4459f7c",
   "metadata": {},
   "outputs": [
    {
     "data": {
      "text/plain": [
       "array([[1, 2, 3, 4, 5],\n",
       "       [2, 3, 4, 5, 6],\n",
       "       [3, 4, 5, 6, 7]])"
      ]
     },
     "execution_count": 37,
     "metadata": {},
     "output_type": "execute_result"
    }
   ],
   "source": [
    "arr1"
   ]
  },
  {
   "cell_type": "code",
   "execution_count": 39,
   "id": "a52a01a7-5e8a-4b98-b0b3-2df757bca330",
   "metadata": {},
   "outputs": [
    {
     "data": {
      "text/plain": [
       "array([[1, 2, 3],\n",
       "       [4, 5, 2],\n",
       "       [3, 4, 5],\n",
       "       [6, 3, 4],\n",
       "       [5, 6, 7]])"
      ]
     },
     "execution_count": 39,
     "metadata": {},
     "output_type": "execute_result"
    }
   ],
   "source": [
    "arr1.reshape(5,3)"
   ]
  },
  {
   "cell_type": "code",
   "execution_count": 42,
   "id": "d95c10ae-2b77-4223-8fa1-e857a00890f3",
   "metadata": {},
   "outputs": [
    {
     "data": {
      "text/plain": [
       "array([[ 1,  3,  5,  7,  9],\n",
       "       [11, 13, 15, 17, 19]])"
      ]
     },
     "execution_count": 42,
     "metadata": {},
     "output_type": "execute_result"
    }
   ],
   "source": [
    "# mechanism to create an array\n",
    "np.arange(1,20,2).reshape(2,5)"
   ]
  },
  {
   "cell_type": "code",
   "execution_count": 43,
   "id": "3cf12eda-0cef-41a9-ae6f-6fe65cd27966",
   "metadata": {},
   "outputs": [
    {
     "data": {
      "text/plain": [
       "array([ 1,  4,  9, 16, 25, 36])"
      ]
     },
     "execution_count": 43,
     "metadata": {},
     "output_type": "execute_result"
    }
   ],
   "source": [
    "arr * arr"
   ]
  },
  {
   "cell_type": "code",
   "execution_count": 44,
   "id": "9f4b5a0e-6e8e-4c3e-a881-46170bdf2e03",
   "metadata": {},
   "outputs": [
    {
     "data": {
      "text/plain": [
       "array([[ 1,  4,  9, 16, 25],\n",
       "       [ 4,  9, 16, 25, 36],\n",
       "       [ 9, 16, 25, 36, 49]])"
      ]
     },
     "execution_count": 44,
     "metadata": {},
     "output_type": "execute_result"
    }
   ],
   "source": [
    "arr1 * arr1"
   ]
  },
  {
   "cell_type": "code",
   "execution_count": 45,
   "id": "a794ef19-745c-4e2a-952e-91699e9df944",
   "metadata": {
    "scrolled": true
   },
   "outputs": [
    {
     "data": {
      "text/plain": [
       "array([[1., 1., 1.],\n",
       "       [1., 1., 1.],\n",
       "       [1., 1., 1.],\n",
       "       [1., 1., 1.],\n",
       "       [1., 1., 1.]])"
      ]
     },
     "execution_count": 45,
     "metadata": {},
     "output_type": "execute_result"
    }
   ],
   "source": [
    "np.ones((5,3))"
   ]
  },
  {
   "cell_type": "code",
   "execution_count": 46,
   "id": "8ab30016-ad5a-40d5-b6b5-aa49d150d60f",
   "metadata": {},
   "outputs": [
    {
     "data": {
      "text/plain": [
       "array([[0., 0., 0., 0., 0.],\n",
       "       [0., 0., 0., 0., 0.],\n",
       "       [0., 0., 0., 0., 0.],\n",
       "       [0., 0., 0., 0., 0.]])"
      ]
     },
     "execution_count": 46,
     "metadata": {},
     "output_type": "execute_result"
    }
   ],
   "source": [
    "np.zeros((4,5))"
   ]
  },
  {
   "cell_type": "code",
   "execution_count": 49,
   "id": "224e0e0d-7d7b-46f6-87f7-ebbd39338ce6",
   "metadata": {},
   "outputs": [
    {
     "data": {
      "text/plain": [
       "array([45, 46, 10, 42])"
      ]
     },
     "execution_count": 49,
     "metadata": {},
     "output_type": "execute_result"
    }
   ],
   "source": [
    "np.random.randint(10,50,4)"
   ]
  },
  {
   "cell_type": "code",
   "execution_count": 50,
   "id": "d0bc7a6e-dda5-47f5-b8e4-b073a62b0fb2",
   "metadata": {},
   "outputs": [
    {
     "data": {
      "text/plain": [
       "array([[42, 17],\n",
       "       [41, 35]])"
      ]
     },
     "execution_count": 50,
     "metadata": {},
     "output_type": "execute_result"
    }
   ],
   "source": [
    "np.random.randint(10,50,4).reshape(2,2)"
   ]
  },
  {
   "cell_type": "code",
   "execution_count": 52,
   "id": "f7a9daa2-ea0e-407c-b2ac-212046b0330d",
   "metadata": {},
   "outputs": [
    {
     "data": {
      "text/plain": [
       "array([[0.23647104, 0.20523643, 0.28190705, 0.24620219, 0.42737973,\n",
       "        0.18126611, 0.41604379],\n",
       "       [0.04739712, 0.18693827, 0.95939885, 0.16761039, 0.73248775,\n",
       "        0.9180094 , 0.91053838],\n",
       "       [0.42990807, 0.41289481, 0.63839252, 0.97706307, 0.20605737,\n",
       "        0.40644871, 0.61107059],\n",
       "       [0.26627037, 0.42186174, 0.99286262, 0.91762822, 0.25218179,\n",
       "        0.4577479 , 0.18669364]])"
      ]
     },
     "execution_count": 52,
     "metadata": {},
     "output_type": "execute_result"
    }
   ],
   "source": [
    "np.random.random_sample((4,7))"
   ]
  },
  {
   "cell_type": "code",
   "execution_count": null,
   "id": "5662ea4e-9e48-4cfe-891b-fb3ac243697f",
   "metadata": {},
   "outputs": [],
   "source": []
  }
 ],
 "metadata": {
  "kernelspec": {
   "display_name": "Python 3 (ipykernel)",
   "language": "python",
   "name": "python3"
  },
  "language_info": {
   "codemirror_mode": {
    "name": "ipython",
    "version": 3
   },
   "file_extension": ".py",
   "mimetype": "text/x-python",
   "name": "python",
   "nbconvert_exporter": "python",
   "pygments_lexer": "ipython3",
   "version": "3.12.4"
  }
 },
 "nbformat": 4,
 "nbformat_minor": 5
}
