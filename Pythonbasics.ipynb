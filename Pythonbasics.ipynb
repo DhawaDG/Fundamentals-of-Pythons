{
 "cells": [
  {
   "cell_type": "markdown",
   "id": "21aa745f-311b-4f60-944c-130d1e04f907",
   "metadata": {},
   "source": [
    " - Basics of python"
   ]
  },
  {
   "cell_type": "code",
   "execution_count": 2,
   "id": "97de2e99-9a92-43fc-9f1a-d46f5fef1b77",
   "metadata": {},
   "outputs": [
    {
     "name": "stdout",
     "output_type": "stream",
     "text": [
      "hello world\n",
      "welcome to my channel\n"
     ]
    }
   ],
   "source": [
    "print(\"hello world\")\n",
    "print(\"welcome to my channel\")"
   ]
  },
  {
   "cell_type": "code",
   "execution_count": 3,
   "id": "7a151ae9-512d-45f5-853b-4fb29ad42c1e",
   "metadata": {},
   "outputs": [
    {
     "data": {
      "text/plain": [
       "'\\nwelcome to my youtube channel\\n\\n'"
      ]
     },
     "execution_count": 3,
     "metadata": {},
     "output_type": "execute_result"
    }
   ],
   "source": [
    "# Single line and multiline comments \n",
    "'''\n",
    "welcome to my youtube channel\n",
    "\n",
    "'''\n"
   ]
  },
  {
   "cell_type": "code",
   "execution_count": 4,
   "id": "cc615111-0947-4415-97c1-7a73577bb77e",
   "metadata": {},
   "outputs": [
    {
     "name": "stdout",
     "output_type": "stream",
     "text": [
      "hello\n"
     ]
    }
   ],
   "source": [
    "'''\n",
    "welcome to my youtube channel\n",
    "\n",
    "'''\n",
    "print(\"hello\")"
   ]
  },
  {
   "cell_type": "code",
   "execution_count": 5,
   "id": "ec540cf9-db03-4239-8000-3b1bf6113a02",
   "metadata": {},
   "outputs": [
    {
     "data": {
      "text/plain": [
       "int"
      ]
     },
     "execution_count": 5,
     "metadata": {},
     "output_type": "execute_result"
    }
   ],
   "source": [
    "#variale declaratiom\n",
    "a=10\n",
    "type(a)"
   ]
  },
  {
   "cell_type": "code",
   "execution_count": 6,
   "id": "64d642c3-a4db-436e-99d7-abe8f3f4ed0f",
   "metadata": {},
   "outputs": [
    {
     "name": "stdout",
     "output_type": "stream",
     "text": [
      "10\n"
     ]
    }
   ],
   "source": [
    "print(a)"
   ]
  },
  {
   "cell_type": "code",
   "execution_count": 7,
   "id": "a14c6844-17de-4dec-9c82-4a96107eda8d",
   "metadata": {},
   "outputs": [],
   "source": [
    "tenth=10\n",
    "b=40\n",
    "c=\"krish\""
   ]
  },
  {
   "cell_type": "code",
   "execution_count": 8,
   "id": "3d2650bd-385a-4e8a-a31f-239ad6e4379a",
   "metadata": {},
   "outputs": [
    {
     "data": {
      "text/plain": [
       "str"
      ]
     },
     "execution_count": 8,
     "metadata": {},
     "output_type": "execute_result"
    }
   ],
   "source": [
    "\n",
    "type(c)"
   ]
  },
  {
   "cell_type": "code",
   "execution_count": 10,
   "id": "55402ca2-a557-45ae-ade1-a6220ee514da",
   "metadata": {},
   "outputs": [
    {
     "ename": "SyntaxError",
     "evalue": "invalid decimal literal (3782790406.py, line 1)",
     "output_type": "error",
     "traceback": [
      "\u001b[1;36m  Cell \u001b[1;32mIn[10], line 1\u001b[1;36m\u001b[0m\n\u001b[1;33m    1a=10\u001b[0m\n\u001b[1;37m    ^\u001b[0m\n\u001b[1;31mSyntaxError\u001b[0m\u001b[1;31m:\u001b[0m invalid decimal literal\n"
     ]
    }
   ],
   "source": [
    "1a=10"
   ]
  },
  {
   "cell_type": "code",
   "execution_count": 11,
   "id": "bbb736ba-6706-4223-a653-9675e2966030",
   "metadata": {},
   "outputs": [],
   "source": [
    "a1=10"
   ]
  },
  {
   "cell_type": "code",
   "execution_count": 1,
   "id": "291d4e35-6410-4659-922c-3ab27540f10d",
   "metadata": {},
   "outputs": [
    {
     "name": "stdout",
     "output_type": "stream",
     "text": [
      "Dawa Dorje Ghising\n"
     ]
    }
   ],
   "source": [
    "first_name=\"Dawa Dorje Ghising\"\n",
    "print(first_name)"
   ]
  },
  {
   "cell_type": "code",
   "execution_count": 13,
   "id": "ccc06060-ea41-4760-92f5-211705ecd308",
   "metadata": {},
   "outputs": [
    {
     "data": {
      "text/plain": [
       "int"
      ]
     },
     "execution_count": 13,
     "metadata": {},
     "output_type": "execute_result"
    }
   ],
   "source": [
    "##integers\n",
    "a=10\n",
    "type(a)\n"
   ]
  },
  {
   "cell_type": "code",
   "execution_count": 14,
   "id": "6611baf8-0928-4216-9fda-ce942c30253e",
   "metadata": {},
   "outputs": [
    {
     "data": {
      "text/plain": [
       "100"
      ]
     },
     "execution_count": 14,
     "metadata": {},
     "output_type": "execute_result"
    }
   ],
   "source": [
    "a*10"
   ]
  },
  {
   "cell_type": "code",
   "execution_count": 15,
   "id": "22a3e7ad-6dfb-4834-b3ab-926ef7a590b2",
   "metadata": {},
   "outputs": [
    {
     "data": {
      "text/plain": [
       "1.0"
      ]
     },
     "execution_count": 15,
     "metadata": {},
     "output_type": "execute_result"
    }
   ],
   "source": [
    "a/10"
   ]
  },
  {
   "cell_type": "code",
   "execution_count": 16,
   "id": "beff086a-0e3c-42e5-9625-a4f2fe5a1b97",
   "metadata": {},
   "outputs": [
    {
     "name": "stdout",
     "output_type": "stream",
     "text": [
      "<class 'int'>\n"
     ]
    }
   ],
   "source": [
    "print(type(a))"
   ]
  },
  {
   "cell_type": "code",
   "execution_count": 17,
   "id": "93e59549-4c4c-4c70-944d-9855934efd9b",
   "metadata": {},
   "outputs": [
    {
     "name": "stdout",
     "output_type": "stream",
     "text": [
      "30\n"
     ]
    }
   ],
   "source": [
    "a=10\n",
    "b=20\n",
    "print(a+b)"
   ]
  },
  {
   "cell_type": "code",
   "execution_count": 18,
   "id": "b67d0540-b0a3-424e-93c8-71340b4aa6af",
   "metadata": {},
   "outputs": [
    {
     "data": {
      "text/plain": [
       "190.5"
      ]
     },
     "execution_count": 18,
     "metadata": {},
     "output_type": "execute_result"
    }
   ],
   "source": [
    "#floating\n",
    "a=190.5\n",
    "a"
   ]
  },
  {
   "cell_type": "code",
   "execution_count": 19,
   "id": "1b1876e5-7f40-4e33-8b87-c79bd892a96b",
   "metadata": {},
   "outputs": [
    {
     "name": "stdout",
     "output_type": "stream",
     "text": [
      "<class 'float'>\n"
     ]
    }
   ],
   "source": [
    "print(type(a))"
   ]
  },
  {
   "cell_type": "code",
   "execution_count": 20,
   "id": "01d10a11-3e6e-4041-82f7-e071016ba229",
   "metadata": {},
   "outputs": [
    {
     "data": {
      "text/plain": [
       "190"
      ]
     },
     "execution_count": 20,
     "metadata": {},
     "output_type": "execute_result"
    }
   ],
   "source": [
    "int(a)"
   ]
  },
  {
   "cell_type": "code",
   "execution_count": 21,
   "id": "d00f65f7-50e8-4ee5-be76-506b3b5d09c4",
   "metadata": {},
   "outputs": [
    {
     "data": {
      "text/plain": [
       "20.0"
      ]
     },
     "execution_count": 21,
     "metadata": {},
     "output_type": "execute_result"
    }
   ],
   "source": [
    "float(b)"
   ]
  },
  {
   "cell_type": "code",
   "execution_count": 23,
   "id": "cee5a43b-178d-4c63-8d55-f6abbd6dc7ab",
   "metadata": {},
   "outputs": [],
   "source": [
    "##Boolean\n",
    "a1=True\n",
    "b1=False"
   ]
  },
  {
   "cell_type": "code",
   "execution_count": 24,
   "id": "179fe620-36ea-46af-8cc2-2c679000026b",
   "metadata": {},
   "outputs": [
    {
     "data": {
      "text/plain": [
       "bool"
      ]
     },
     "execution_count": 24,
     "metadata": {},
     "output_type": "execute_result"
    }
   ],
   "source": [
    "type(a1)"
   ]
  },
  {
   "cell_type": "code",
   "execution_count": 25,
   "id": "41a6a03c-ad26-4574-ab72-d4e12d7b78e3",
   "metadata": {},
   "outputs": [
    {
     "data": {
      "text/plain": [
       "True"
      ]
     },
     "execution_count": 25,
     "metadata": {},
     "output_type": "execute_result"
    }
   ],
   "source": [
    "a1 | b1"
   ]
  },
  {
   "cell_type": "code",
   "execution_count": 26,
   "id": "200cb235-5a23-4d51-a352-c9cba563e8e7",
   "metadata": {},
   "outputs": [
    {
     "name": "stdout",
     "output_type": "stream",
     "text": [
      "krish\n",
      "<class 'str'>\n"
     ]
    }
   ],
   "source": [
    "#strings\n",
    "name1=\"krish\"\n",
    "print(name1)\n",
    "print(type(name1))"
   ]
  },
  {
   "cell_type": "code",
   "execution_count": 27,
   "id": "934bfcb4-7d9e-4cdf-ae17-40f8472d8deb",
   "metadata": {},
   "outputs": [
    {
     "data": {
      "text/plain": [
       "'krishNaik'"
      ]
     },
     "execution_count": 27,
     "metadata": {},
     "output_type": "execute_result"
    }
   ],
   "source": [
    "name1+\"Naik\""
   ]
  },
  {
   "cell_type": "code",
   "execution_count": 32,
   "id": "f5132bc3-622f-4148-ad90-2b96ec2f07c8",
   "metadata": {},
   "outputs": [
    {
     "ename": "TypeError",
     "evalue": "can only concatenate str (not \"int\") to str",
     "output_type": "error",
     "traceback": [
      "\u001b[1;31m---------------------------------------------------------------------------\u001b[0m",
      "\u001b[1;31mTypeError\u001b[0m                                 Traceback (most recent call last)",
      "Cell \u001b[1;32mIn[32], line 1\u001b[0m\n\u001b[1;32m----> 1\u001b[0m \u001b[43mname1\u001b[49m\u001b[43m \u001b[49m\u001b[38;5;241;43m+\u001b[39;49m\u001b[38;5;241;43m1\u001b[39;49m\n",
      "\u001b[1;31mTypeError\u001b[0m: can only concatenate str (not \"int\") to str"
     ]
    }
   ],
   "source": [
    "name1 +1"
   ]
  },
  {
   "cell_type": "code",
   "execution_count": 33,
   "id": "ab32e3f8-d5af-4797-90e3-6b98ee555fc5",
   "metadata": {},
   "outputs": [
    {
     "data": {
      "text/plain": [
       "'krish1'"
      ]
     },
     "execution_count": 33,
     "metadata": {},
     "output_type": "execute_result"
    }
   ],
   "source": [
    "name1 + str(1)"
   ]
  },
  {
   "cell_type": "code",
   "execution_count": 34,
   "id": "e1cc16ff-02ad-47e0-9299-0a58881dcbd6",
   "metadata": {},
   "outputs": [
    {
     "data": {
      "text/plain": [
       "(1-2.3j)"
      ]
     },
     "execution_count": 34,
     "metadata": {},
     "output_type": "execute_result"
    }
   ],
   "source": [
    "##complex numbers\n",
    "j=1.0-2.3j\n",
    "j"
   ]
  },
  {
   "cell_type": "code",
   "execution_count": 35,
   "id": "b972ecea-30f2-47f7-aaa0-99e90e4117c5",
   "metadata": {},
   "outputs": [
    {
     "name": "stdout",
     "output_type": "stream",
     "text": [
      "1.0 -2.3\n"
     ]
    }
   ],
   "source": [
    "print(j.real,j.imag)"
   ]
  },
  {
   "cell_type": "code",
   "execution_count": 1,
   "id": "9fe629b7-a8b2-4c33-b587-039a5c1ba418",
   "metadata": {},
   "outputs": [],
   "source": [
    "#dynamic typing\n",
    "a=10\n",
    "a= 'krish'"
   ]
  },
  {
   "cell_type": "code",
   "execution_count": 2,
   "id": "2ed2ecb6-2f9f-415e-8de5-9f46300a6a40",
   "metadata": {},
   "outputs": [],
   "source": [
    "#strong typing\n",
    "a=\"KRish\""
   ]
  },
  {
   "cell_type": "code",
   "execution_count": 3,
   "id": "a5d56a4e-5016-45b1-9174-d194b52abb02",
   "metadata": {},
   "outputs": [
    {
     "ename": "TypeError",
     "evalue": "can only concatenate str (not \"int\") to str",
     "output_type": "error",
     "traceback": [
      "\u001b[1;31m---------------------------------------------------------------------------\u001b[0m",
      "\u001b[1;31mTypeError\u001b[0m                                 Traceback (most recent call last)",
      "Cell \u001b[1;32mIn[3], line 1\u001b[0m\n\u001b[1;32m----> 1\u001b[0m \u001b[43ma\u001b[49m\u001b[38;5;241;43m+\u001b[39;49m\u001b[43m \u001b[49m\u001b[38;5;241;43m1\u001b[39;49m\n",
      "\u001b[1;31mTypeError\u001b[0m: can only concatenate str (not \"int\") to str"
     ]
    }
   ],
   "source": [
    "a+ 1"
   ]
  },
  {
   "cell_type": "code",
   "execution_count": 4,
   "id": "6247c710-559f-4cea-8b1e-1cde6c42058d",
   "metadata": {},
   "outputs": [
    {
     "data": {
      "text/plain": [
       "'KRish1'"
      ]
     },
     "execution_count": 4,
     "metadata": {},
     "output_type": "execute_result"
    }
   ],
   "source": [
    "a + str(1)"
   ]
  },
  {
   "cell_type": "code",
   "execution_count": 5,
   "id": "dec2b039-3f25-45af-ac5c-60831b081eea",
   "metadata": {},
   "outputs": [
    {
     "name": "stdout",
     "output_type": "stream",
     "text": [
      "The values is - 100\n"
     ]
    }
   ],
   "source": [
    "#string formatting\n",
    "a=100\n",
    "print(\"The values is -\",a)"
   ]
  },
  {
   "cell_type": "code",
   "execution_count": 7,
   "id": "dbe132ce-e3b2-443c-8ea7-5116f8b1b923",
   "metadata": {},
   "outputs": [
    {
     "name": "stdout",
     "output_type": "stream",
     "text": [
      "The first name is dawa and last name is Ghising\n"
     ]
    }
   ],
   "source": [
    "first_name=\"dawa\"\n",
    "last_name=\"Ghising\"\n",
    "print(\"The first name is {} and last name is {}\".format(first_name,last_name))"
   ]
  },
  {
   "cell_type": "code",
   "execution_count": 8,
   "id": "97a7e01f-f784-4099-9939-c925cc204ae9",
   "metadata": {},
   "outputs": [
    {
     "name": "stdout",
     "output_type": "stream",
     "text": [
      "The first name is Ghising and last name is dawa\n"
     ]
    }
   ],
   "source": [
    "first_name=\"dawa\"\n",
    "last_name=\"Ghising\"\n",
    "print(\"The first name is {} and last name is {}\".format(last_name,first_name))"
   ]
  },
  {
   "cell_type": "code",
   "execution_count": 15,
   "id": "fca89a3c-958a-4dc5-9010-220b6a822cfa",
   "metadata": {
    "scrolled": true
   },
   "outputs": [
    {
     "name": "stdin",
     "output_type": "stream",
     "text": [
      "enter the number A 11\n",
      "enter the number B 22\n"
     ]
    },
    {
     "name": "stdout",
     "output_type": "stream",
     "text": [
      "11 22\n"
     ]
    }
   ],
   "source": [
    "# input type \n",
    "a=input ('enter the number A')\n",
    "b=input ('enter the number B')\n",
    "print(a,b)"
   ]
  },
  {
   "cell_type": "code",
   "execution_count": 16,
   "id": "8ada0ee3-682f-4bd4-91bb-53186c2fb678",
   "metadata": {},
   "outputs": [
    {
     "name": "stdin",
     "output_type": "stream",
     "text": [
      "enter the number A 11\n",
      "enter the number B 22\n"
     ]
    },
    {
     "name": "stdout",
     "output_type": "stream",
     "text": [
      "1122\n"
     ]
    }
   ],
   "source": [
    "a=input ('enter the number A')\n",
    "b=input ('enter the number B')\n",
    "print(a+b)"
   ]
  },
  {
   "cell_type": "code",
   "execution_count": 17,
   "id": "fadf7214-2761-4220-8a88-c43084d323a2",
   "metadata": {},
   "outputs": [
    {
     "name": "stdin",
     "output_type": "stream",
     "text": [
      "enter the number A 11\n",
      "enter the number B 22\n"
     ]
    },
    {
     "name": "stdout",
     "output_type": "stream",
     "text": [
      "1122\n"
     ]
    }
   ],
   "source": [
    "a=input ('enter the number A')\n",
    "b=input ('enter the number B')\n",
    "print(int(a+b))"
   ]
  },
  {
   "cell_type": "code",
   "execution_count": 18,
   "id": "a5dc4508-c276-45c0-9b7a-b9e8e5ed99b4",
   "metadata": {},
   "outputs": [
    {
     "name": "stdin",
     "output_type": "stream",
     "text": [
      "enter the number A 11\n",
      "enter the number B 22\n"
     ]
    },
    {
     "name": "stdout",
     "output_type": "stream",
     "text": [
      "33\n"
     ]
    }
   ],
   "source": [
    "a=input ('enter the number A')\n",
    "b=input ('enter the number B')\n",
    "print(int(a)+int(b))"
   ]
  },
  {
   "cell_type": "code",
   "execution_count": 3,
   "id": "04e4f273-db0e-459e-a78d-293e2a5d0f36",
   "metadata": {},
   "outputs": [],
   "source": [
    "\n",
    "a=int(6)"
   ]
  },
  {
   "cell_type": "code",
   "execution_count": 4,
   "id": "a43f634c-4385-42ae-b054-60595907501a",
   "metadata": {},
   "outputs": [
    {
     "data": {
      "text/plain": [
       "int"
      ]
     },
     "execution_count": 4,
     "metadata": {},
     "output_type": "execute_result"
    }
   ],
   "source": [
    "type(a)"
   ]
  },
  {
   "cell_type": "code",
   "execution_count": 5,
   "id": "5d89eba4-b1a7-488e-ac5c-4d8e9acb76a7",
   "metadata": {},
   "outputs": [],
   "source": [
    "a=6.5"
   ]
  },
  {
   "cell_type": "code",
   "execution_count": 6,
   "id": "260a8014-d6a2-4792-9a25-786a76f08bb8",
   "metadata": {},
   "outputs": [
    {
     "data": {
      "text/plain": [
       "float"
      ]
     },
     "execution_count": 6,
     "metadata": {},
     "output_type": "execute_result"
    }
   ],
   "source": [
    "type(a)"
   ]
  },
  {
   "cell_type": "code",
   "execution_count": null,
   "id": "0469abb6-a758-4c0e-ba5c-e461560ba4cc",
   "metadata": {},
   "outputs": [],
   "source": []
  }
 ],
 "metadata": {
  "kernelspec": {
   "display_name": "Python 3 (ipykernel)",
   "language": "python",
   "name": "python3"
  },
  "language_info": {
   "codemirror_mode": {
    "name": "ipython",
    "version": 3
   },
   "file_extension": ".py",
   "mimetype": "text/x-python",
   "name": "python",
   "nbconvert_exporter": "python",
   "pygments_lexer": "ipython3",
   "version": "3.12.4"
  }
 },
 "nbformat": 4,
 "nbformat_minor": 5
}
