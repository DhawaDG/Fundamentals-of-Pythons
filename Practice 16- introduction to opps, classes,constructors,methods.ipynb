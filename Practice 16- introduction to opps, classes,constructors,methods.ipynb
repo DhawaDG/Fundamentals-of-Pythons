{
 "cells": [
  {
   "cell_type": "markdown",
   "id": "205a40fd-77fa-446f-9a86-790fe816101a",
   "metadata": {},
   "source": [
    "### Tutorial 17- introduction to opps, classes,constructors,methods\n"
   ]
  },
  {
   "cell_type": "code",
   "execution_count": 2,
   "id": "4b8c862f-4976-4aee-9871-4033c2ea2002",
   "metadata": {},
   "outputs": [
    {
     "ename": "NameError",
     "evalue": "name 'Car' is not defined",
     "output_type": "error",
     "traceback": [
      "\u001b[1;31m---------------------------------------------------------------------------\u001b[0m",
      "\u001b[1;31mNameError\u001b[0m                                 Traceback (most recent call last)",
      "Cell \u001b[1;32mIn[2], line 4\u001b[0m\n\u001b[0;32m      1\u001b[0m \u001b[38;5;66;03m#classes-- Real world Entity or Object\u001b[39;00m\n\u001b[0;32m      2\u001b[0m \u001b[38;5;66;03m#attributes--properties of the class\u001b[39;00m\n\u001b[0;32m      3\u001b[0m \u001b[38;5;66;03m#methods--action of the class\u001b[39;00m\n\u001b[1;32m----> 4\u001b[0m \u001b[38;5;28;43;01mclass\u001b[39;49;00m\u001b[43m \u001b[49m\u001b[38;5;21;43;01mCar\u001b[39;49;00m\u001b[43m:\u001b[49m\n\u001b[0;32m      5\u001b[0m \u001b[43m    \u001b[49m\u001b[38;5;28;43;01mpass\u001b[39;49;00m\n\u001b[0;32m      6\u001b[0m \u001b[43m    \u001b[49m\u001b[43mcar1\u001b[49m\u001b[38;5;241;43m=\u001b[39;49m\u001b[43mCar\u001b[49m\u001b[43m(\u001b[49m\u001b[43m)\u001b[49m\n",
      "Cell \u001b[1;32mIn[2], line 6\u001b[0m, in \u001b[0;36mCar\u001b[1;34m()\u001b[0m\n\u001b[0;32m      4\u001b[0m \u001b[38;5;28;01mclass\u001b[39;00m \u001b[38;5;21;01mCar\u001b[39;00m:\n\u001b[0;32m      5\u001b[0m     \u001b[38;5;28;01mpass\u001b[39;00m\n\u001b[1;32m----> 6\u001b[0m     car1\u001b[38;5;241m=\u001b[39m\u001b[43mCar\u001b[49m()\n\u001b[0;32m      7\u001b[0m     car2\u001b[38;5;241m=\u001b[39mCar()\n",
      "\u001b[1;31mNameError\u001b[0m: name 'Car' is not defined"
     ]
    }
   ],
   "source": [
    "#classes-- Real world Entity or Object\n",
    "#attributes--properties of the class\n",
    "#methods--action of the class\n",
    "class Car:\n",
    "    pass\n",
    "    car1=Car()\n",
    "    car2=Car()\n",
    "\n",
    "car1.windows=4\n",
    "car1.tyres=4\n",
    "car1.engine=\"diesel\"\n",
    "\n",
    "\n",
    "car2.windows=6\n",
    "car2.tyres=6\n",
    "car2.engine=\"petrol\"\n",
    "car2.seats\n",
    "\n",
    "\n",
    "\n",
    "#print(car1.engine)\n",
    "#print(car2.engine)\n"
   ]
  },
  {
   "cell_type": "code",
   "execution_count": 21,
   "id": "989660e6-dcec-4157-a17a-3b9f148095fc",
   "metadata": {},
   "outputs": [],
   "source": [
    "class Car:\n",
    "    #constructor\n",
    "    def __init__(self,windows,tyres,engine):\n",
    "        self.windows=windows\n",
    "        self.tyres=tyres\n",
    "        self.engine=engine\n",
    "\n",
    "    def self_driving(self):\n",
    "        print(\"The car type is {} engine\".format(self.engine))\n"
   ]
  },
  {
   "cell_type": "code",
   "execution_count": 16,
   "id": "d1749952-b304-49dc-87a6-4809bca1f949",
   "metadata": {},
   "outputs": [],
   "source": [
    "car1=Car(4,4,\"petrol\")"
   ]
  },
  {
   "cell_type": "code",
   "execution_count": 17,
   "id": "24bb8829-b5c4-409c-9108-e1d24f133dd5",
   "metadata": {},
   "outputs": [
    {
     "name": "stdout",
     "output_type": "stream",
     "text": [
      "4\n"
     ]
    }
   ],
   "source": [
    "print(car1.tyres)\n"
   ]
  },
  {
   "cell_type": "code",
   "execution_count": 18,
   "id": "6e74ae38-4ca3-47a9-aa70-2555bd28978b",
   "metadata": {},
   "outputs": [
    {
     "name": "stdout",
     "output_type": "stream",
     "text": [
      "petrol\n"
     ]
    }
   ],
   "source": [
    "print(car1.engine)"
   ]
  },
  {
   "cell_type": "code",
   "execution_count": 23,
   "id": "357fa9e8-29b1-4cbe-a981-394e4fe28c52",
   "metadata": {},
   "outputs": [
    {
     "name": "stdout",
     "output_type": "stream",
     "text": [
      "The no of tyres in object car1 is 4\n",
      "The no of tyres in windows car1 is 4\n",
      "The engine of  car1 is petrol engine\n",
      "The car type is petrol\n"
     ]
    }
   ],
   "source": [
    "print(\"The no of tyres in object car1 is {}\".format(car1.tyres))\n",
    "print(\"The no of tyres in windows car1 is {}\".format(car1.windows))\n",
    "print(\"The engine of  car1 is {} engine\".format(car1.engine))\n",
    "car1.self_driving()"
   ]
  },
  {
   "cell_type": "code",
   "execution_count": 24,
   "id": "ad4911b6-0be6-4f9a-83ba-e2092f64c58a",
   "metadata": {},
   "outputs": [],
   "source": [
    "\n"
   ]
  },
  {
   "cell_type": "code",
   "execution_count": 29,
   "id": "55d60f23-4db1-416b-bfaf-298c7e5e2b00",
   "metadata": {},
   "outputs": [
    {
     "ename": "NameError",
     "evalue": "name 'car' is not defined",
     "output_type": "error",
     "traceback": [
      "\u001b[1;31m---------------------------------------------------------------------------\u001b[0m",
      "\u001b[1;31mNameError\u001b[0m                                 Traceback (most recent call last)",
      "Cell \u001b[1;32mIn[29], line 1\u001b[0m\n\u001b[1;32m----> 1\u001b[0m car1\u001b[38;5;241m=\u001b[39m\u001b[43mcar\u001b[49m(\u001b[38;5;241m4\u001b[39m,\u001b[38;5;241m4\u001b[39m,\u001b[38;5;124m\"\u001b[39m\u001b[38;5;124mpetrol\u001b[39m\u001b[38;5;124m\"\u001b[39m)\n\u001b[0;32m      2\u001b[0m car1\u001b[38;5;241m.\u001b[39mself_driving(\u001b[38;5;124m\"\u001b[39m\u001b[38;5;124melectric\u001b[39m\u001b[38;5;124m\"\u001b[39m)\n",
      "\u001b[1;31mNameError\u001b[0m: name 'car' is not defined"
     ]
    }
   ],
   "source": [
    "\n",
    "car1=car(4,4,\"petrol\")\n",
    "car1.self_driving(\"electric\")"
   ]
  },
  {
   "cell_type": "code",
   "execution_count": null,
   "id": "ea0c73fa-48b0-42a1-b4cb-d44fda14e568",
   "metadata": {},
   "outputs": [],
   "source": []
  }
 ],
 "metadata": {
  "kernelspec": {
   "display_name": "Python 3 (ipykernel)",
   "language": "python",
   "name": "python3"
  },
  "language_info": {
   "codemirror_mode": {
    "name": "ipython",
    "version": 3
   },
   "file_extension": ".py",
   "mimetype": "text/x-python",
   "name": "python",
   "nbconvert_exporter": "python",
   "pygments_lexer": "ipython3",
   "version": "3.12.4"
  }
 },
 "nbformat": 4,
 "nbformat_minor": 5
}
