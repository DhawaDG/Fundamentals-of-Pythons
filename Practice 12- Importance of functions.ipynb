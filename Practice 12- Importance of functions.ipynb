{
 "cells": [
  {
   "cell_type": "markdown",
   "id": "1b1fd22b-3589-4a85-b017-d7435f0a2a03",
   "metadata": {},
   "source": [
    "### Practice 12- Importance of functions"
   ]
  },
  {
   "cell_type": "markdown",
   "id": "d33acb37-bc4f-4a7d-9988-d7358fb28f79",
   "metadata": {},
   "source": [
    "Why function?(Interview question\n",
    "1. to make code more readable\n",
    "2. to make code more efficient\n",
    "3. to make code more maintainable\n",
    "4. to make code more reusable\n",
    "5. to make code more extensible"
   ]
  },
  {
   "cell_type": "code",
   "execution_count": 1,
   "id": "ad8368b9-0976-4d26-aeb1-de70931270e1",
   "metadata": {},
   "outputs": [],
   "source": [
    "def welcome():\n",
    "    return\"Greeting from Dhawa Dorje Ghising\"\n",
    "\n"
   ]
  },
  {
   "cell_type": "code",
   "execution_count": 2,
   "id": "fb202fe2-44aa-44ce-b950-6ae9431ed57a",
   "metadata": {},
   "outputs": [],
   "source": [
    "msg=welcome()"
   ]
  },
  {
   "cell_type": "code",
   "execution_count": 3,
   "id": "15877af6-d504-4d2c-8b2c-f4fe1315c07f",
   "metadata": {},
   "outputs": [
    {
     "name": "stdout",
     "output_type": "stream",
     "text": [
      "Greeting from Dhawa Dorje Ghising\n"
     ]
    }
   ],
   "source": [
    "print(msg)"
   ]
  },
  {
   "cell_type": "code",
   "execution_count": 4,
   "id": "a6cd44a6-77ad-467c-a5ec-8f7b0e990f21",
   "metadata": {},
   "outputs": [
    {
     "name": "stdout",
     "output_type": "stream",
     "text": [
      "Greeting from Dhawa Dorje Ghisingand namaste\n"
     ]
    }
   ],
   "source": [
    "print(msg+ \"and namaste\")"
   ]
  },
  {
   "cell_type": "code",
   "execution_count": 5,
   "id": "6796d734-8df0-4989-af27-8ba717261a5d",
   "metadata": {},
   "outputs": [
    {
     "name": "stdout",
     "output_type": "stream",
     "text": [
      "Greeting from Dhawa Dorje Ghising and namaste\n"
     ]
    }
   ],
   "source": [
    "print(msg,\"and namaste\")\n"
   ]
  },
  {
   "cell_type": "code",
   "execution_count": 7,
   "id": "80dfc6fd-6007-4d13-b4cc-83eb1aa829f1",
   "metadata": {},
   "outputs": [],
   "source": [
    "def welcome():\n",
    "     \"\"\"\n",
    "\n",
    "     Description:\"This message will print welcome message\n",
    "\n",
    "     Return:This message will print welcome message\n",
    "     \"\"\"\n",
    "    return msg"
   ]
  },
  {
   "cell_type": "code",
   "execution_count": 10,
   "id": "b5ac46d8-cd3c-4b93-8abc-eed6e24335e9",
   "metadata": {},
   "outputs": [
    {
     "name": "stdout",
     "output_type": "stream",
     "text": [
      "None\n"
     ]
    }
   ],
   "source": [
    "print(welcome())"
   ]
  },
  {
   "cell_type": "code",
   "execution_count": 11,
   "id": "cf20d0c6-113a-42ea-8703-4a67a4f48797",
   "metadata": {},
   "outputs": [],
   "source": [
    "def even_odd_sum(lst):\n",
    "    \"\"\"\n",
    "    Description:This function will add even and odd number in a list\n",
    "\n",
    "    Return: This function will return the sum of even and odd number \n",
    "\n",
    "    \"\"\"\n",
    "    even_sum=0\n",
    "    odd_sum=0\n",
    "    for i in lst:\n",
    "        if i%2==0:\n",
    "            even_sum+=i\n",
    "        else:\n",
    "            odd_sum+=i\n",
    "    return even_sum,odd_sum"
   ]
  },
  {
   "cell_type": "code",
   "execution_count": null,
   "id": "af2e7780-7588-4267-8626-fd6495e66e38",
   "metadata": {},
   "outputs": [],
   "source": [
    "sum1,sum2=even_odd_sum([1,2,3,4,5,6,7,]"
   ]
  }
 ],
 "metadata": {
  "kernelspec": {
   "display_name": "Python 3 (ipykernel)",
   "language": "python",
   "name": "python3"
  },
  "language_info": {
   "codemirror_mode": {
    "name": "ipython",
    "version": 3
   },
   "file_extension": ".py",
   "mimetype": "text/x-python",
   "name": "python",
   "nbconvert_exporter": "python",
   "pygments_lexer": "ipython3",
   "version": "3.12.4"
  }
 },
 "nbformat": 4,
 "nbformat_minor": 5
}
